{
 "cells": [
  {
   "cell_type": "markdown",
   "id": "d223d97f",
   "metadata": {},
   "source": [
    "### `Классы, объекты, атрибуты классов:`\n",
    "---"
   ]
  },
  {
   "cell_type": "code",
   "execution_count": null,
   "id": "a6cd67df",
   "metadata": {
    "scrolled": true
   },
   "outputs": [],
   "source": [
    "print(type('Hello world'))"
   ]
  },
  {
   "cell_type": "code",
   "execution_count": null,
   "id": "cd3cd615",
   "metadata": {
    "scrolled": true
   },
   "outputs": [],
   "source": [
    "# при помощи функции dir мы можем посмотреть все методы и атрибута класса\n",
    "print(dir(str))"
   ]
  },
  {
   "cell_type": "markdown",
   "id": "2126afcd",
   "metadata": {},
   "source": [
    "*Создание пустого класса.*"
   ]
  },
  {
   "cell_type": "code",
   "execution_count": null,
   "id": "69c54161",
   "metadata": {},
   "outputs": [],
   "source": [
    "class Music_Band:\n",
    "    pass"
   ]
  },
  {
   "cell_type": "markdown",
   "id": "cfed9d82",
   "metadata": {},
   "source": [
    ">*`Объект` (сущность, экземпляр) - отдельный представитель класса, имеющий конкретное состояние и поведение полностью определяемое классом.*"
   ]
  },
  {
   "cell_type": "code",
   "execution_count": null,
   "id": "b62d622e",
   "metadata": {},
   "outputs": [],
   "source": [
    "Metallica = Music_Band()"
   ]
  },
  {
   "cell_type": "markdown",
   "id": "209b0e13",
   "metadata": {},
   "source": [
    "> *`Атрибуты` - переменные внутри класса, которая хранит какую-то информацию, о нем.*"
   ]
  },
  {
   "cell_type": "code",
   "execution_count": null,
   "id": "f1389b18",
   "metadata": {},
   "outputs": [],
   "source": [
    "class Music_Band:\n",
    "    foundation_year = None\n",
    "    style = 'Стиль не указан.'\n",
    "    members = 1\n",
    "    rating_position = None"
   ]
  },
  {
   "cell_type": "code",
   "execution_count": null,
   "id": "a68abf19",
   "metadata": {
    "scrolled": false
   },
   "outputs": [],
   "source": [
    "# а где хранятся все атрибуты после объявления класса?\n",
    "\n",
    "print(Music_Band.__dict__)"
   ]
  },
  {
   "cell_type": "code",
   "execution_count": null,
   "id": "8a3f501b",
   "metadata": {
    "scrolled": true
   },
   "outputs": [],
   "source": [
    "# при вызове класса мы всегда создаем новый объект\n",
    "# у конкретного экземпляра будут все те же атрибуты, что и у его класса\n",
    "\n",
    "Metallica = Music_Band()\n",
    "\n",
    "print(Metallica.foundation_year)\n",
    "print(Metallica.style)\n",
    "print(Metallica.members)\n",
    "print(Metallica.rating_position)\n",
    "\n",
    "# они берутся именно из Character.__dict__ (т.к. не менялись)\n",
    "print(Metallica.__dict__)"
   ]
  },
  {
   "cell_type": "code",
   "execution_count": null,
   "id": "ab632dfd",
   "metadata": {},
   "outputs": [],
   "source": [
    "# мы можем экземпляру присвоить свои атрибуты\n",
    "\n",
    "Metallica.foundation_year = 1981\n",
    "Metallica.style = 'Trash Metal'\n",
    "Metallica.members = 4\n",
    "Metallica.rating_position = 1\n",
    "\n",
    "print(Metallica.foundation_year)\n",
    "print(Metallica.style)\n",
    "print(Metallica.members)\n",
    "print(Metallica.rating_position)"
   ]
  },
  {
   "cell_type": "code",
   "execution_count": null,
   "id": "06bdb368",
   "metadata": {},
   "outputs": [],
   "source": [
    "# и даже те, которых изначально в классе нет\n",
    "Metallica.departed_member = 'Клифф Бёртон'\n",
    "Metallica.former_member = 'Дэйв Мастейн'\n",
    "Metallica.new_member = 'Роберт Трухильо'\n",
    "\n",
    "print(Metallica.departed_member)\n",
    "print(Metallica.former_member)\n",
    "print(Metallica.new_member)"
   ]
  },
  {
   "cell_type": "code",
   "execution_count": null,
   "id": "9b868799",
   "metadata": {},
   "outputs": [],
   "source": [
    "# измененные атрибуты уже будут храниться в словаре самого экземпляра\n",
    "print(Metallica.__dict__)"
   ]
  },
  {
   "cell_type": "markdown",
   "id": "df308e0f",
   "metadata": {},
   "source": [
    "> *При обращении к объекту класса с помошью метода `__dict__` **Python** изначально будет искать атрибуты, которые были присвоены конкретному `объекту` класса и если они не заданы, то поиск перейдет на уровень выше к `атрибутам самого класса`.*"
   ]
  },
  {
   "cell_type": "code",
   "execution_count": null,
   "id": "21c1b548",
   "metadata": {
    "scrolled": true
   },
   "outputs": [],
   "source": [
    "# создадим еще один экземпляр класса\n",
    "IronMaiden = Music_Band()\n",
    "IronMaiden.foundation_year = 1975\n",
    "IronMaiden.style = 'Heavy Metal.'\n",
    "IronMaiden.members = 6\n",
    "IronMaiden.rating_position = 2\n",
    "print(IronMaiden.__dict__)"
   ]
  },
  {
   "cell_type": "markdown",
   "id": "7a454993",
   "metadata": {},
   "source": [
    "### `Методы класса:`\n",
    "---"
   ]
  },
  {
   "cell_type": "markdown",
   "id": "174f266b",
   "metadata": {},
   "source": [
    "> *`Метод` - функция, созданная внутри класа.*\n",
    "\n",
    "> *`Интерфейс` - совокупность всех методов класса, доступных для использования. Способ взаимодействия с классом.*"
   ]
  },
  {
   "cell_type": "markdown",
   "id": "bf9f071b",
   "metadata": {},
   "source": [
    "*Придумаем метод для нашего класса:*"
   ]
  },
  {
   "cell_type": "code",
   "execution_count": null,
   "id": "941d8c29",
   "metadata": {},
   "outputs": [],
   "source": [
    "class Music_Band:\n",
    "    foundation_year = None\n",
    "    style = 'Стиль не указан.'\n",
    "    members = 1\n",
    "    rating_position = None\n",
    "    \n",
    "# мы видим, что аргумент self ссылается на конкретный экземпляр класса (который еще не создан).\n",
    "# Его обязательно нужно прописывать, чтобы показывать то, \n",
    "# что все действия будут происходить именно с тем объектом, к которому мы применяем метод\n",
    "\n",
    "    def recruting(self):\n",
    "        \n",
    "        if self.members < 2:\n",
    "            print('В группе должно быть более одного музыканта!')\n",
    "        else:\n",
    "            print('Вы группа музыкантов!')\n",
    "    \n",
    "    def change_alias(self, new_alias):\n",
    "        print(self) # просто посмотрим, для чего тут self?\n",
    "        self.alias = new_alias"
   ]
  },
  {
   "cell_type": "code",
   "execution_count": null,
   "id": "5abdd23a",
   "metadata": {},
   "outputs": [],
   "source": [
    "#Создадим еще одну группу:\n",
    "RedHotChiliPeppers = Music_Band()\n",
    "print(RedHotChiliPeppers.__dict__)"
   ]
  },
  {
   "cell_type": "code",
   "execution_count": null,
   "id": "7f330a72",
   "metadata": {
    "scrolled": true
   },
   "outputs": [],
   "source": [
    "RedHotChiliPeppers.foundation_year = 1983\n",
    "RedHotChiliPeppers.style = 'Rock'\n",
    "RedHotChiliPeppers.members = 4\n",
    "print(RedHotChiliPeppers.__dict__)"
   ]
  },
  {
   "cell_type": "code",
   "execution_count": null,
   "id": "71390946",
   "metadata": {},
   "outputs": [],
   "source": [
    "# пока нет псевдонима\n",
    "print(RedHotChiliPeppers.alias)"
   ]
  },
  {
   "cell_type": "code",
   "execution_count": null,
   "id": "1889ee6d",
   "metadata": {
    "scrolled": false
   },
   "outputs": [],
   "source": [
    "#Присвоим значение RHCP атрибуту alias объекта RedHotChiliPeppers класса Music_Band:  \n",
    "RedHotChiliPeppers.change_alias('RHCP')\n",
    "print(RedHotChiliPeppers.alias)"
   ]
  },
  {
   "cell_type": "markdown",
   "id": "575ab677",
   "metadata": {},
   "source": [
    ">`<__main__.Music_Band object at 0x0000026AC888B790>` *результат работы функции `print(Self)` в методе `change_alias`, так выглядит ссылка на объект `RedHotChiliPeppers` в оперативной памяти. В данном примере использован просто для наглядности.*"
   ]
  },
  {
   "cell_type": "code",
   "execution_count": null,
   "id": "da9fea2e",
   "metadata": {},
   "outputs": [],
   "source": [
    "#Проверим еще один метод класса Music_Band:\n",
    "RedHotChiliPeppers.recruting(RedHotChiliPeppers.members)"
   ]
  },
  {
   "cell_type": "code",
   "execution_count": null,
   "id": "51721d7b",
   "metadata": {},
   "outputs": [],
   "source": [
    "#Представим что 3 из 4 музыкантов покинули группу:\n",
    "RedHotChiliPeppers.members = 1\n",
    "RedHotChiliPeppers.recruting(RedHotChiliPeppers.members)"
   ]
  },
  {
   "cell_type": "markdown",
   "id": "a462551c",
   "metadata": {},
   "source": [
    "### `Проблема с инициализацией параметров изменяемыми типами:`\n",
    "---"
   ]
  },
  {
   "cell_type": "code",
   "execution_count": null,
   "id": "d31ef61d",
   "metadata": {},
   "outputs": [],
   "source": [
    "#Создадим еще один атрибут класса с изменяемым типом данных list (список):\n",
    "class Music_Band:\n",
    "    foundation_year = None\n",
    "    style = 'Стиль не указан.'\n",
    "    members = 1\n",
    "    rating_position = None\n",
    "    rider = []"
   ]
  },
  {
   "cell_type": "code",
   "execution_count": null,
   "id": "efdef298",
   "metadata": {},
   "outputs": [],
   "source": [
    "IronMaiden = Music_Band()\n",
    "Slipknot = Music_Band()"
   ]
  },
  {
   "cell_type": "code",
   "execution_count": null,
   "id": "fb94e8a2",
   "metadata": {
    "scrolled": true
   },
   "outputs": [],
   "source": [
    "#Присвоим значение атрибуту rider\n",
    "IronMaiden.rider.append('a lot of Alcohol')\n",
    "\n",
    "# значение инициализируется при создании класса, а изменяемые типы ссылаются на один и тот же объект в памяти\n",
    "# т.е. они будут общими у экземпляров класса. \n",
    "# Поэтому никогда не нужно делать изменяемые типы значениями по-умолчанию\n",
    "print(IronMaiden.rider, '- райдер группы IronMaiden')\n",
    "print(Slipknot.rider, '- райдер группы Slipknot')"
   ]
  },
  {
   "cell_type": "markdown",
   "id": "b6490e60",
   "metadata": {},
   "source": [
    "### `Магический метод __init__`\n",
    "---"
   ]
  },
  {
   "cell_type": "markdown",
   "id": "7aa33371",
   "metadata": {},
   "source": [
    "Магический метод __init__ позволяет задать атрибуты при инициализации экземпляра класса, а также решить проблему, указанную выше"
   ]
  },
  {
   "cell_type": "code",
   "execution_count": 8,
   "id": "23d9e8cf",
   "metadata": {},
   "outputs": [
    {
     "name": "stdout",
     "output_type": "stream",
     "text": [
      "{'__module__': '__main__', '__init__': <function Music_Band.__init__ at 0x0000022B33C7C0D0>, '__dict__': <attribute '__dict__' of 'Music_Band' objects>, '__weakref__': <attribute '__weakref__' of 'Music_Band' objects>, '__doc__': None}\n"
     ]
    }
   ],
   "source": [
    "class Music_Band:\n",
    "    #Все атрибуты в методе __init__ создаются для объекта класса в момент инициализации\n",
    "    def __init__(self, name, style):\n",
    "         # параметром по-умолчанию rider делать не будем, чтобы он не был общим\n",
    "        self.name = name\n",
    "        self.style = style\n",
    "        self.rider = [] # будем присваивать пустой список именно для КОНКРЕТНОГО экземпляра при создании (self)\n",
    "''' \n",
    "При таком подходе к инициализации объектов класса, мы видим, что атрибутов характеризиующих объект в самом классе \n",
    "не содержится, как это было до применения магичесского метода __init__\n",
    "'''\n",
    "print(Music_Band.__dict__)"
   ]
  },
  {
   "cell_type": "code",
   "execution_count": 9,
   "id": "303aa928",
   "metadata": {},
   "outputs": [],
   "source": [
    "# теперь при создании экземпляра класса нам надо обязательно передать аргументы\n",
    "group_1 = Music_Band('Slayer', 'TrashMetal')\n",
    "group_2 = Music_Band('Queen', 'Rock')"
   ]
  },
  {
   "cell_type": "code",
   "execution_count": 10,
   "id": "69165d29",
   "metadata": {},
   "outputs": [
    {
     "name": "stdout",
     "output_type": "stream",
     "text": [
      "{'name': 'Slayer', 'style': 'TrashMetal', 'rider': []}\n",
      "{'name': 'Queen', 'style': 'Rock', 'rider': []}\n"
     ]
    }
   ],
   "source": [
    "# при таком раскладе (init) все атрибуты сразу же попадают в словарь экземпляра (а не только измененные)\n",
    "print(group_1.__dict__)\n",
    "print(group_2.__dict__)"
   ]
  },
  {
   "cell_type": "code",
   "execution_count": 12,
   "id": "1bcf5728",
   "metadata": {
    "scrolled": true
   },
   "outputs": [],
   "source": [
    "# плюс мы решим проблемы общих изменяемых атрибутов\n",
    "group_1.rider.append('a lot of Alcohol')\n",
    "group_2.rider.append('not much Alcohol')\n"
   ]
  },
  {
   "cell_type": "code",
   "execution_count": 13,
   "id": "f48ee593",
   "metadata": {},
   "outputs": [
    {
     "name": "stdout",
     "output_type": "stream",
     "text": [
      "['a lot of Alcohol']\n",
      "['not much Alcohol']\n"
     ]
    }
   ],
   "source": [
    "#Теперь в каждом объекте класса значение атрибута rider будет своим.\n",
    "print(group_1.rider)\n",
    "print(group_2.rider)"
   ]
  },
  {
   "cell_type": "markdown",
   "id": "dfb893d5",
   "metadata": {},
   "source": [
    "> *Итого: в `__init__` будем прописывать то, что хотим задавать при инициализации экзмепляров класса. Все атрибуты с изменямыми значениями по-умолчанию, которые по плану будут общие для всех экзмепляров можно прописывать без него*"
   ]
  },
  {
   "cell_type": "code",
   "execution_count": 33,
   "id": "128dfe30",
   "metadata": {},
   "outputs": [
    {
     "name": "stdout",
     "output_type": "stream",
     "text": [
      "{'__module__': '__main__', 'body': 1, 'wheels': 4, 'doors': 4, '__init__': <function auto.__init__ at 0x0000022B33CB2A60>, '__dict__': <attribute '__dict__' of 'auto' objects>, '__weakref__': <attribute '__weakref__' of 'auto' objects>, '__doc__': None}\n",
      "-------------------------------------------------------------------------------------------------------------------------------\n",
      "1\n",
      "4\n",
      "4\n",
      "-------------------------------------------------------------------------------------------------------------------------------\n",
      "{'color': 'баклажан'}\n"
     ]
    }
   ],
   "source": [
    "#Еще один пример комбинированного подхода:\n",
    "class auto:\n",
    "    #Данные атрибуты создаются при инициализации класса\n",
    "    body = 1\n",
    "    wheels = 4\n",
    "    doors = 4\n",
    "    def __init__(self, color): #Данные атрибуты так же создаются при инициализации класса\n",
    "        self.color = color  #Данный атрибут создаются при инициализации объекта класса\n",
    "Lada = auto('баклажан')\n",
    "\n",
    "print(auto.__dict__)\n",
    "print('------------------------------------------------------------------------------------',\n",
    "      '-------------------------------------------', sep='')\n",
    "print(Lada.body)\n",
    "print(Lada.wheels)\n",
    "print(Lada.doors)\n",
    "print('------------------------------------------------------------------------------------',\n",
    "      '-------------------------------------------', sep='')\n",
    "print(Lada.__dict__)"
   ]
  },
  {
   "cell_type": "markdown",
   "id": "84e6f83d",
   "metadata": {},
   "source": [
    "### `Взаимодействия классов: посмотрим на основе сложения:`\n",
    "---"
   ]
  },
  {
   "cell_type": "code",
   "execution_count": 35,
   "id": "a73cc301",
   "metadata": {},
   "outputs": [],
   "source": [
    "num_1 = 5\n",
    "num_2 = 10"
   ]
  },
  {
   "cell_type": "code",
   "execution_count": 37,
   "id": "59cfd40c",
   "metadata": {
    "scrolled": true
   },
   "outputs": [
    {
     "name": "stdout",
     "output_type": "stream",
     "text": [
      "<class 'int'>\n",
      "<class 'int'>\n"
     ]
    }
   ],
   "source": [
    "# числа являются экземплярами класса int\n",
    "print(type(num_1))\n",
    "print(type(num_2))"
   ]
  },
  {
   "cell_type": "code",
   "execution_count": 38,
   "id": "fc9180cd",
   "metadata": {},
   "outputs": [
    {
     "name": "stdout",
     "output_type": "stream",
     "text": [
      "15\n"
     ]
    }
   ],
   "source": [
    "print(num_1 + num_2)"
   ]
  },
  {
   "cell_type": "code",
   "execution_count": 39,
   "id": "87c23541",
   "metadata": {},
   "outputs": [
    {
     "name": "stdout",
     "output_type": "stream",
     "text": [
      "15\n"
     ]
    }
   ],
   "source": [
    "# на самом деле происходит следующее\n",
    "print(num_1.__add__(num_2))"
   ]
  },
  {
   "cell_type": "code",
   "execution_count": 59,
   "id": "10c1beaa",
   "metadata": {},
   "outputs": [],
   "source": [
    "class Music_Band:\n",
    "    rating = None\n",
    "    status = None\n",
    "    \n",
    "    # в методы мы без проблем можем передавать другие объекты и с ними взаимодействовать\n",
    "    def concert(self, another_group):\n",
    "        if not isinstance(another_group, Music_Band): # проверка является ли объект экземпляром указанного класса\n",
    "            return\n",
    "        if self.rating > another_group.rating:\n",
    "            self.status = 'Хэдлайнер конценрта'\n",
    "            another_group.status = 'Играют на разогреве.'\n",
    "        else:\n",
    "            self.status = 'Играют на разогреве.' \n",
    "            another_group.status = 'Хэдлайнер конценрта'\n",
    "            \n",
    "#Инициализируем объекты класса:       \n",
    "U2 = Music_Band()\n",
    "ABBA = Music_Band()\n"
   ]
  },
  {
   "cell_type": "code",
   "execution_count": 62,
   "id": "07b538ac",
   "metadata": {},
   "outputs": [
    {
     "name": "stdout",
     "output_type": "stream",
     "text": [
      "Играют на разогреве.\n",
      "Хэдлайнер конценрта\n"
     ]
    }
   ],
   "source": [
    "#Присваиваем значения рейтинга:   \n",
    "U2.rating = 77\n",
    "ABBA.rating = 99\n",
    "\n",
    "#Вызываем метод сравнения рейтинга и определения порядка выступления на концерте для группы U2:\n",
    "U2.concert(ABBA)\n",
    "\n",
    "#Получаем результаты:\n",
    "print(U2.status)\n",
    "print(ABBA.status)"
   ]
  },
  {
   "cell_type": "code",
   "execution_count": 65,
   "id": "f8f7c287",
   "metadata": {},
   "outputs": [
    {
     "name": "stdout",
     "output_type": "stream",
     "text": [
      "Хэдлайнер конценрта\n",
      "Играют на разогреве.\n"
     ]
    }
   ],
   "source": [
    "#Изменим рейтинги:\n",
    "U2.rating = 99\n",
    "ABBA.rating = 77\n",
    "\n",
    "#Повторно вызываем метод сравнения рейтинга и определения порядка выступления на концерте, но уже для группы ABBA:\n",
    "ABBA.concert(U2)\n",
    "\n",
    "#Получаем результаты:\n",
    "print(U2.status)\n",
    "print(ABBA.status)"
   ]
  },
  {
   "cell_type": "code",
   "execution_count": null,
   "id": "865425c5",
   "metadata": {},
   "outputs": [],
   "source": []
  }
 ],
 "metadata": {
  "kernelspec": {
   "display_name": "Python 3 (ipykernel)",
   "language": "python",
   "name": "python3"
  },
  "language_info": {
   "codemirror_mode": {
    "name": "ipython",
    "version": 3
   },
   "file_extension": ".py",
   "mimetype": "text/x-python",
   "name": "python",
   "nbconvert_exporter": "python",
   "pygments_lexer": "ipython3",
   "version": "3.9.13"
  }
 },
 "nbformat": 4,
 "nbformat_minor": 5
}
