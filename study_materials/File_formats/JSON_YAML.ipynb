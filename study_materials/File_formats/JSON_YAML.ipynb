{
 "cells": [
  {
   "cell_type": "markdown",
   "id": "502c6720",
   "metadata": {},
   "source": [
    "*Последние изменения внесены 13.03.2023*"
   ]
  },
  {
   "cell_type": "markdown",
   "id": "9d73addf",
   "metadata": {},
   "source": [
    "# Сериализация и Десереализация."
   ]
  },
  {
   "cell_type": "markdown",
   "id": "df154417",
   "metadata": {},
   "source": [
    "> `Сериализация` — процесс преобразования объекта в поток байтов для сохранения или передачи в память, базу данных или файл. Эта операция предназначена для того, чтобы сохранить состояния объекта для последующего воссоздания при необходимости. Обратный процесс называется десериализацией."
   ]
  },
  {
   "cell_type": "markdown",
   "id": "eb667171",
   "metadata": {},
   "source": [
    "# JSON файлы."
   ]
  },
  {
   "cell_type": "markdown",
   "id": "083b75fc",
   "metadata": {},
   "source": [
    "### JSON - JavaScript Object Notation"
   ]
  },
  {
   "cell_type": "markdown",
   "id": "967ec103",
   "metadata": {},
   "source": [
    "`JSON файлы`:\n",
    "\n",
    "* Синтаксически и функционально является подмножеством языка YAML\n",
    "* Файлы имеют \"Древовидную\" структуру, максимально похожие на словари в Python итд. \n",
    "* Основное применение: Базы данных и выгрузки данных. (в т.ч. bson)\n",
    "* Так же применячется для передачи данных клиент <-> сервер.\n",
    "* Самый популярный и простой в использовании формат для Python и Java программистов\n"
   ]
  },
  {
   "cell_type": "markdown",
   "id": "b00bc899",
   "metadata": {},
   "source": [
    "Основые моменты работы с `JSON` файлами:\n",
    "    \n",
    "**Десериализация (читаем файл)**\n",
    "\n",
    "Из файла: \n",
    "\n",
    "   * `json.load(file)`\n",
    "\n",
    "Из строки:\n",
    "    \n",
    "   * `json.loads(str)`\n",
    "\n",
    "**Сериализация (сохраняем файл)**\n",
    "\n",
    "В файл: \n",
    "\n",
    "   * `json.dump(str, file_name)`\n",
    "    \n",
    "В строку: \n",
    "\n",
    "   * `json.dumps(data, file_name)`\n",
    "\n",
    "**Печать не-ascii символов, отступы:**\n",
    "\n",
    "   * `ensure_ascii=False, indent=2` "
   ]
  },
  {
   "cell_type": "markdown",
   "id": "e8b299d1",
   "metadata": {},
   "source": [
    "## json.load()"
   ]
  },
  {
   "cell_type": "markdown",
   "id": "a8d9d526",
   "metadata": {},
   "source": [
    "Прочтем содержимое файла `newsafr.json` и преобразуем его содержимое в словарь Python:\n",
    "\n",
    "\n",
    "**Выполним код:**\n",
    "```python\n",
    "import json\n",
    "from pprint import pprint\n",
    "\n",
    "with open('newsafr.json') as f:\n",
    "    file_data = json.load(f)\n",
    "print(type(file_data))\n",
    "pprint(file_data)\n",
    "```\n",
    "\n",
    "_Результаты:_\n",
    "\n",
    "<class 'dict'>\n",
    "\n",
    "```\n",
    "{'rss': {'_version': '2.0',\n",
    "         '_xmlns:votpusk': 'https://www.votpusk.ru/news.asp',\n",
    "         'channel': {'category': 'Туризм - Африка',\n",
    "                     'description': 'Африка - Лента туристических новостей '\n",
    "                                    'портала В ОТПУСК.РУ ',\n",
    "                     'items': [{'_id': '544347',\n",
    "                                'description': 'Содержание новости',\n",
    "                                'guid': 'https://www.votpusk.ru/news.asp?msg=544347',\n",
    "                                'link': 'https://www.votpusk.ru/news.asp?msg=544347 ',\n",
    "                                'pubDate': 'Mon, 17 Oct 2016 00:28 +0300',\n",
    "                                'title': 'Израильский турист погиб в ДТП в '\n",
    "                                         'Африке'},\n",
    "                               {'_id': '537417',\n",
    "                                'description': 'Содержание новости',\n",
    "                                'guid': 'https://www.votpusk.ru/news.asp?msg=537417',\n",
    "                                'link': 'https://www.votpusk.ru/news.asp?msg=537417 ',\n",
    "                                'pubDate': 'Thu, 17 Dec 2015 19:13 +0300',\n",
    "                                'title': 'Ростуризм просит турбизнес сообщать '\n",
    "                                         'людям о риске заражения в Африке'},\n",
    "                               {'_id': '534896',\n",
    "                                'description': 'Содержание новости',\n",
    "                                'guid': 'https://www.votpusk.ru/news.asp?msg=534896',\n",
    "                                'pubDate': 'Wed, 16 Sep 2015 14:36 +0300',\n",
    "                                'title': 'Открытие сафари кемпа Belmond Eagle '\n",
    "                                         'Island Lodge в Ботсване после '\n",
    "                                         'реновации'}],\n",
    "                     'language': 'ru',\n",
    "                     'lastBuildDate': 'Thu, 1 Dec 2016 17:27 +0300 ',\n",
    "                     'link': 'https://www.votpusk.ru/news.asp',\n",
    "                     'title': 'Новости Африка'}}}\n",
    "```\n",
    "* В результате открытия и чтения файла 'newsafr.json' в переменную file_data мы поместили словарь, к которому мы можем применять все методы обработки данного класса и выполнять различные действия по работе и обработки данных."
   ]
  },
  {
   "cell_type": "markdown",
   "id": "e85d9880",
   "metadata": {},
   "source": [
    "**В качестве примера: дополним код, выедем все заголовки и посчитаем кол-во новостей:***"
   ]
  },
  {
   "cell_type": "markdown",
   "id": "984deca7",
   "metadata": {},
   "source": [
    "```python\n",
    "import json\n",
    "\n",
    "with open('newsafr.json') as f:\n",
    "    file_data = json.load(f)\n",
    "\n",
    "work_list = file_data['rss']['channel']['items']\n",
    "count = 0\n",
    "for elem in work_list:\n",
    "    count += 1\n",
    "    print(elem['title'])\n",
    "print(count)\n",
    "```"
   ]
  },
  {
   "cell_type": "markdown",
   "id": "e3b3063b",
   "metadata": {},
   "source": [
    "*Получим результат:*\n",
    "```\n",
    "Израильский турист погиб в ДТП в Африке\n",
    "Ростуризм просит турбизнес сообщать людям о риске заражения в Африке\n",
    "Открытие сафари кемпа Belmond Eagle Island Lodge в Ботсване после реновации\n",
    "3\n",
    "```"
   ]
  },
  {
   "cell_type": "markdown",
   "id": "37056008",
   "metadata": {},
   "source": [
    "## json.dump()"
   ]
  },
  {
   "cell_type": "markdown",
   "id": "1d144c59",
   "metadata": {},
   "source": [
    "Запишем содержимое файла `newsafr.json` в новый файл `new.json`:"
   ]
  },
  {
   "cell_type": "markdown",
   "id": "ba0ac80a",
   "metadata": {},
   "source": [
    "**Выполним код:**\n",
    "```python\n",
    "\n",
    "import json\n",
    "\n",
    "with open('newsafr.json') as f:\n",
    "    file_data = json.load(f)\n",
    "\n",
    "with open('new.json', 'w') as new_f:\n",
    "    json.dump(file_data, new_f)\n",
    "    \n",
    "```"
   ]
  },
  {
   "cell_type": "markdown",
   "id": "98210189",
   "metadata": {},
   "source": [
    "В результате получим файл `new.json` с содержимым:\n",
    "```\n",
    "{\"rss\": {\"_xmlns:votpusk\": \"https://www.votpusk.ru/news.asp\", \"_version\": \"2.0\", \"channel\": {\"description\": \"\\u0410\\u0444\\u0440\\u0438\\u043a\\u0430 - \\u041b\\u0435\\u043d\\u0442\\u0430 \\u0442\\u0443\\u0440\\u0438\\u0441\\u0442\\u0438\\u0447\\u0435\\u0441\\u043a\\u0438\\u0445 \\u043d\\u043e\\u0432\\u043e\\u0441\\u0442\\u0435\\u0439 \\u043f\\u043e\\u0440\\u0442\\u0430\\u043b\\u0430 \\u0412 \\u041e\\u0422\\u041f\\u0423\\u0421\\u041a.\\u0420\\u0423 \", \"lastBuildDate\": \"Thu, 1 Dec 2016 17:27 +0300 \", \"items\": [{\"guid\": \"https://www.votpusk.ru/news.asp?msg=544347\", \"_id\": \"544347\", \"pubDate\": \"Mon, 17 Oct 2016 00:28 +0300\", \"description\": \"\\u0421\\u043e\\u0434\\u0435\\u0440\\u0436\\u0430\\u043d\\u0438\\u0435 \\u043d\\u043e\\u0432\\u043e\\u0441\\u0442\\u0438\", \"link\": \"https://www.votpusk.ru/news.asp?msg=544347 \", \"title\": \"\\u0418\\u0437\\u0440\\u0430\\u0438\\u043b\\u044c\\u0441\\u043a\\u0438\\u0439 \\u0442\\u0443\\u0440\\u0438\\u0441\\u0442 \\u043f\\u043e\\u0433\\u0438\\u0431 \\u0432 \\u0414\\u0422\\u041f \\u0432 \\u0410\\u0444\\u0440\\u0438\\u043a\\u0435\"}, {\"guid\": \"https://www.votpusk.ru/news.asp?msg=537417\", \"_id\": \"537417\", \"pubDate\": \"Thu, 17 Dec 2015 19:13 +0300\", \"description\": \"\\u0421\\u043e\\u0434\\u0435\\u0440\\u0436\\u0430\\u043d\\u0438\\u0435 \\u043d\\u043e\\u0432\\u043e\\u0441\\u0442\\u0438\", \"link\": \"https://www.votpusk.ru/news.asp?msg=537417 \", \"title\": \"\\u0420\\u043e\\u0441\\u0442\\u0443\\u0440\\u0438\\u0437\\u043c \\u043f\\u0440\\u043e\\u0441\\u0438\\u0442 \\u0442\\u0443\\u0440\\u0431\\u0438\\u0437\\u043d\\u0435\\u0441 \\u0441\\u043e\\u043e\\u0431\\u0449\\u0430\\u0442\\u044c \\u043b\\u044e\\u0434\\u044f\\u043c \\u043e \\u0440\\u0438\\u0441\\u043a\\u0435 \\u0437\\u0430\\u0440\\u0430\\u0436\\u0435\\u043d\\u0438\\u044f \\u0432 \\u0410\\u0444\\u0440\\u0438\\u043a\\u0435\"}, {\"guid\": \"https://www.votpusk.ru/news.asp?msg=534896\", \"_id\": \"534896\", \"pubDate\": \"Wed, 16 Sep 2015 14:36 +0300\", \"description\": \"\\u0421\\u043e\\u0434\\u0435\\u0440\\u0436\\u0430\\u043d\\u0438\\u0435 \\u043d\\u043e\\u0432\\u043e\\u0441\\u0442\\u0438\", \"link\": \"https://www.votpusk.ru/news.asp?msg=534896 \", \"title\": \"\\u041e\\u0442\\u043a\\u0440\\u044b\\u0442\\u0438\\u0435 \\u0441\\u0430\\u0444\\u0430\\u0440\\u0438 \\u043a\\u0435\\u043c\\u043f\\u0430 Belmond Eagle Island Lodge \\u0432 \\u0411\\u043e\\u0442\\u0441\\u0432\\u0430\\u043d\\u0435 \\u043f\\u043e\\u0441\\u043b\\u0435 \\u0440\\u0435\\u043d\\u043e\\u0432\\u0430\\u0446\\u0438\\u0438\"}], \"category\": \"\\u0422\\u0443\\u0440\\u0438\\u0437\\u043c - \\u0410\\u0444\\u0440\\u0438\\u043a\\u0430\", \"language\": \"ru\", \"link\": \"https://www.votpusk.ru/news.asp\", \"title\": \"\\u041d\\u043e\\u0432\\u043e\\u0441\\u0442\\u0438 \\u0410\\u0444\\u0440\\u0438\\u043a\\u0430\"}}}\n",
    "```\n",
    "* **Python** по умолчанию превратил все символы кириллицы в **unicod**.\n",
    "* Так же мы не задали параметры форматирования для более удобного отображения данных.\n",
    "* Решить данные проблемы мы можем использовав параметры `ensure_ascii=False` и `indent=2`"
   ]
  },
  {
   "cell_type": "markdown",
   "id": "bf0682c6",
   "metadata": {},
   "source": [
    "### используем параметры `ensure_ascii=False` и `indent=2`"
   ]
  },
  {
   "cell_type": "markdown",
   "id": "4f9ab77e",
   "metadata": {},
   "source": [
    "**Выполним код:**\n",
    "```python\n",
    "\n",
    "import json\n",
    "\n",
    "with open('newsafr.json') as f:\n",
    "    file_data = json.load(f)\n",
    "\n",
    "with open('new.json', 'w') as new_f:\n",
    "    json.dump(file_data, new_f, ensure_ascii=False, indent=2)\n",
    "    \n",
    "```"
   ]
  },
  {
   "cell_type": "markdown",
   "id": "bc734fa0",
   "metadata": {},
   "source": [
    "В результате получим файл `new.json` с содержимым:\n",
    "```\n",
    "{\n",
    "  \"rss\": {\n",
    "    \"_xmlns:votpusk\": \"https://www.votpusk.ru/news.asp\",\n",
    "    \"_version\": \"2.0\",\n",
    "    \"channel\": {\n",
    "      \"description\": \"Африка - Лента туристических новостей портала В ОТПУСК.РУ \",\n",
    "      \"lastBuildDate\": \"Thu, 1 Dec 2016 17:27 +0300 \",\n",
    "      \"items\": [\n",
    "        {\n",
    "          \"guid\": \"https://www.votpusk.ru/news.asp?msg=544347\",\n",
    "          \"_id\": \"544347\",\n",
    "          \"pubDate\": \"Mon, 17 Oct 2016 00:28 +0300\",\n",
    "          \"description\": \"Содержание новости\",\n",
    "          \"link\": \"https://www.votpusk.ru/news.asp?msg=544347 \",\n",
    "          \"title\": \"Израильский турист погиб в ДТП в Африке\"\n",
    "        },\n",
    "        {\n",
    "          \"guid\": \"https://www.votpusk.ru/news.asp?msg=537417\",\n",
    "          \"_id\": \"537417\",\n",
    "          \"pubDate\": \"Thu, 17 Dec 2015 19:13 +0300\",\n",
    "          \"description\": \"Содержание новости\",\n",
    "          \"link\": \"https://www.votpusk.ru/news.asp?msg=537417 \",\n",
    "          \"title\": \"Ростуризм просит турбизнес сообщать людям о риске заражения в Африке\"\n",
    "        },\n",
    "        {\n",
    "          \"guid\": \"https://www.votpusk.ru/news.asp?msg=534896\",\n",
    "          \"_id\": \"534896\",\n",
    "          \"pubDate\": \"Wed, 16 Sep 2015 14:36 +0300\",\n",
    "          \"description\": \"Содержание новости\",\n",
    "          \"link\": \"https://www.votpusk.ru/news.asp?msg=534896 \",\n",
    "          \"title\": \"Открытие сафари кемпа Belmond Eagle Island Lodge в Ботсване после реновации\"\n",
    "        }\n",
    "      ],\n",
    "      \"category\": \"Туризм - Африка\",\n",
    "      \"language\": \"ru\",\n",
    "      \"link\": \"https://www.votpusk.ru/news.asp\",\n",
    "      \"title\": \"Новости Африка\"\n",
    "    }\n",
    "  }\n",
    "}\n",
    "```\n",
    "* Проблема с отображением криллицы решена, данные отображаются в улобном для чтения виде."
   ]
  },
  {
   "cell_type": "markdown",
   "id": "61fedcef",
   "metadata": {},
   "source": [
    "## json.dumps()"
   ]
  },
  {
   "cell_type": "markdown",
   "id": "05fcf049",
   "metadata": {},
   "source": [
    "Чтение файла `JSON`, преобразование его данных в строку с последующей записью в файл `new.txt`"
   ]
  },
  {
   "cell_type": "markdown",
   "id": "56e9001e",
   "metadata": {},
   "source": [
    "**Содержание файла** `newsafr.json`:\n",
    "\n",
    "```\n",
    "{\n",
    "  \"rss\": {\n",
    "    \"_xmlns:votpusk\": \"https://www.votpusk.ru/news.asp\",\n",
    "    \"_version\": \"2.0\",\n",
    "    \"channel\": {\n",
    "      \"description\": \"Африка - Лента туристических новостей портала В ОТПУСК.РУ \",\n",
    "      \"lastBuildDate\": \"Thu, 1 Dec 2016 17:27 +0300 \",\n",
    "      \"items\": [\n",
    "        {\n",
    "          \"guid\": \"https://www.votpusk.ru/news.asp?msg=544347\",\n",
    "          \"_id\": \"544347\",\n",
    "          \"pubDate\": \"Mon, 17 Oct 2016 00:28 +0300\",\n",
    "          \"description\": \"Содержание новости\",\n",
    "          \"link\": \"https://www.votpusk.ru/news.asp?msg=544347 \",\n",
    "          \"title\": \"Израильский турист погиб в ДТП в Африке\"\n",
    "        },\n",
    "        {\n",
    "          \"guid\": \"https://www.votpusk.ru/news.asp?msg=537417\",\n",
    "          \"_id\": \"537417\",\n",
    "          \"pubDate\": \"Thu, 17 Dec 2015 19:13 +0300\",\n",
    "          \"description\": \"Содержание новости\",\n",
    "          \"link\": \"https://www.votpusk.ru/news.asp?msg=537417 \",\n",
    "          \"title\": \"Ростуризм просит турбизнес сообщать людям о риске заражения в Африке\"\n",
    "        },\n",
    "        {\n",
    "          \"guid\": \"https://www.votpusk.ru/news.asp?msg=534896\",\n",
    "          \"_id\": \"534896\",\n",
    "          \"pubDate\": \"Wed, 16 Sep 2015 14:36 +0300\",\n",
    "          \"description\": \"Содержание новости\",\n",
    "          \"link\": \"https://www.votpusk.ru/news.asp?msg=534896 \",\n",
    "          \"title\": \"Открытие сафари кемпа Belmond Eagle Island Lodge в Ботсване после реновации\"\n",
    "        }\n",
    "      ],\n",
    "      \"category\": \"Туризм - Африка\",\n",
    "      \"language\": \"ru\",\n",
    "      \"link\": \"https://www.votpusk.ru/news.asp\",\n",
    "      \"title\": \"Новости Африка\"\n",
    "    }\n",
    "  }\n",
    "}\n",
    "```"
   ]
  },
  {
   "cell_type": "markdown",
   "id": "bb2ae6cf",
   "metadata": {},
   "source": [
    "**Выполним код:**\n",
    "```python\n",
    "with open('newsafr.json') as f:\n",
    "    file_data = json.load(f)\n",
    "    json_str = json.dumps(file_data, ensure_ascii=False)\n",
    "\n",
    "with open('new.txt', 'w') as new_f:\n",
    "    new_f.write(json_str)\n",
    "```"
   ]
  },
  {
   "cell_type": "markdown",
   "id": "bbe3a1c4",
   "metadata": {},
   "source": [
    "*В результате получим файл `new.txt` содержащий строку данных:*\n",
    "```\n",
    "{\"rss\": {\"_xmlns:votpusk\": \"https://www.votpusk.ru/news.asp\", \"_version\": \"2.0\", \"channel\": {\"description\": \"Африка - Лента туристических новостей портала В ОТПУСК.РУ \", \"lastBuildDate\": \"Thu, 1 Dec 2016 17:27 +0300 \", \"items\": [{\"guid\": \"https://www.votpusk.ru/news.asp?msg=544347\", \"_id\": \"544347\", \"pubDate\": \"Mon, 17 Oct 2016 00:28 +0300\", \"description\": \"Содержание новости\", \"link\": \"https://www.votpusk.ru/news.asp?msg=544347 \", \"title\": \"Израильский турист погиб в ДТП в Африке\"}, {\"guid\": \"https://www.votpusk.ru/news.asp?msg=537417\", \"_id\": \"537417\", \"pubDate\": \"Thu, 17 Dec 2015 19:13 +0300\", \"description\": \"Содержание новости\", \"link\": \"https://www.votpusk.ru/news.asp?msg=537417 \", \"title\": \"Ростуризм просит турбизнес сообщать людям о риске заражения в Африке\"}, {\"guid\": \"https://www.votpusk.ru/news.asp?msg=534896\", \"_id\": \"534896\", \"pubDate\": \"Wed, 16 Sep 2015 14:36 +0300\", \"description\": \"Содержание новости\", \"link\": \"https://www.votpusk.ru/news.asp?msg=534896 \", \"title\": \"Открытие сафари кемпа Belmond Eagle Island Lodge в Ботсване после реновации\"}], \"category\": \"Туризм - Африка\", \"language\": \"ru\", \"link\": \"https://www.votpusk.ru/news.asp\", \"title\": \"Новости Африка\"}}}\n",
    "```"
   ]
  },
  {
   "cell_type": "markdown",
   "id": "3396946a",
   "metadata": {},
   "source": [
    "## json.loads() "
   ]
  },
  {
   "cell_type": "markdown",
   "id": "881fe3d2",
   "metadata": {},
   "source": [
    "Прочитаем строку данных из файла `new.txt`, преобразуем в словарь и запишем данные в новый файл `json_new.json` в формате JSON."
   ]
  },
  {
   "cell_type": "markdown",
   "id": "f73b038a",
   "metadata": {},
   "source": [
    "**Содержание файла** `new.txt` можно увидеть выше, в прошлом примере."
   ]
  },
  {
   "cell_type": "markdown",
   "id": "f5332ed6",
   "metadata": {},
   "source": [
    "Выполним код:\n",
    "```python\n",
    "import json\n",
    "from pprint import pprint\n",
    "\n",
    "# Блок кода №1. Чтение строки файла new.txt:\n",
    "with open('new.txt') as f:\n",
    "    _str = f.read()\n",
    "    # Блок кода №2. Преобразование данных строки в словарь.\n",
    "    _json = json.loads(_str)\n",
    "\n",
    "# Блок кода №3.Запись словаря в JSON файл.\n",
    "with open('json_new.json', 'w') as new_json:\n",
    "    json.dump(_json, new_json, ensure_ascii=False, indent=2)\n",
    "\n",
    "\n",
    "print('Результат работы Блока кода №1.')\n",
    "print(\"Тип данных переменной _str:\", type(_str))\n",
    "print('Вывод данных переменной _str:', _str)\n",
    "print(\"Обращаемся в элементам строки _str через индекс:\", _str[:6])\n",
    "print('===========================================================')\n",
    "print('Результат работы Блока кода №2.')\n",
    "print(\"Тип данных переменной _jsom:\", type(_json))\n",
    "print(\"Красивый вывод через pprint:\")\n",
    "pprint(_json)\n",
    "print('Обратимся по ключам к ID первой статьи:', _json['rss']['channel']['items'][1]['_id'])\n",
    "print('===========================================================')\n",
    "```"
   ]
  },
  {
   "cell_type": "markdown",
   "id": "54c71b4c",
   "metadata": {},
   "source": [
    "**Результаты выполнения кода в Блоке №1 и №2:**\n",
    "\n",
    "```\n",
    "Результат работы Блока кода №1.\n",
    "\n",
    "\n",
    "Тип данных переменной _str: <class 'str'>\n",
    "\n",
    "Вывод данных переменной _str: {\"rss\": {\"_xmlns:votpusk\": \"https://www.votpusk.ru/news.asp\", \"_version\": \"2.0\", \"channel\": {\"description\": \"Африка - Лента туристических новостей портала В ОТПУСК.РУ \", \"lastBuildDate\": \"Thu, 1 Dec 2016 17:27 +0300 \", \"items\": [{\"guid\": \"https://www.votpusk.ru/news.asp?msg=544347\", \"_id\": \"544347\", \"pubDate\": \"Mon, 17 Oct 2016 00:28 +0300\", \"description\": \"Содержание новости\", \"link\": \"https://www.votpusk.ru/news.asp?msg=544347 \", \"title\": \"Израильский турист погиб в ДТП в Африке\"}, {\"guid\": \"https://www.votpusk.ru/news.asp?msg=537417\", \"_id\": \"537417\", \"pubDate\": \"Thu, 17 Dec 2015 19:13 +0300\", \"description\": \"Содержание новости\", \"link\": \"https://www.votpusk.ru/news.asp?msg=537417 \", \"title\": \"Ростуризм просит турбизнес сообщать людям о риске заражения в Африке\"}, {\"guid\": \"https://www.votpusk.ru/news.asp?msg=534896\", \"_id\": \"534896\", \"pubDate\": \"Wed, 16 Sep 2015 14:36 +0300\", \"description\": \"Содержание новости\", \"link\": \"https://www.votpusk.ru/news.asp?msg=534896 \", \"title\": \"Открытие сафари кемпа Belmond Eagle Island Lodge в Ботсване после реновации\"}], \"category\": \"Туризм - Африка\", \"language\": \"ru\", \"link\": \"https://www.votpusk.ru/news.asp\", \"title\": \"Новости Африка\"}}}\n",
    "\n",
    "Обращаемся в элементам строки _str через индекс: {\"rss\"\n",
    "\n",
    "===========================================================\n",
    "\n",
    "Результат работы Блока кода №2.\n",
    "\n",
    "Тип данных переменной _jsom: <class 'dict'>\n",
    "Красивый вывод через pprint:\n",
    "{'rss': {'_version': '2.0',\n",
    "         '_xmlns:votpusk': 'https://www.votpusk.ru/news.asp',\n",
    "         'channel': {'category': 'Туризм - Африка',\n",
    "                     'description': 'Африка - Лента туристических новостей '\n",
    "                                    'портала В ОТПУСК.РУ ',\n",
    "                     'items': [{'_id': '544347',\n",
    "                                'description': 'Содержание новости',\n",
    "                                'guid': 'https://www.votpusk.ru/news.asp?msg=544347',\n",
    "                                'link': 'https://www.votpusk.ru/news.asp?msg=544347 ',\n",
    "                                'pubDate': 'Mon, 17 Oct 2016 00:28 +0300',\n",
    "                                'title': 'Израильский турист погиб в ДТП в '\n",
    "                                         'Африке'},\n",
    "                               {'_id': '537417',\n",
    "                                'description': 'Содержание новости',\n",
    "                                'guid': 'https://www.votpusk.ru/news.asp?msg=537417',\n",
    "                                'link': 'https://www.votpusk.ru/news.asp?msg=537417 ',\n",
    "                                'pubDate': 'Thu, 17 Dec 2015 19:13 +0300',\n",
    "                                'title': 'Ростуризм просит турбизнес сообщать '\n",
    "                                         'людям о риске заражения в Африке'},\n",
    "                               {'_id': '534896',\n",
    "                                'description': 'Содержание новости',\n",
    "                                'guid': 'https://www.votpusk.ru/news.asp?msg=534896',\n",
    "                                'link': 'https://www.votpusk.ru/news.asp?msg=534896 ',\n",
    "                                'pubDate': 'Wed, 16 Sep 2015 14:36 +0300',\n",
    "                                'title': 'Открытие сафари кемпа Belmond Eagle '\n",
    "                                         'Island Lodge в Ботсване после '\n",
    "                                         'реновации'}],\n",
    "                     'language': 'ru',\n",
    "                     'lastBuildDate': 'Thu, 1 Dec 2016 17:27 +0300 ',\n",
    "                     'link': 'https://www.votpusk.ru/news.asp',\n",
    "                     'title': 'Новости Африка'}}}\n",
    "                     \n",
    "Обратимся по ключу и получим ID первой статьи: 537417\n",
    "\n",
    "===========================================================\n",
    "\n",
    "```"
   ]
  },
  {
   "cell_type": "markdown",
   "id": "7c2544c0",
   "metadata": {},
   "source": [
    "**В результате выполнения кода в Блоке №3 получим новый файл `json_new.json` следующего содержания:**\n",
    "```\n",
    "{\n",
    "  \"rss\": {\n",
    "    \"_xmlns:votpusk\": \"https://www.votpusk.ru/news.asp\",\n",
    "    \"_version\": \"2.0\",\n",
    "    \"channel\": {\n",
    "      \"description\": \"Африка - Лента туристических новостей портала В ОТПУСК.РУ \",\n",
    "      \"lastBuildDate\": \"Thu, 1 Dec 2016 17:27 +0300 \",\n",
    "      \"items\": [\n",
    "        {\n",
    "          \"guid\": \"https://www.votpusk.ru/news.asp?msg=544347\",\n",
    "          \"_id\": \"544347\",\n",
    "          \"pubDate\": \"Mon, 17 Oct 2016 00:28 +0300\",\n",
    "          \"description\": \"Содержание новости\",\n",
    "          \"link\": \"https://www.votpusk.ru/news.asp?msg=544347 \",\n",
    "          \"title\": \"Израильский турист погиб в ДТП в Африке\"\n",
    "        },\n",
    "        {\n",
    "          \"guid\": \"https://www.votpusk.ru/news.asp?msg=537417\",\n",
    "          \"_id\": \"537417\",\n",
    "          \"pubDate\": \"Thu, 17 Dec 2015 19:13 +0300\",\n",
    "          \"description\": \"Содержание новости\",\n",
    "          \"link\": \"https://www.votpusk.ru/news.asp?msg=537417 \",\n",
    "          \"title\": \"Ростуризм просит турбизнес сообщать людям о риске заражения в Африке\"\n",
    "        },\n",
    "        {\n",
    "          \"guid\": \"https://www.votpusk.ru/news.asp?msg=534896\",\n",
    "          \"_id\": \"534896\",\n",
    "          \"pubDate\": \"Wed, 16 Sep 2015 14:36 +0300\",\n",
    "          \"description\": \"Содержание новости\",\n",
    "          \"link\": \"https://www.votpusk.ru/news.asp?msg=534896 \",\n",
    "          \"title\": \"Открытие сафари кемпа Belmond Eagle Island Lodge в Ботсване после реновации\"\n",
    "        }\n",
    "      ],\n",
    "      \"category\": \"Туризм - Африка\",\n",
    "      \"language\": \"ru\",\n",
    "      \"link\": \"https://www.votpusk.ru/news.asp\",\n",
    "      \"title\": \"Новости Африка\"\n",
    "    }\n",
    "  }\n",
    "}\n",
    "```"
   ]
  },
  {
   "cell_type": "markdown",
   "id": "96480648",
   "metadata": {},
   "source": [
    "**Мы расмотрели полный цикл работы с файлами JSON:**\n",
    "   * Открытие файла формата JSON\n",
    "   * Преобразование данных из файла JSON в словарь Python\n",
    "      * Запись словаря в новый файл формата JSON\n",
    "   * Преобразование данных из файла JSON в строку Python\n",
    "        * Запись строки в новый файл формата .txt\n",
    "   * Чтение строки данных из файла формата .txt\n",
    "       * Преобразование строки в словарь Python\n",
    "       * Запись словаря в новый файл формата JSON\n",
    "   "
   ]
  },
  {
   "cell_type": "markdown",
   "id": "d53789bb",
   "metadata": {},
   "source": [
    "# YAML файлы."
   ]
  },
  {
   "cell_type": "markdown",
   "id": "c23a8d04",
   "metadata": {},
   "source": [
    "> Язак разметки YAML является родительским для JSON"
   ]
  },
  {
   "cell_type": "markdown",
   "id": "c718f6d1",
   "metadata": {},
   "source": [
    "Основное применение формата `YAML`\n",
    "\n",
    "* Файлы конфигурации\n",
    "* Самый компактный язык разметки\n",
    "* Для создания файлов настроек\n",
    "* Используется для описания классов, ресурсов и манифестов в API"
   ]
  },
  {
   "cell_type": "markdown",
   "id": "8f96fd33",
   "metadata": {},
   "source": [
    "Основые моменты работы с `YAML` файлами:\n",
    "    \n",
    "**Десериализация (читаем файл)**\n",
    "\n",
    "Из файла: \n",
    "\n",
    "   * `json.load(file)`\n",
    "\n",
    "Из строки:\n",
    "    \n",
    "   * `json.loads(str)`\n",
    "\n",
    "**Сериализация (сохраняем файл)**\n",
    "\n",
    "В файл: \n",
    "\n",
    "   * `json.dump(str, file_name)`\n",
    "    \n",
    "В строку: \n",
    "\n",
    "   * `json.dumps(data, file_name)`\n",
    "\n",
    "**Печать не-ascii символов, отступы:**\n",
    "\n",
    "   * `allow_unicode=True, default_flow_style=False` "
   ]
  },
  {
   "cell_type": "code",
   "execution_count": null,
   "id": "98e069e9",
   "metadata": {},
   "outputs": [],
   "source": []
  }
 ],
 "metadata": {
  "kernelspec": {
   "display_name": "Python 3 (ipykernel)",
   "language": "python",
   "name": "python3"
  },
  "language_info": {
   "codemirror_mode": {
    "name": "ipython",
    "version": 3
   },
   "file_extension": ".py",
   "mimetype": "text/x-python",
   "name": "python",
   "nbconvert_exporter": "python",
   "pygments_lexer": "ipython3",
   "version": "3.9.13"
  }
 },
 "nbformat": 4,
 "nbformat_minor": 5
}
