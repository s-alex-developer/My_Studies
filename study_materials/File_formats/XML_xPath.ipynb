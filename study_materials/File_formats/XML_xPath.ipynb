{
 "cells": [
  {
   "cell_type": "markdown",
   "id": "f7ba3f7b",
   "metadata": {},
   "source": [
    "*Последние изменения внесены 13.03.2023*"
   ]
  },
  {
   "cell_type": "markdown",
   "id": "be342f8b",
   "metadata": {},
   "source": [
    "# Сериализация и Десереализация."
   ]
  },
  {
   "cell_type": "markdown",
   "id": "97c23bbf",
   "metadata": {},
   "source": [
    "> `Сериализация` — процесс преобразования объекта в поток байтов для сохранения или передачи в память, базу данных или файл. Эта операция предназначена для того, чтобы сохранить состояния объекта для последующего воссоздания при необходимости. Обратный процесс называется десериализацией."
   ]
  },
  {
   "cell_type": "markdown",
   "id": "6b6b6aba",
   "metadata": {},
   "source": [
    "# XML файлы "
   ]
  },
  {
   "cell_type": "markdown",
   "id": "70555436",
   "metadata": {},
   "source": [
    "Документация: https://docs.python.org/3/library/xml.etree.elementtree.html"
   ]
  },
  {
   "cell_type": "markdown",
   "id": "d6bf7fa7",
   "metadata": {},
   "source": [
    "> **XML** - язык разметки, позволяющий содавать структурированные документы практически любой сложности. (_примеры XML файлов: DOCX, XLSX, RSS, SVG_ и прочие.)\n",
    "\n",
    "> **XML** файлы часто используются для передачи информации и хранения настроек серверов.\n",
    "\n",
    "> **XML** файл представляет собой набор вложенных тегов с какой то информацией и атрибутами."
   ]
  },
  {
   "cell_type": "markdown",
   "id": "1ef8abb6",
   "metadata": {},
   "source": [
    "## Начало работы с файлом XML"
   ]
  },
  {
   "cell_type": "markdown",
   "id": "3f9eebd2",
   "metadata": {},
   "source": [
    "Содержание файла `kinopoisk.xml`:\n",
    "```xml\n",
    "<films>\n",
    "    <film name=\"Железный человек\" original_name=\"Iron Man\">\n",
    "        <year>2008</year>\n",
    "        <duration>127</duration>\n",
    "        <rating>7.891</rating>\n",
    "        <actors>\n",
    "            <actor id=\"785\" name=\"Роберт Дауни мл.\"/>\n",
    "            <actor id=\"984\" name=\"Джефф Бриджес\"/>\n",
    "            <actor id=\"1135\" name=\"Гвинет Пэлтроу\"/>\n",
    "            <actor id=\"985\" name=\"Терренс Ховард\"/>\n",
    "        </actors>\n",
    "    </film>\n",
    "    <film name=\"Мстители: Война бесконечности\" original_name=\"Avengers: Infinity War\" top250=\"149\">\n",
    "        <year>2018</year>\n",
    "        <duration>149</duration>\n",
    "        <rating>8.018</rating>\n",
    "        <actors>\n",
    "            <actor id=\"785\" name=\"Роберт Дауни мл.\"/>\n",
    "            <actor id=\"9841\" name=\"Крис Хемсворт\"/>\n",
    "            <actor id=\"8174\" name=\"Марк Руффало\"/>\n",
    "        </actors>\n",
    "    </film>\n",
    "    <film name=\"Человек-паук\" original_name=\"Spider-Man\">\n",
    "        <year>2002</year>\n",
    "        <duration>121</duration>\n",
    "        <rating>7.549</rating>\n",
    "        <actors>\n",
    "            <actor id=\"948\" name=\"Тоби Магуайр\"/>\n",
    "            <actor id=\"145\" name=\"Уиллем Дефо\"/>\n",
    "            <actor id=\"8174\" name=\"Кирстен Данст\"/>\n",
    "        </actors>\n",
    "    </film>\n",
    "</films>\n",
    "```"
   ]
  },
  {
   "cell_type": "markdown",
   "id": "17839abe",
   "metadata": {},
   "source": [
    "### класс `ElementTree` методы `.parse()` , `.getroot()` , `.tag`"
   ]
  },
  {
   "cell_type": "markdown",
   "id": "f2b11eaa",
   "metadata": {},
   "source": [
    "```python\n",
    "#Импортируем класс ElementTree, который необходим для построения дерева элементов на основании XML файла:\n",
    "import xml.etree.ElementTree as ET\n",
    "\n",
    "#парсим документ и строим дерево:\n",
    "tree = ET.parse('file_name') \n",
    "\n",
    "#получаем корневой элемент дерева (самый первый тег), внутри которого находятся все остальные теги документа:\n",
    "root = tree.getroot()\n",
    "\n",
    "#Выведем имя корневого тега:\n",
    "print(root.tag)\n",
    "```\n",
    "*Результат:*\n",
    "\n",
    "films"
   ]
  },
  {
   "cell_type": "markdown",
   "id": "7694db83",
   "metadata": {},
   "source": [
    "> Понимая с каким тегами и данными работаем, мы можем выбирать более подходящие и понятные имена для переменных.\n"
   ]
  },
  {
   "cell_type": "markdown",
   "id": "a35e0f9d",
   "metadata": {},
   "source": [
    "Изменим **root** на **films**:\n",
    "```python\n",
    "import xml.etree.ElementTree as ET\n",
    "tree = ET.parse('kinopoisk.xml')\n",
    "films = tree.getroot()\n",
    "```"
   ]
  },
  {
   "cell_type": "markdown",
   "id": "cf2b5e7f",
   "metadata": {},
   "source": [
    "### Кодировка и `.XMLParser(encoding='кодировка')`"
   ]
  },
  {
   "cell_type": "markdown",
   "id": "8be0b988",
   "metadata": {},
   "source": [
    "> **Python** по умолчанию открывает файлы в кодировке **\"utf-8\"** (распространённый стандарт кодирования символов, позволяющий более компактно хранить и передавать символы Юникода)\n",
    "\n",
    "> Если данные в файле записаны в формате **\"utf-8\"**,  а в служебной информации файла указан другая кодировка, Python не сможет прочитать данные.\n",
    "\n",
    ">Чтобы проигнорировать кодировку в служебной информации файла и принудительно прочитать его данные в кодировке **\"utf-8\"** необходимо воспользоваться  `.XMLParser(encoding='')` *см.пример кода ниже*"
   ]
  },
  {
   "cell_type": "markdown",
   "id": "1cf9324d",
   "metadata": {},
   "source": [
    "**Пример кода с применением `XMLParser()`:**\n",
    "\n",
    "```python\n",
    "import xml.etree.ElementTree as ET\n",
    "\n",
    "parser = ET.XMLParser(encoding='utf-8')\n",
    "tree = ET.parse('имя_файла', parser)\n",
    "\n",
    "```"
   ]
  },
  {
   "cell_type": "markdown",
   "id": "8cb30cec",
   "metadata": {},
   "source": [
    "### Работа с тегами и атрибутами в цикле. Методы `.tag` , `.attrib`, `.text`"
   ]
  },
  {
   "cell_type": "markdown",
   "id": "0c37a531",
   "metadata": {},
   "source": [
    "* `.tag` - возвращает имя тега.\n",
    "* `.attrib` - возвращает словарь, где ключем является название атрибута.\n",
    "* `.text` - возвращает текст содержащийся внутри тега.\n"
   ]
  },
  {
   "cell_type": "markdown",
   "id": "030a336d",
   "metadata": {},
   "source": [
    "Содержание файла `kinopoisk.xml` без изменений:"
   ]
  },
  {
   "cell_type": "markdown",
   "id": "80f65ea2",
   "metadata": {},
   "source": [
    "**Выполним код:**\n",
    "```python\n",
    "import xml.etree.ElementTree as ET\n",
    "tree = ET.parse('kinopoisk.xml')\n",
    "films = tree.getroot()\n",
    "\n",
    "# Используя циклы мы можем перебирать теги по аналогии с элементами списка:\n",
    "for film in films:\n",
    "    print(film.tag, film.attrib)\n",
    "```\n",
    "\n",
    "_Получим результат:_\n",
    "```\n",
    "film {'name': 'Железный человек', 'original_name': 'Iron Man'}\n",
    "film {'name': 'Мстители: Война бесконечности', 'original_name': 'Avengers: Infinity War', 'top250': '149'}\n",
    "film {'name': 'Человек-паук', 'original_name': 'Spider-Man'}\n",
    "```"
   ]
  },
  {
   "cell_type": "markdown",
   "id": "5a759360",
   "metadata": {},
   "source": [
    "**Атрибуты тега представляют собой словарь, с которым мы можем работать используя пару ключ / значение:**\n",
    "```python\n",
    "for film in films:\n",
    "    print(film.attrib['name'], film.attrib['original_name'], sep=' / ')\n",
    "```\n",
    "\n",
    "_Получим результат:_\n",
    "```\n",
    "Железный человек / Iron Man\n",
    "Мстители: Война бесконечности / Avengers: Infinity War\n",
    "Человек-паук / Spider-Man\n",
    "```"
   ]
  },
  {
   "cell_type": "markdown",
   "id": "7090e769",
   "metadata": {},
   "source": [
    "**Работать с тегами через цикл можно на разной глубине вложенности:**"
   ]
  },
  {
   "cell_type": "markdown",
   "id": "8752aad8",
   "metadata": {},
   "source": [
    "```python\n",
    "for film in films:\n",
    "    for elem in film:\n",
    "        print(elem.tag, elem.text)\n",
    "```\n",
    "*Получим результат:*\n",
    "    \n",
    "```\n",
    "year 2008\n",
    "duration 127\n",
    "rating 7.891\n",
    "actors \n",
    "            \n",
    "year 2018\n",
    "duration 149\n",
    "rating 8.018\n",
    "actors \n",
    "            \n",
    "year 2002\n",
    "duration 121\n",
    "rating 7.549\n",
    "actors \n",
    "```"
   ]
  },
  {
   "cell_type": "markdown",
   "id": "60a4f818",
   "metadata": {},
   "source": [
    "### Пример 1."
   ]
  },
  {
   "cell_type": "markdown",
   "id": "0bf5a55a",
   "metadata": {},
   "source": [
    "Используем в комплексе все рассмотренные методы работы с файлом XML и получим:\n",
    "* Название фильма\n",
    "* Год выхода\n",
    "* Продолжительность\n",
    "* Рейтинг\n",
    "* Имена актеров"
   ]
  },
  {
   "cell_type": "markdown",
   "id": "7c954373",
   "metadata": {},
   "source": [
    "**Выполним код:**\n",
    "```python\n",
    "import xml.etree.ElementTree as ET\n",
    "tree = ET.parse('kinopoisk.xml')\n",
    "films = tree.getroot()\n",
    "\n",
    "for film in films:\n",
    "    print(film.attrib['name'])\n",
    "\n",
    "    for data in film:\n",
    "        if data.tag == 'year':\n",
    "            print('    {}'.format(data.text))\n",
    "\n",
    "        if data.tag in ['duration', 'rating']:\n",
    "            print('    {}'.format(data.text))\n",
    "\n",
    "        if data.tag == 'actors':\n",
    "            for actor in data:\n",
    "                print('    -{}'.format(actor.attrib['name']))\n",
    "```\n",
    "\n",
    "_Результат выполнения кода_:\n",
    "```\n",
    "Железный человек\n",
    "    2008\n",
    "    127\n",
    "    7.891\n",
    "    -Роберт Дауни мл.\n",
    "    -Джефф Бриджес\n",
    "    -Гвинет Пэлтроу\n",
    "    -Терренс Ховард\n",
    "Мстители: Война бесконечности\n",
    "    2018\n",
    "    149\n",
    "    8.018\n",
    "    -Роберт Дауни мл.\n",
    "    -Крис Хемсворт\n",
    "    -Марк Руффало\n",
    "Человек-паук\n",
    "    2002\n",
    "    121\n",
    "    7.549\n",
    "    -Тоби Магуайр\n",
    "    -Уиллем Дефо\n",
    "    -Кирстен Данст\n",
    "```"
   ]
  },
  {
   "cell_type": "markdown",
   "id": "1afa4f56",
   "metadata": {},
   "source": [
    "### Метод `.iter()`"
   ]
  },
  {
   "cell_type": "markdown",
   "id": "7649156d",
   "metadata": {},
   "source": [
    "> Метод `.iter()` - рекурсивно обходит все поддеревья в рамкаx тега, к которому применен и находит все запрашиваемые в скобках теги, как бы глубоко они не лежали в поддеревьях."
   ]
  },
  {
   "cell_type": "markdown",
   "id": "fdb67347",
   "metadata": {},
   "source": [
    "Содержание файла `kinopoisk.xml` без изменений:"
   ]
  },
  {
   "cell_type": "markdown",
   "id": "934e62f2",
   "metadata": {},
   "source": [
    "Используя метод `.iter()` оптимизируем наш код и получим доступ к актерам напрямую через тег **film**, используя в качестве аргумента для поиска тег **actor**, при этом минуя дополнительного цикла по тегу **actors**.\n",
    "\n",
    "**Выполним код:**\n",
    "```python\n",
    "import xml.etree.ElementTree as ET\n",
    "tree = ET.parse('kinopoisk.xml')\n",
    "films = tree.getroot()\n",
    "\n",
    "for film in films:\n",
    "    print(film.attrib['name'])\n",
    "\n",
    "    #Применение метода .iter()\n",
    "    for actor in film.iter('actor'):\n",
    "        print('    -{}'.format(actor.attrib['name']))\n",
    "```\n",
    "_Получим результат:_\n",
    "```\n",
    "Железный человек\n",
    "    -Роберт Дауни мл.\n",
    "    -Джефф Бриджес\n",
    "    -Гвинет Пэлтроу\n",
    "    -Терренс Ховард\n",
    "Мстители: Война бесконечности\n",
    "    -Роберт Дауни мл.\n",
    "    -Крис Хемсворт\n",
    "    -Марк Руффало\n",
    "Человек-паук\n",
    "    -Тоби Магуайр\n",
    "    -Уиллем Дефо\n",
    "    -Кирстен Данст\n",
    "```"
   ]
  },
  {
   "cell_type": "markdown",
   "id": "56f25219",
   "metadata": {},
   "source": [
    "##  xPath"
   ]
  },
  {
   "cell_type": "markdown",
   "id": "d9775289",
   "metadata": {},
   "source": [
    "> `xPath` - язык, позволяющий получить доступ и извлечь определенную часть данных документа."
   ]
  },
  {
   "cell_type": "markdown",
   "id": "088e0898",
   "metadata": {},
   "source": [
    "Содержание файла `kinopoisk2.xml`:\n",
    "```xml\n",
    "<films>\n",
    "    <film name=\"Железный человек\" original_name=\"Iron Man\">\n",
    "        <year>2008</year>\n",
    "        <duration>127</duration>\n",
    "        <rating>7.891</rating>\n",
    "        <actors>\n",
    "            <celebrity id=\"785\" name=\"Роберт Дауни мл.\" sex=\"m\"/>\n",
    "            <celebrity id=\"984\" name=\"Джефф Бриджес\" sex=\"m\"/>\n",
    "            <celebrity id=\"1135\" name=\"Гвинет Пэлтроу\" sex=\"w\"/>\n",
    "            <celebrity id=\"985\" name=\"Терренс Ховард\" sex=\"m\"/>\n",
    "        </actors>\n",
    "        <directors>\n",
    "            <celebrity id=\"124\" name=\"Джон Фавро\" sex=\"m\"/>\n",
    "        </directors>\n",
    "    </film>\n",
    "    <film name=\"Мстители: Война бесконечности\" original_name=\"Avengers: Infinity War\" top250=\"149\">\n",
    "        <year>2018</year>\n",
    "        <duration>149</duration>\n",
    "        <rating>8.018</rating>\n",
    "        <actors>\n",
    "            <celebrity id=\"785\" name=\"Роберт Дауни мл.\" sex=\"m\"/>\n",
    "            <celebrity id=\"9841\" name=\"Крис Хемсворт\" sex=\"m\"/>\n",
    "            <celebrity id=\"8174\" name=\"Марк Руффало\" sex=\"m\"/>\n",
    "        </actors>\n",
    "        <directors>\n",
    "            <celebrity id=\"1458\" name=\"Энтони Руссо\" sex=\"m\"/>\n",
    "            <celebrity id=\"1448\" name=\"Джо Руссо\" sex=\"m\"/>\n",
    "        </directors>\n",
    "    </film>\n",
    "    <film name=\"Человек-паук\" original_name=\"Spider-Man\">\n",
    "        <year>2002</year>\n",
    "        <duration>121</duration>\n",
    "        <rating>7.549</rating>\n",
    "        <actors>\n",
    "            <celebrity id=\"948\" name=\"Тоби Магуайр\" sex=\"m\"/>\n",
    "            <celebrity id=\"145\" name=\"Уиллем Дефо\" sex=\"m\"/>\n",
    "            <celebrity id=\"8174\" name=\"Кирстен Данст\" sex=\"m\"/>\n",
    "        </actors>\n",
    "        <directors>\n",
    "            <celebrity id=\"91855\" name=\"Сэм Рэйми\" sex=\"m\"/>\n",
    "        </directors>\n",
    "    </film>\n",
    "</films>\n",
    "```"
   ]
  },
  {
   "cell_type": "markdown",
   "id": "4410a999",
   "metadata": {},
   "source": [
    "**Попробуем получить именя всех актеров:**\n",
    "\n",
    "**Выполним код:**\n",
    "```python\n",
    "import xml.etree.ElementTree as ET\n",
    "tree = ET.parse('kinopoisk2.xml')\n",
    "films = tree.getroot()\n",
    "\n",
    "for actor in films.iter('celebrity'):\n",
    "    print(actor.attrib['name'])\n",
    "```\n",
    "\n",
    "_В результате мы получим все значения имен атрибута **name** внутри тегов **actors** и **directors**_, что не соответсвует поставленной задачи в полной мере:\n",
    "```\n",
    "Роберт Дауни мл.\n",
    "Джефф Бриджес\n",
    "Гвинет Пэлтроу\n",
    "Терренс Ховард\n",
    "Джон Фавро\n",
    "Роберт Дауни мл.\n",
    "Крис Хемсворт\n",
    "Марк Руффало\n",
    "Энтони Руссо\n",
    "Джо Руссо\n",
    "Тоби Магуайр\n",
    "Уиллем Дефо\n",
    "Кирстен Данст\n",
    "Сэм Рэйми\n",
    "\n",
    "```"
   ]
  },
  {
   "cell_type": "markdown",
   "id": "c8de3df5",
   "metadata": {},
   "source": [
    "### Метод `.find()`"
   ]
  },
  {
   "cell_type": "markdown",
   "id": "f7f5b632",
   "metadata": {},
   "source": [
    "**Воспользуемся методом`.find` и `xPath` выражением, которое мы указываем в скобках:**"
   ]
  },
  {
   "cell_type": "markdown",
   "id": "2653c1ef",
   "metadata": {},
   "source": [
    "**Выполним код:**\n",
    "```python\n",
    "import xml.etree.ElementTree as ET\n",
    "\n",
    "tree = ET.parse('kinopoisk2.xml')\n",
    "films = tree.getroot()\n",
    "\n",
    "name = films.find('.//celebrity')\n",
    "\n",
    "print(name.attrib['name'])\n",
    "```\n",
    "*Результат:*\n",
    "\n",
    "Роберт Дауни мл."
   ]
  },
  {
   "cell_type": "markdown",
   "id": "83d19d22",
   "metadata": {},
   "source": [
    "* В результате применения метода `.find()` к \"корню нашего дерева\" мы находим первое совпадение по тегу **'celebrity'** и выводим значение атрибута **'name'**.\n",
    "* На этом поиск прекращается."
   ]
  },
  {
   "cell_type": "markdown",
   "id": "d12aabb3",
   "metadata": {},
   "source": [
    "* Следует обратить внимание, что в результате работы метода `.find()` мы оказались внутри тега **'actors'**, по сути являющегося списком из 4 элементов - тегов **'celebrity'** имеющих одинаковые атрибуты, но разные значения атрибутов.\n",
    "* Добавив **индекс** конкретного элемента в `xPath` выражение, мы можем принудительно проигнорировать первые совпадения и один раз обратится к конкретному тегу **'celebrity'** внутри **'actors'**, после чего поиск прекратится:"
   ]
  },
  {
   "cell_type": "markdown",
   "id": "42434713",
   "metadata": {},
   "source": [
    "**Выполним код:**\n",
    "```python\n",
    "import xml.etree.ElementTree as ET\n",
    "\n",
    "tree = ET.parse('kinopoisk2.xml')\n",
    "films = tree.getroot()\n",
    "\n",
    "name = films.find('.//celebrity[2]')\n",
    "print(name.attrib['name'])\n",
    "```\n",
    "*Получим результат:*\n",
    "\n",
    "Джефф Бриджес"
   ]
  },
  {
   "cell_type": "markdown",
   "id": "c26a39df",
   "metadata": {},
   "source": [
    "### Метод`.findall()`"
   ]
  },
  {
   "cell_type": "markdown",
   "id": "9d566daa",
   "metadata": {},
   "source": [
    "**Воспользуемся методом`.findall` и `xPath` выражением, которое мы указываем в скобках:**\n",
    "\n",
    "> Важно помнить что метод `.findall()` возвращает нам **XML** документ!!! Следовательно мы можем применять к нему все ранее изученные методы для получения необходимого результата."
   ]
  },
  {
   "cell_type": "markdown",
   "id": "b0de4c2d",
   "metadata": {},
   "source": [
    "**Выполним код:**\n",
    "```python\n",
    "import xml.etree.ElementTree as ET\n",
    "tree = ET.parse('kinopoisk2.xml')\n",
    "films = tree.getroot()\n",
    "\n",
    "#Выражение xPath начинается с точки, которая означает корень нашего дерева.\n",
    "#В нашем случаем .findall применяется к тегу films, а значит films и будет корнем.\n",
    "#Далее мы указываем путь до нужного нам тега, где каждый элемент пути это какой то тег.\n",
    "#В результате работы метода .findall() actor будет содержать XML документ.\n",
    "#Поэтому к actor мы можем применить метод .attrib() и получить необходимый результат:\n",
    "for actor in films.findall('./film/actors/celebrity'):\n",
    "    print(actor.attrib['name'])\n",
    "```\n",
    "\n",
    "*Получим требуемый результат вывода всех имен актеров:*\n",
    "```\n",
    "Роберт Дауни мл.\n",
    "Джефф Бриджес\n",
    "Гвинет Пэлтроу\n",
    "Терренс Ховард\n",
    "Роберт Дауни мл.\n",
    "Крис Хемсворт\n",
    "Марк Руффало\n",
    "Тоби Магуайр\n",
    "Уиллем Дефо\n",
    "Кирстен Данст\n",
    "```"
   ]
  },
  {
   "cell_type": "markdown",
   "id": "d40b2033",
   "metadata": {},
   "source": [
    "### Дополнительные параметры запроса в выражении `xPath`"
   ]
  },
  {
   "cell_type": "markdown",
   "id": "de40d499",
   "metadata": {},
   "source": [
    "### `Поиск по индексу элемента.`"
   ]
  },
  {
   "cell_type": "markdown",
   "id": "55357bdb",
   "metadata": {},
   "source": [
    "> Получения элемента с определенным индексом:\n",
    "    \n",
    "**Дополним запрос `xPath`, выполним код и получим только имена актеров, которые указанные первыми:**\n",
    "```python\n",
    "for actor in films.findall('./film/actors/celebrity[1]'): #Указываем [1] так как нумерация в XML начинается с единицы.\n",
    "    print(actor.attrib['name'])\n",
    "```\n",
    "*Результат:*\n",
    "```\n",
    "Роберт Дауни мл.\n",
    "Роберт Дауни мл.\n",
    "Тоби Магуайр\n",
    "```"
   ]
  },
  {
   "cell_type": "markdown",
   "id": "8d71fa75",
   "metadata": {},
   "source": [
    "### `Поиск по значению атрибута.`"
   ]
  },
  {
   "cell_type": "markdown",
   "id": "ce6947c8",
   "metadata": {},
   "source": [
    "> При обращениее к атрибуту тега, перед именем тега необходимо использовать символ @"
   ]
  },
  {
   "cell_type": "markdown",
   "id": "10d0cac9",
   "metadata": {},
   "source": [
    "**Получения элемента с определенным атрибутом:**\n",
    "    \n",
    "Дополним запрос `xPath`, выполним код и получим только имена актеров женщин:\n",
    "\n",
    "```python\n",
    "#В выражении xPath мы убрали промежуточный тег, оставив на его месте двойной слэш //\n",
    "#Теперь поиcк будет производиться внутри всего тега film по тегу celebrity.\n",
    "for celebrity in films.findall(\"./film//celebrity[@sex='w']\"):\n",
    "    print(celebrity.attrib['name'])\n",
    "```\n",
    "*Результат:*\n",
    "```\n",
    "Гвинет Пэлтроу\n",
    "```"
   ]
  },
  {
   "cell_type": "markdown",
   "id": "b60c4147",
   "metadata": {},
   "source": [
    "### `Поиск по наличию атрибута.`"
   ]
  },
  {
   "cell_type": "markdown",
   "id": "92e75160",
   "metadata": {},
   "source": [
    "> При обращениее к атрибуту тега, перед именем тега необходимо использовать символ @"
   ]
  },
  {
   "cell_type": "markdown",
   "id": "092dead5",
   "metadata": {},
   "source": [
    "**Получения элемента с имеющим определенный атрибут:**\n",
    "\n",
    "Дополним запрос `xPath`, выполним код и получим фильмы входящие в топ 250, то есть имеющие атрибут **top250**:\n",
    "\n",
    "```python\n",
    "#В выражении xPath мы указывам тег, внутри которого будет производится поиск атрибута и имя искомого атрибута, значение атрибута не указываем.\n",
    "for film in films.findall(\"./film[@top250]\"):\n",
    "    print(film.attrib['name'])\n",
    "\n",
    "```\n",
    "*Результат:*\n",
    "```\n",
    "Мстители: Война бесконечности\n",
    "```"
   ]
  },
  {
   "cell_type": "markdown",
   "id": "dbb2693e",
   "metadata": {},
   "source": [
    "### `Поиск по значению внутри тега.`"
   ]
  },
  {
   "cell_type": "markdown",
   "id": "e62ef2d7",
   "metadata": {},
   "source": [
    "> При обращениее к тегу, мы просто указываем его имя и значение в кавычках через знак ="
   ]
  },
  {
   "cell_type": "markdown",
   "id": "66e7d4b0",
   "metadata": {},
   "source": [
    "**Получения элемента с определенным значение внутри тега:**\n",
    "\n",
    "Дополним запрос `xPath`, выполним код и получим фильмы которые вышли в прокат в 2002 году:\n",
    "\n",
    "```python\n",
    "#В выражении xPath мы указывам тег, внутри которого будет производится поиск указанного значения.\n",
    "for film in films.findall('./film[year=\"2002\"]'):\n",
    "    print(film.attrib['name'])\n",
    "\n",
    "```\n",
    "*Результат:*\n",
    "```\n",
    "Человек-паук\n",
    "```"
   ]
  }
 ],
 "metadata": {
  "kernelspec": {
   "display_name": "Python 3 (ipykernel)",
   "language": "python",
   "name": "python3"
  },
  "language_info": {
   "codemirror_mode": {
    "name": "ipython",
    "version": 3
   },
   "file_extension": ".py",
   "mimetype": "text/x-python",
   "name": "python",
   "nbconvert_exporter": "python",
   "pygments_lexer": "ipython3",
   "version": "3.9.13"
  }
 },
 "nbformat": 4,
 "nbformat_minor": 5
}
