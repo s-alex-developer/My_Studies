{
 "cells": [
  {
   "cell_type": "markdown",
   "id": "f5b851ee",
   "metadata": {},
   "source": [
    "_Последние изменения внесены: 13.04.2023_"
   ]
  },
  {
   "cell_type": "markdown",
   "id": "60c07837",
   "metadata": {},
   "source": [
    "# Инструкции по установке PostgreSQL"
   ]
  },
  {
   "cell_type": "markdown",
   "id": "dac7b89c",
   "metadata": {},
   "source": [
    "[Ссылка на PostgreSQL для установки.](https://www.enterprisedb.com/downloads/postgres-postgresql-downloads)"
   ]
  },
  {
   "cell_type": "markdown",
   "id": "fa4f5734",
   "metadata": {},
   "source": [
    "[Видеоинструкция по установки на Windows]()"
   ]
  },
  {
   "cell_type": "markdown",
   "id": "8ce765fa",
   "metadata": {},
   "source": [
    "* В процессе установки возникла следующая ошибка:\n",
    "\n",
    "[]()\n",
    "\n",
    "* Связана она с тем, что имя пользователя записано на **кириллице**, чего следует избегать.\n",
    "* Проблема была решена созданием нового пользователся с правами администратора, именен на **латинице**  и установкой `PostgreSQL` под этим пользователем.\n",
    "* Далее работу с `PostgreSQL` продолжил под своим аккаунтом."
   ]
  },
  {
   "cell_type": "markdown",
   "id": "8214768c",
   "metadata": {},
   "source": [
    "## Начало работы с `PostgreSQL` в командной строке Windows через утилиту `psql`"
   ]
  },
  {
   "cell_type": "markdown",
   "id": "46d68cbe",
   "metadata": {},
   "source": [
    "При установке **PostgreSQL** на компьютер производится установка консольной утилиты `psql` для работы с БД через командную строку **Windows**."
   ]
  },
  {
   "cell_type": "markdown",
   "id": "4bff58b6",
   "metadata": {},
   "source": [
    "* Для начала работы в командной строке **Windows** необходимо ввести команду `psql`, предварительно добавив в переменну **Path** в **Windows** путь к месту расположения данной утилиты.\n",
    "* Далее подключения в БД необходимо ввести имя пользователя и пароль.\n",
    "* По умолчанию после установки существует один супер-пользователь **postgres** с паролем, который мы указали при установке **PostrgreSQL**.\n",
    "* Подключимся к БД выполним команду `psql -U postres наш_пароль`\n",
    "* В дальнейшем для подключения другого пользователя со своими правами будет необходимо выполнять такую же команду с другими логином и паролем `psql -U логи пароль`\n",
    "* Появлений строки `postgres=#` говорит о том что мы подключились к **PostgreSQL**"
   ]
  },
  {
   "cell_type": "markdown",
   "id": "cc96a5fd",
   "metadata": {},
   "source": [
    "* Для получения справки по работе можно воспользоваться командой `help`"
   ]
  },
  {
   "cell_type": "markdown",
   "id": "04ef8d49",
   "metadata": {},
   "source": [
    "* Для завершения текущей сессии работы используются команды `\\q` или `exit`"
   ]
  },
  {
   "cell_type": "markdown",
   "id": "b104466e",
   "metadata": {},
   "source": [
    "## `PgAdmin 4` "
   ]
  },
  {
   "cell_type": "markdown",
   "id": "b3289943",
   "metadata": {},
   "source": [
    "**PgAdmin 4** - это графичесский интерфейс для работы с **PostgreSQL**"
   ]
  },
  {
   "cell_type": "markdown",
   "id": "3e979204",
   "metadata": {},
   "source": [
    "* При первом запуске необходимо установить пароль от мастер пользователя **PgAdmin 4**\n",
    "* Так же будет необходимо указать пароль от нашего супер-пользователся **postrges** для подключения к **PostrgeSQL**"
   ]
  },
  {
   "cell_type": "code",
   "execution_count": null,
   "id": "816eea7e",
   "metadata": {},
   "outputs": [],
   "source": []
  }
 ],
 "metadata": {
  "kernelspec": {
   "display_name": "Python 3 (ipykernel)",
   "language": "python",
   "name": "python3"
  },
  "language_info": {
   "codemirror_mode": {
    "name": "ipython",
    "version": 3
   },
   "file_extension": ".py",
   "mimetype": "text/x-python",
   "name": "python",
   "nbconvert_exporter": "python",
   "pygments_lexer": "ipython3",
   "version": "3.10.9"
  }
 },
 "nbformat": 4,
 "nbformat_minor": 5
}
