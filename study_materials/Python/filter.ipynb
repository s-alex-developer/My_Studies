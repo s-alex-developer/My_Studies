{
 "cells": [
  {
   "cell_type": "markdown",
   "id": "a7e6b854",
   "metadata": {},
   "source": [
    "*Последние изменения внесены: `25.03.2023`*"
   ]
  },
  {
   "cell_type": "markdown",
   "id": "a6d2c932",
   "metadata": {},
   "source": [
    "[<<< Предыдущее меню.]()"
   ]
  },
  {
   "cell_type": "markdown",
   "id": "3a5cd457",
   "metadata": {},
   "source": [
    "# Функция  `filter` (сортировка)"
   ]
  },
  {
   "cell_type": "markdown",
   "id": "9fe8cf0a",
   "metadata": {},
   "source": [
    "**Функция filter()**\n",
    "* в **Python** применяет другую **\"функцию-критерий\"** к заданному итерируемому объекту (список, строка, словарь и так далее), проверяя, нужно ли сохранить конкретный элемент или нет. \n",
    "* Простыми словами, она отфильтровывает то, что не проходит и возвращает все остальное.\n",
    "* **Объект фильтра** — это итерируемый объект. Он сохраняет те элементы, для которых функция вернула `True`. Также можно конвертировать его в `list`, `tuple` или другие типы последовательностей с помощью фабричных методов. "
   ]
  },
  {
   "cell_type": "markdown",
   "id": "eea0921b",
   "metadata": {},
   "source": [
    "Получим из списка `list` все четные числа, которые больше 10, разные подходы программирования:"
   ]
  },
  {
   "cell_type": "code",
   "execution_count": 4,
   "id": "2172ff88",
   "metadata": {},
   "outputs": [
    {
     "name": "stdout",
     "output_type": "stream",
     "text": [
      "[74, 100]\n"
     ]
    }
   ],
   "source": [
    "#Структурный стиль:\n",
    "my_list = [1, 23, 11, 5, 74, 100, 2, 10]\n",
    "\n",
    "result = []\n",
    "\n",
    "for i in my_list:\n",
    "    if i % 2 == 0 and i > 10:\n",
    "        result.append(i)\n",
    "\n",
    "print(result)"
   ]
  },
  {
   "cell_type": "code",
   "execution_count": 5,
   "id": "2d8813a1",
   "metadata": {},
   "outputs": [
    {
     "name": "stdout",
     "output_type": "stream",
     "text": [
      "[74, 100]\n"
     ]
    }
   ],
   "source": [
    "#Структурный стиль c используванием функций(подпрограмм):\n",
    "my_list = [1, 23, 11, 5, 74, 100, 2, 10]\n",
    "\n",
    "result = []\n",
    "\n",
    "def is_even(i):\n",
    "    return i % 2 == 0\n",
    "\n",
    "def greater(i):\n",
    "    return i > 10\n",
    "\n",
    "for i in my_list:\n",
    "    if is_even(i) and greater(i):\n",
    "        result.append(i)\n",
    "\n",
    "print(result)"
   ]
  },
  {
   "cell_type": "code",
   "execution_count": 6,
   "id": "78ded4bd",
   "metadata": {},
   "outputs": [
    {
     "name": "stdout",
     "output_type": "stream",
     "text": [
      "<filter object at 0x000002B733E33B50>\n",
      "[74, 100]\n"
     ]
    }
   ],
   "source": [
    "#Стиль функционального программирования и функция filter:\n",
    "my_list = [1, 23, 11, 5, 74, 100, 2, 10]\n",
    "\n",
    "result = []\n",
    "\n",
    "def is_even(i):\n",
    "    return i % 2 == 0\n",
    "\n",
    "def greater(i):\n",
    "    return i > 10\n",
    "\n",
    "#Функция filter может иметь как одиночную так и вложенную структуру, как в нашем примере:\n",
    "result = filter(greater, filter(is_even, my_list))\n",
    "\n",
    "print(result)\n",
    "print(list(result))"
   ]
  },
  {
   "cell_type": "markdown",
   "id": "56b93f1a",
   "metadata": {},
   "source": [
    "* В результате работы функции `filter` мы получаем объект типа `filter object`, который моможем обернуть в 'list' или 'tuple'.\n",
    "* Код записанный в структурном стиле более наглядный и читабельный, но **и работе с большими объемами данных функция `filter` будет работать значительно быстрее.**"
   ]
  },
  {
   "cell_type": "markdown",
   "id": "2374034e",
   "metadata": {},
   "source": [
    "Расммотрим как устроена функция `filter` изнутри, если алгоритм ее работы записать в структурной парадигме праграммирования:"
   ]
  },
  {
   "cell_type": "code",
   "execution_count": 6,
   "id": "e3a5c8d0",
   "metadata": {},
   "outputs": [
    {
     "name": "stdout",
     "output_type": "stream",
     "text": [
      "[2, 4]\n"
     ]
    }
   ],
   "source": [
    "def is_even(n):\n",
    "    return n % 2 == 0\n",
    "\n",
    "# Алгоритм работы функции filter() записанный в структурной парадигме программирования:\n",
    "def x_function (fun, data):\n",
    "    new_data = []\n",
    "    for i in data:\n",
    "        if fun(i):\n",
    "            new_data.append(i)\n",
    "    return new_data\n",
    "\n",
    "l = [1, 2, 3, 4, 5]\n",
    "\n",
    "print(x_function(is_even, l))"
   ]
  },
  {
   "cell_type": "code",
   "execution_count": null,
   "id": "4a4fd86e",
   "metadata": {},
   "outputs": [],
   "source": [
    "Тот же алгоритм обработки данных реализованный при помощи функции filter():"
   ]
  },
  {
   "cell_type": "code",
   "execution_count": 12,
   "id": "225181de",
   "metadata": {},
   "outputs": [
    {
     "name": "stdout",
     "output_type": "stream",
     "text": [
      "[2, 4]\n"
     ]
    }
   ],
   "source": [
    "def is_even(n):\n",
    "    return n % 2 == 0\n",
    "\n",
    "l = [1, 2, 3, 4, 5]\n",
    "\n",
    "print(list(filter(is_even, l)))"
   ]
  },
  {
   "cell_type": "markdown",
   "id": "dd751e69",
   "metadata": {},
   "source": [
    "Тот же алгоритм с добавлением `lambda`:"
   ]
  },
  {
   "cell_type": "code",
   "execution_count": 10,
   "id": "222c4199",
   "metadata": {},
   "outputs": [
    {
     "name": "stdout",
     "output_type": "stream",
     "text": [
      "[2, 4]\n"
     ]
    }
   ],
   "source": [
    "l = [1, 2, 3, 4, 5]\n",
    "\n",
    "print(list(filter(lambda n: n % 2 == 0, l)))"
   ]
  },
  {
   "cell_type": "markdown",
   "id": "baa1d5e0",
   "metadata": {},
   "source": [
    "Или так)))"
   ]
  },
  {
   "cell_type": "code",
   "execution_count": 11,
   "id": "de4c2182",
   "metadata": {},
   "outputs": [
    {
     "name": "stdout",
     "output_type": "stream",
     "text": [
      "[2, 4]\n"
     ]
    }
   ],
   "source": [
    "print(list(filter(lambda n: n % 2 == 0, [1, 2, 3, 4, 5])))"
   ]
  },
  {
   "cell_type": "markdown",
   "id": "90b994f6",
   "metadata": {},
   "source": [
    "## ЗАДАЧА:\n",
    "### ЦЕЛЕВАЯ АУДИТОРИЯ.\n",
    "* Сайт предназначен для мужчин от 20 до 30 лет включительно. \n",
    "* Отфильтруйте список people, чтобы в нем осталась только целевая аудитория сайта.\n",
    "* Результат должен быть помещен в переменную my_people."
   ]
  },
  {
   "cell_type": "code",
   "execution_count": 7,
   "id": "4fac1531",
   "metadata": {},
   "outputs": [
    {
     "name": "stdout",
     "output_type": "stream",
     "text": [
      "[{'sex': 'm', 'age': 20}, {'sex': 'm', 'age': 27}]\n"
     ]
    }
   ],
   "source": [
    "peoples = [\n",
    "    {\"sex\": \"m\", \"age\": 12},\n",
    "    {\"sex\": \"w\", \"age\": 12},\n",
    "    {\"sex\": \"m\", \"age\": 15},\n",
    "    {\"sex\": \"m\", \"age\": 20},\n",
    "    {\"sex\": \"m\", \"age\": 13},\n",
    "    {\"sex\": \"m\", \"age\": 27},\n",
    "    {\"sex\": \"w\", \"age\": 31},\n",
    "    {\"sex\": \"m\", \"age\": 17},\n",
    "    {\"sex\": \"w\", \"age\": 17},\n",
    "    {\"sex\": \"m\", \"age\": 12},\n",
    "    {\"sex\": \"m\", \"age\": 42},\n",
    "    {\"sex\": \"w\", \"age\": 25}\n",
    "]\n",
    "\n",
    "\n",
    "def focus_pll(people):\n",
    "    return 20 <= people['age'] <= 30 and people['sex'] == 'm'\n",
    "\n",
    "sorted_people = filter(focus_pll, peoples)\n",
    "print(list(sorted_people))\n"
   ]
  },
  {
   "cell_type": "code",
   "execution_count": null,
   "id": "e7799fd0",
   "metadata": {},
   "outputs": [],
   "source": []
  }
 ],
 "metadata": {
  "kernelspec": {
   "display_name": "Python 3 (ipykernel)",
   "language": "python",
   "name": "python3"
  },
  "language_info": {
   "codemirror_mode": {
    "name": "ipython",
    "version": 3
   },
   "file_extension": ".py",
   "mimetype": "text/x-python",
   "name": "python",
   "nbconvert_exporter": "python",
   "pygments_lexer": "ipython3",
   "version": "3.10.9"
  }
 },
 "nbformat": 4,
 "nbformat_minor": 5
}
