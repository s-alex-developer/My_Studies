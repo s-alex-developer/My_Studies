{
 "cells": [
  {
   "cell_type": "markdown",
   "id": "d223d97f",
   "metadata": {},
   "source": [
    "# `Инкапсуляция, Наследование, Полиморфизм, магические методы.`\n",
    "---"
   ]
  },
  {
   "cell_type": "markdown",
   "id": "53b2ca38",
   "metadata": {},
   "source": [
    "### Инкапсуляция.\n",
    "\n",
    "Инкапсуляция заключается в том, что данные скрыты за пределами определения объекта. Это позволяет разработчикам создавать удобный интерфейс взаимодействия и защитить данные от внешних источников."
   ]
  },
  {
   "cell_type": "markdown",
   "id": "4a01c69a",
   "metadata": {},
   "source": [
    "> `Приватность` - обеспечивает условия, не позволяющие использовать интерфейс класса за его пределами. \n",
    "\n",
    "> `В Python` обеспечить полноценную приватность невозможно, поэтому `Инкапсуляция` носит формальный характер и работает только на уровне соглашения."
   ]
  },
  {
   "cell_type": "markdown",
   "id": "01509020",
   "metadata": {},
   "source": [
    "**Виды приватности и их обозначения:**"
   ]
  },
  {
   "cell_type": "code",
   "execution_count": null,
   "id": "1bf384b2",
   "metadata": {},
   "outputs": [],
   "source": [
    "public #Публичный модификатор доступа.\n",
    "_protected #Защищенный модификатор доступа.\n",
    "__private #Приватный модификатор доступа."
   ]
  },
  {
   "cell_type": "markdown",
   "id": "902df011",
   "metadata": {},
   "source": [
    "**Пример работы кода c `публичным`модификатором доступа:**"
   ]
  },
  {
   "cell_type": "code",
   "execution_count": 6,
   "id": "f22826e3",
   "metadata": {},
   "outputs": [
    {
     "name": "stdout",
     "output_type": "stream",
     "text": [
      "Сейф взломан.\n"
     ]
    }
   ],
   "source": [
    "class Safes:\n",
    "    def __init__(self, protection_level):\n",
    "        self.protection = protection_level\n",
    "        \n",
    "class Thiefs:\n",
    "    def __init__(self, breakin_power):\n",
    "         self.breakin = breakin_power\n",
    "        \n",
    "    def ability(self, items):\n",
    "        if self.breakin > items.protection:\n",
    "            print('Сейф взломан.')\n",
    "        else:\n",
    "            print('Недостаточно навыков для взлома!')\n",
    "            \n",
    "#Созданим по экземпляру объекта классов Safe и Thief:            \n",
    "safe = Safes(100)\n",
    "thief = Thiefs(101)\n",
    "\n",
    "#Воспользуемся навыком взлома вора через функцию ability()\n",
    "#Передадим туда в качестве аргумента атрибут ptotection объекта safe класса Safes:\n",
    "\n",
    "thief.ability(safe)"
   ]
  },
  {
   "cell_type": "markdown",
   "id": "de7b7e66",
   "metadata": {},
   "source": [
    "**Установим `защищенный` модификатор доступа и проверим результат:**"
   ]
  },
  {
   "cell_type": "code",
   "execution_count": 8,
   "id": "0d636c49",
   "metadata": {},
   "outputs": [
    {
     "name": "stdout",
     "output_type": "stream",
     "text": [
      "Сейф взломан.\n"
     ]
    }
   ],
   "source": [
    "class Safes:\n",
    "    def __init__(self, protection_level):\n",
    "        self.protection = protection_level\n",
    "        \n",
    "class Thiefs:\n",
    "    def __init__(self, breakin_power):\n",
    "         self.breakin = breakin_power\n",
    "        \n",
    "    def _ability(self, items): #Установка защищенного модификатора доступа через _ (одно подчеркивание).\n",
    "        if self.breakin > items.protection:\n",
    "            print('Сейф взломан.')\n",
    "        else:\n",
    "            print('Недостаточно навыков для взлома!')\n",
    "                     \n",
    "safe = Safes(100)\n",
    "thief = Thiefs(101)\n",
    "\n",
    "thief._ability(safe)"
   ]
  },
  {
   "cell_type": "markdown",
   "id": "6ab2ed0c",
   "metadata": {},
   "source": [
    "> *Как мы видим установка `зищиненного` модификатора доступа никак не мешает вызвать внутренний метод `_ability` класса `Thiefs` вне класса.*"
   ]
  },
  {
   "cell_type": "markdown",
   "id": "ad89ea75",
   "metadata": {},
   "source": [
    "**Установим `приватный` модификатор доступа:**"
   ]
  },
  {
   "cell_type": "code",
   "execution_count": 9,
   "id": "3bf00955",
   "metadata": {
    "scrolled": false
   },
   "outputs": [
    {
     "ename": "AttributeError",
     "evalue": "'Thiefs' object has no attribute '__ability'",
     "output_type": "error",
     "traceback": [
      "\u001b[1;31m---------------------------------------------------------------------------\u001b[0m",
      "\u001b[1;31mAttributeError\u001b[0m                            Traceback (most recent call last)",
      "\u001b[1;32m~\\AppData\\Local\\Temp\\ipykernel_524\\1055229118.py\u001b[0m in \u001b[0;36m<module>\u001b[1;34m\u001b[0m\n\u001b[0;32m     16\u001b[0m \u001b[0mthief\u001b[0m \u001b[1;33m=\u001b[0m \u001b[0mThiefs\u001b[0m\u001b[1;33m(\u001b[0m\u001b[1;36m101\u001b[0m\u001b[1;33m)\u001b[0m\u001b[1;33m\u001b[0m\u001b[1;33m\u001b[0m\u001b[0m\n\u001b[0;32m     17\u001b[0m \u001b[1;33m\u001b[0m\u001b[0m\n\u001b[1;32m---> 18\u001b[1;33m \u001b[0mthief\u001b[0m\u001b[1;33m.\u001b[0m\u001b[0m__ability\u001b[0m\u001b[1;33m(\u001b[0m\u001b[0msafe\u001b[0m\u001b[1;33m)\u001b[0m\u001b[1;33m\u001b[0m\u001b[1;33m\u001b[0m\u001b[0m\n\u001b[0m",
      "\u001b[1;31mAttributeError\u001b[0m: 'Thiefs' object has no attribute '__ability'"
     ]
    }
   ],
   "source": [
    "class Safes:\n",
    "    def __init__(self, protection_level):\n",
    "        self.protection = protection_level\n",
    "        \n",
    "class Thiefs:\n",
    "    def __init__(self, breakin_power):\n",
    "         self.breakin = breakin_power\n",
    "        \n",
    "    def __ability(self, items): #Установим приватный модификатор доступа через __(два подчеркивания).\n",
    "        if self.breakin > items.protection:\n",
    "            print('Сейф взломан.')\n",
    "        else:\n",
    "            print('Недостаточно навыков для взлома!')\n",
    "                     \n",
    "safe = Safes(100)\n",
    "thief = Thiefs(101)\n",
    "\n",
    "thief.__ability(safe)"
   ]
  },
  {
   "cell_type": "markdown",
   "id": "df7c6494",
   "metadata": {},
   "source": [
    "> *При выполнении кода получим ошибку, `приватность работает` и не позволяет вызывать метод `__ability` за пределами класса `Thiefs`*"
   ]
  },
  {
   "cell_type": "markdown",
   "id": "52c1bb08",
   "metadata": {},
   "source": [
    "**Обходим приватность:**"
   ]
  },
  {
   "cell_type": "code",
   "execution_count": 12,
   "id": "98c69914",
   "metadata": {},
   "outputs": [
    {
     "data": {
      "text/plain": [
       "['_Thiefs__ability',\n",
       " '__class__',\n",
       " '__delattr__',\n",
       " '__dict__',\n",
       " '__dir__',\n",
       " '__doc__',\n",
       " '__eq__',\n",
       " '__format__',\n",
       " '__ge__',\n",
       " '__getattribute__',\n",
       " '__gt__',\n",
       " '__hash__',\n",
       " '__init__',\n",
       " '__init_subclass__',\n",
       " '__le__',\n",
       " '__lt__',\n",
       " '__module__',\n",
       " '__ne__',\n",
       " '__new__',\n",
       " '__reduce__',\n",
       " '__reduce_ex__',\n",
       " '__repr__',\n",
       " '__setattr__',\n",
       " '__sizeof__',\n",
       " '__str__',\n",
       " '__subclasshook__',\n",
       " '__weakref__']"
      ]
     },
     "execution_count": 12,
     "metadata": {},
     "output_type": "execute_result"
    }
   ],
   "source": [
    "#Воспользуемся функцией dir() и выведем все доступные методы для класса Thiefs:\n",
    "dir(Thiefs)"
   ]
  },
  {
   "cell_type": "markdown",
   "id": "f63e70a9",
   "metadata": {},
   "source": [
    "**Воспользуемся методом `_Thiefs__ability`, где явно указан класс и увидим, что код прекрасно работает в обход приватности:**"
   ]
  },
  {
   "cell_type": "code",
   "execution_count": 22,
   "id": "01344050",
   "metadata": {},
   "outputs": [
    {
     "name": "stdout",
     "output_type": "stream",
     "text": [
      "Сейф взломан.\n"
     ]
    }
   ],
   "source": [
    "class Safes:\n",
    "    def __init__(self, protection_level):\n",
    "        self.__protection = protection_level #Установим приватный модификатор доступа к атрибуту класса.\n",
    "        \n",
    "class Thiefs:\n",
    "    def __init__(self, breakin_power):\n",
    "         self.breakin = breakin_power\n",
    "        \n",
    "    def __ability(self, items): #Установим приватный модификатор доступа к методу через __ (два подчеркивания).\n",
    "        if self.breakin > items._Safes__protection: #Обходим приватность атрибута.\n",
    "            print('Сейф взломан.')\n",
    "        else:\n",
    "            print('Недостаточно навыков для взлома!')\n",
    "                     \n",
    "safe = Safes(100)\n",
    "thief = Thiefs(101)\n",
    "\n",
    "thief._Thiefs__ability(safe) #Обходим приватность метода."
   ]
  },
  {
   "cell_type": "markdown",
   "id": "f43f8880",
   "metadata": {},
   "source": [
    "> **Еще раз хочется подчеркнуть, что реализация `инкапсуляции` и `приватности` в Python носит формальный характер и работает только на уровне соглашения.**"
   ]
  },
  {
   "cell_type": "markdown",
   "id": "490f36f0",
   "metadata": {},
   "source": [
    "### Наследование."
   ]
  },
  {
   "cell_type": "code",
   "execution_count": 25,
   "id": "f07afdfc",
   "metadata": {},
   "outputs": [
    {
     "name": "stdout",
     "output_type": "stream",
     "text": [
      "Ест еду\n",
      "Ходит\n",
      "Заражен\n",
      "Укушенный инфицирован\n"
     ]
    }
   ],
   "source": [
    "#Реализуем множественное наследование!\n",
    "class Humans:\n",
    "    eat = 'Ест еду'\n",
    "    move = 'Быстро бегает'\n",
    "    status = 'Здоров'\n",
    "    \n",
    "class Infected:\n",
    "    move = 'Ходит'\n",
    "    status = 'Заражен'\n",
    "    \n",
    "    def bite(self):\n",
    "        print('Укушенный инфицирован')\n",
    "        \n",
    "#Рассмотри порядок наследывания от родительских классов.\n",
    "#Атрибут status унаследуется от класса Infected, а атрибуты eat и move от класса Humans.\n",
    "#Порядок наследывания по умолчанию определеятеся порядком перечисления родительских классов в скобках подкласса.  \n",
    "class Zombies(Infected, Humans):\n",
    "    pass\n",
    "\n",
    "human_1 = Zombies()\n",
    "print(human_1.eat)\n",
    "print(human_1.move)\n",
    "print(human_1.status)\n",
    "human_1.bite()"
   ]
  },
  {
   "cell_type": "code",
   "execution_count": 26,
   "id": "1b6b3f71",
   "metadata": {},
   "outputs": [
    {
     "name": "stdout",
     "output_type": "stream",
     "text": [
      "Ест еду\n",
      "Быстро бегает\n",
      "Здоров\n",
      "Укушенный инфицирован\n"
     ]
    }
   ],
   "source": [
    "#Изменим порядок наследывания по умолчанию и сравним результаты:\n",
    "class Zombies(Humans, Infected):\n",
    "    pass\n",
    "human_2 = Zombies()\n",
    "print(human_2.eat)\n",
    "print(human_2.move)\n",
    "print(human_2.status)\n",
    "human_2.bite()"
   ]
  },
  {
   "cell_type": "markdown",
   "id": "47febc42",
   "metadata": {},
   "source": [
    "> `Линеаризация` способ представления дерева (графа, дерева) в линейную модель (плоскую структуру, список) для определения порядка наследования.\n",
    "\n",
    "> `MRO` (Method Resolution Order _пер. \"Порядок разрешения методов.\"_) - порядок в котором **Python** ищет методы и атрибуты в иерархии классов."
   ]
  },
  {
   "cell_type": "code",
   "execution_count": 22,
   "id": "1e2e402f",
   "metadata": {
    "scrolled": false
   },
   "outputs": [
    {
     "name": "stdout",
     "output_type": "stream",
     "text": [
      "[<class '__main__.Zombies'>, <class '__main__.Humans'>, <class '__main__.Infected'>, <class 'object'>]\n"
     ]
    }
   ],
   "source": [
    "class Zombies(Humans, Infected):\n",
    "    pass\n",
    "print(Zombies.mro())"
   ]
  },
  {
   "cell_type": "markdown",
   "id": "b695fa61",
   "metadata": {},
   "source": [
    "*__Наследование__ работает по тем же принципам, даже когда мы исползуем метод `__init__` для инициализации объектов \n",
    "класса.*\n",
    "\n",
    "`__init__` - такой же метод как и все остальные в **Python** и наследуется от первого указанного родительского класса, точно по такому же принципу, что и все остальные методы."
   ]
  },
  {
   "cell_type": "code",
   "execution_count": 56,
   "id": "421e59e9",
   "metadata": {},
   "outputs": [
    {
     "name": "stdout",
     "output_type": "stream",
     "text": [
      "Ест еду\n",
      "Быстро бегает\n",
      "Здоров\n",
      "100\n",
      "Укушенный инфицирован\n"
     ]
    }
   ],
   "source": [
    "#В данном примере порядок наследования метода __init__ определен от родительского класса Humans\n",
    "class Humans:\n",
    "#Появился обязательный аргумент health, который будет необходимо указать при инициализации объекта класса.\n",
    "    def __init__(self, health): \n",
    "        self.eat = 'Ест еду'\n",
    "        self.move = 'Быстро бегает'\n",
    "        self.status = 'Здоров'\n",
    "        self.health = health\n",
    "    \n",
    "class Infected:\n",
    "    def __init__(self):\n",
    "        self.move = 'Ходит'\n",
    "        self.status = 'Заражен'\n",
    "        self.health = 33\n",
    "    \n",
    "    def bite(self):\n",
    "        print('Укушенный инфицирован')\n",
    "\n",
    "class Zombies(Humans, Infected):\n",
    "    pass\n",
    "\n",
    "human_1 = Zombies(100) #Передаем в метод класса обязательное для создания объекта класса значение аргумента health.\n",
    "print(human_1.eat)\n",
    "print(human_1.move)\n",
    "print(human_1.status)\n",
    "print(human_1.health)\n",
    "human_1.bite()"
   ]
  },
  {
   "cell_type": "markdown",
   "id": "8f82d8f7",
   "metadata": {},
   "source": [
    "**Изменим порядок наследывания и сравним результы:**"
   ]
  },
  {
   "cell_type": "code",
   "execution_count": 58,
   "id": "c8a06f9f",
   "metadata": {
    "scrolled": true
   },
   "outputs": [
    {
     "name": "stdout",
     "output_type": "stream",
     "text": [
      "Ходит\n",
      "Заражен\n",
      "33\n",
      "Укушенный инфицирован\n"
     ]
    }
   ],
   "source": [
    "#В данном примере порядок наследования метода __init__ определен от родительского класса Infected\n",
    "class Humans:\n",
    "    def __init__(self, health):\n",
    "        self.eat = 'Ест еду'\n",
    "        self.move = 'Быстро бегает'\n",
    "        self.status = 'Здоров'\n",
    "        self.health = health\n",
    "    \n",
    "class Infected:\n",
    "    def __init__(self):\n",
    "        self.move = 'Ходит'\n",
    "        self.status = 'Заражен'\n",
    "        self.health = 33\n",
    "    \n",
    "    def bite(self):\n",
    "        print('Укушенный инфицирован')\n",
    "\n",
    "class Zombies(Infected, Humans):\n",
    "    pass\n",
    "\n",
    "human_2 = Zombies() #В данном примере передача дополнительных аргументов в метод не требуется.\n",
    "print(human_2.move)\n",
    "print(human_2.status)\n",
    "print(human_2.health)\n",
    "human_2.bite()"
   ]
  },
  {
   "cell_type": "markdown",
   "id": "48a2458c",
   "metadata": {},
   "source": [
    "### Полиморфизм.\n",
    "\n",
    "Полиморфизм позволяет методам с одинаковыми именами реализовывать разную функциональность для разных классов (в т.ч. дочерних)."
   ]
  },
  {
   "cell_type": "code",
   "execution_count": 59,
   "id": "3560c44a",
   "metadata": {},
   "outputs": [
    {
     "name": "stdout",
     "output_type": "stream",
     "text": [
      "Побежал как человек\n"
     ]
    }
   ],
   "source": [
    "class Humans:\n",
    "    def move(self):\n",
    "        print('Побежал как человек')\n",
    "    \n",
    "class Infected:\n",
    "    def move(self):\n",
    "        print('Идет обычным шагом')\n",
    "    def bite(self):\n",
    "        print('Может укусить.')\n",
    "\n",
    "class Zombies(Humans, Infected):\n",
    "    pass\n",
    "        \n",
    "human_1 = Zombies()\n",
    "human_1.move()"
   ]
  },
  {
   "cell_type": "code",
   "execution_count": 60,
   "id": "2082abf5",
   "metadata": {},
   "outputs": [
    {
     "name": "stdout",
     "output_type": "stream",
     "text": [
      "Идет обычным шагом\n"
     ]
    }
   ],
   "source": [
    "#Изменим порядок наследывания:\n",
    "class Zombies(Infected, Humans):\n",
    "    pass\n",
    "        \n",
    "human_2 = Zombies()\n",
    "human_2.move()"
   ]
  },
  {
   "cell_type": "code",
   "execution_count": 61,
   "id": "43151ede",
   "metadata": {},
   "outputs": [
    {
     "name": "stdout",
     "output_type": "stream",
     "text": [
      "Еле ползет, но...\n",
      "Может укусить.\n"
     ]
    }
   ],
   "source": [
    "#Добавим метод move в класс Zombies и дополнительно вызовем метод одного из родительских классов:\n",
    "class Zombies(Infected, Humans):\n",
    "    def move(self):\n",
    "        print('Еле ползет, но...')\n",
    "        self.bite()\n",
    "        \n",
    "human_3 = Zombies()\n",
    "human_3.move()"
   ]
  },
  {
   "cell_type": "markdown",
   "id": "a2d4ccd4",
   "metadata": {},
   "source": [
    "Функция `super()` можно получить доступ к унаследованным методам, которые были перезаписаны в дочернем классе. То есть мы можем из дочернего класса обратится к методу в родительском классе, минуя метод с таким же названием в дочернем классе."
   ]
  },
  {
   "cell_type": "code",
   "execution_count": 64,
   "id": "709623f6",
   "metadata": {
    "scrolled": true
   },
   "outputs": [
    {
     "name": "stdout",
     "output_type": "stream",
     "text": [
      "Ест еду\n",
      "Быстро бегает\n",
      "Здоров\n",
      "77\n",
      "Зомби плохо пахнут.\n"
     ]
    }
   ],
   "source": [
    "class Humans:\n",
    "    def __init__(self, health):\n",
    "        self.eat = 'Ест еду'\n",
    "        self.move = 'Быстро бегает'\n",
    "        self.status = 'Здоров'\n",
    "        self.health = health\n",
    "    \n",
    "class Infected:\n",
    "    def __init__(self):\n",
    "        self.move = 'Ходит'\n",
    "        self.status = 'Заражен'\n",
    "        self.health = 33\n",
    "    \n",
    "    def bite(self):\n",
    "        print('Укушенный инфицирован')\n",
    "\n",
    "class Zombies(Humans, Infected):\n",
    "    def __init__(self, health):\n",
    "        super().__init__(health)\n",
    "        self.smell = \"Зомби плохо пахнут.\"\n",
    "\n",
    "human = Zombies(77)\n",
    "print(human.eat)\n",
    "print(human.move)\n",
    "print(human.status)\n",
    "print(human.health)\n",
    "print(human.smell)"
   ]
  },
  {
   "cell_type": "code",
   "execution_count": 67,
   "id": "140ab21b",
   "metadata": {
    "scrolled": true
   },
   "outputs": [
    {
     "name": "stdout",
     "output_type": "stream",
     "text": [
      "Ходит\n",
      "Заражен\n",
      "33\n",
      "Зомби плохо пахнут.\n"
     ]
    }
   ],
   "source": [
    "#Пример инициалзации от другого родителького класса:\n",
    "class Humans:\n",
    "    def __init__(self, health):\n",
    "        self.eat = 'Ест еду'\n",
    "        self.move = 'Быстро бегает'\n",
    "        self.status = 'Здоров'\n",
    "        self.health = health\n",
    "    \n",
    "class Infected:\n",
    "    def __init__(self):\n",
    "        self.move = 'Ходит'\n",
    "        self.status = 'Заражен'\n",
    "        self.health = 33\n",
    "    \n",
    "    def bite(self):\n",
    "        print('Укушенный инфицирован')\n",
    "\n",
    "class Zombies(Infected, Humans):\n",
    "    def __init__(self):\n",
    "        super().__init__()\n",
    "        self.smell = \"Зомби плохо пахнут.\"\n",
    "\n",
    "human = Zombies()\n",
    "print(human.move)\n",
    "print(human.status)\n",
    "print(human.health)\n",
    "print(human.smell)"
   ]
  },
  {
   "cell_type": "markdown",
   "id": "ce3412de",
   "metadata": {},
   "source": [
    "**Пример `рекурсии` и применения функции `super()` чтобы ее избежать.**"
   ]
  },
  {
   "cell_type": "code",
   "execution_count": 1,
   "id": "1eef6da4",
   "metadata": {},
   "outputs": [
    {
     "name": "stdout",
     "output_type": "stream",
     "text": [
      "pew-pew\n"
     ]
    }
   ],
   "source": [
    "class Guns:\n",
    "    def shooting(self):\n",
    "        print('pew-pew')\n",
    "\n",
    "class Pistols(Guns):\n",
    "    def __init__(self, patron):\n",
    "        self.patron = patron\n",
    "\n",
    "#Метод при выполнении условия будет постоянно вызывать себя, возникнет рекурсия.\n",
    "#Чтобы этого избежать вызовем одноименный метод из родительского класса при помощи функции super():\n",
    "    def shooting(self):\n",
    "        if self.patron > 0:\n",
    "            super().shooting()\n",
    "        else:\n",
    "            print('no patrons')\n",
    "            \n",
    "gun = Pistols(1)\n",
    "gun.shooting()"
   ]
  },
  {
   "cell_type": "markdown",
   "id": "5dd58054",
   "metadata": {},
   "source": [
    "***Пример вызова методов напрямую минуя наследование по концепции mro():**"
   ]
  },
  {
   "cell_type": "code",
   "execution_count": 18,
   "id": "3b122d3b",
   "metadata": {},
   "outputs": [
    {
     "name": "stdout",
     "output_type": "stream",
     "text": [
      "Атака война\n",
      "Ближняя атака\n",
      "Дальнаяя атака\n",
      "Оглушаяющая атака\n"
     ]
    }
   ],
   "source": [
    "#Пример выполнения сразу нескольких одноименных методов:\n",
    "class Warrior(Short_attack, Long_attack):\n",
    "    def attack(self): #Метод самого подкласса\n",
    "        print('Атака война')\n",
    "        super().attack() #Следующий метод по mro()\n",
    "        Long_attack.attack(self) #Вызов метода родительского класса напрямую.\n",
    "        Stun_attack.attack(self) #Вызов методов постороннего класса.\n",
    "\n",
    "man = Warrior()\n",
    "man.attack()"
   ]
  },
  {
   "cell_type": "markdown",
   "id": "9345c2c7",
   "metadata": {},
   "source": [
    "### Магические методы:"
   ]
  },
  {
   "cell_type": "markdown",
   "id": "2f5e6ffe",
   "metadata": {},
   "source": [
    "> `Магические методы` – это общий термин, относящийся к \"специальным\" методам классов, для которых нет единого определения, поскольку их применение разнообразно.\n",
    "\n",
    "> `Магические методы` мы можем объявлять для создаваемых классов и применять к объектам класса."
   ]
  },
  {
   "cell_type": "code",
   "execution_count": 41,
   "id": "261331f0",
   "metadata": {},
   "outputs": [
    {
     "name": "stdout",
     "output_type": "stream",
     "text": [
      "True\n",
      "True\n",
      "False\n",
      "False\n",
      "120\n",
      "120\n"
     ]
    }
   ],
   "source": [
    "class Humans:\n",
    "    def __init__(self):\n",
    "        self.power = 35\n",
    "        \n",
    "    def __lt__(self, other):\n",
    "        if not isinstance(other, Humans):\n",
    "            print('Объект не относится к классу')\n",
    "        else:\n",
    "            return self.power < other.power\n",
    "        \n",
    "class Sportsmans(Humans):\n",
    "    def __init__(self):\n",
    "        self.power = 50\n",
    "        \n",
    "    def __add__(self, other):\n",
    "        if not isinstance(other, Humans):\n",
    "              print('Объект не относится к классу')\n",
    "        else:\n",
    "            return self.power + other.power\n",
    "        \n",
    "class Bodybuilders(Sportsmans):\n",
    "    def __init__(self):\n",
    "        self.power = 70\n",
    "        \n",
    "man_1 = Humans()\n",
    "man_2 = Sportsmans()\n",
    "man_3 = Bodybuilders()\n",
    "\n",
    "#Теперь мы можем сравнивать параметры объектов класса:\n",
    "print(man_1.__lt__(man_2))\n",
    "print(man_1 < man_2)\n",
    "\n",
    "\n",
    "print(man_3 < man_2)\n",
    "print(man_3.__lt__(man_2))\n",
    "\n",
    "#Попробуем сложить параметры объектов класса:\n",
    "print(man_2.__add__(man_3))\n",
    "print(man_2 + man_3)"
   ]
  }
 ],
 "metadata": {
  "kernelspec": {
   "display_name": "Python 3 (ipykernel)",
   "language": "python",
   "name": "python3"
  },
  "language_info": {
   "codemirror_mode": {
    "name": "ipython",
    "version": 3
   },
   "file_extension": ".py",
   "mimetype": "text/x-python",
   "name": "python",
   "nbconvert_exporter": "python",
   "pygments_lexer": "ipython3",
   "version": "3.9.13"
  }
 },
 "nbformat": 4,
 "nbformat_minor": 5
}
