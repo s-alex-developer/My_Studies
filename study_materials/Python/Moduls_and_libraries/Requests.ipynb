{
 "cells": [
  {
   "cell_type": "markdown",
   "id": "b91da8e8",
   "metadata": {},
   "source": [
    "*Последние изменения внесены: `21.03.2023`*"
   ]
  },
  {
   "cell_type": "markdown",
   "id": "b63a4544",
   "metadata": {},
   "source": [
    "# Requests в Python – Примеры выполнения HTTP запросов"
   ]
  },
  {
   "cell_type": "markdown",
   "id": "ea8dcbad",
   "metadata": {},
   "source": [
    "* `Библиотека requests` является стандартным инструментом для составления **HTTP-запросов** в **Python**. \n",
    "* Простой и аккуратный **API** значительно облегчает трудоемкий процесс создания запросов."
   ]
  },
  {
   "cell_type": "markdown",
   "id": "3a45dba2",
   "metadata": {},
   "source": [
    "Стоит взять на заметку сайт **httpbin.org**. \n",
    "   * Это чрезвычайно полезный ресурс, созданный человеком, который внедрил использование `requests` – *Кеннетом Рейтцом*.\n",
    "   * Данный сервис предназначен для тестовых запросов. \n",
    "   * Здесь можно составить пробный запрос и получить ответ с требуемой информацией. "
   ]
  },
  {
   "cell_type": "markdown",
   "id": "e884b047",
   "metadata": {},
   "source": [
    "### HTTP Request (запрос) и структура URL"
   ]
  },
  {
   "cell_type": "markdown",
   "id": "a183f558",
   "metadata": {},
   "source": [
    "Типовая структура URL:\n",
    "\n",
    "```http://site.com/path/to/resource?param1=value1*&*param2=value2```\n"
   ]
  },
  {
   "cell_type": "markdown",
   "id": "03566683",
   "metadata": {},
   "source": [
    "HTTP запрос состоит из:\n",
    "* **query string** - _строка запроса_, содержащая:\n",
    "    * **method**  - _метод запроса_ \n",
    "    * **URL** или **URI** - _адресная строка запроса_, \n",
    "    * **params** - _параметры запроса_, используются для фильтрации информации, которую мы хотим получить.\n",
    "        * _Знак `?` отделяет строку URL от параметров._\n",
    "        * _Парметры идут в паре `ключ=значение`_\n",
    "        * _Знак `&` - амперсанд отделяет одни параметры от других._\n",
    "* **headers** - _заголовок_ - это служебная часть содержащая информацию о запросе, например:\n",
    "    * авторизационные данные пользователя\n",
    "    * версию браузера\n",
    "    * выставленные cookie\n",
    "    * поддерживаемые форматы сжатия данных\n",
    "    * и т.д.\n",
    "* **body** - _тело запроса_\n",
    "\n",
    "Простейший запрос может не содержать ни заголовков, ни метода, ни параметров. Необходим только метод и адресная строка запроса."
   ]
  },
  {
   "cell_type": "markdown",
   "id": "a11b5eff",
   "metadata": {},
   "source": [
    "## 1. Python установка `библиотеки requests`"
   ]
  },
  {
   "cell_type": "markdown",
   "id": "34d0351e",
   "metadata": {},
   "source": [
    "Для начала работы потребуется установить библиотеку requests. Для этого используется следующая команда:\n",
    "\n",
    "`pip install requests`\n"
   ]
  },
  {
   "cell_type": "markdown",
   "id": "5b34085d",
   "metadata": {},
   "source": [
    "Сразу после установки requests можно полноценно использовать в приложении. Импорт requests производится следующим образом:\n",
    "```python\n",
    "import requests\n",
    "```"
   ]
  },
  {
   "cell_type": "markdown",
   "id": "5e8d66bc",
   "metadata": {},
   "source": [
    "## 2. Python библиотека `Requests` метод `GET`"
   ]
  },
  {
   "cell_type": "markdown",
   "id": "631d0933",
   "metadata": {},
   "source": [
    "* **GET** является одним из самых популярных **HTTP методов**. \n",
    "* Метод **GET** указывает на то, что происходит попытка извлечь данные из определенного ресурса. \n",
    "* Для того, чтобы выполнить запрос **GET**, используется `requests.get()`.\n",
    "* Метод **GET** - относится к безопасным методам, так как не выполняет никаких дейсвтий на сервере."
   ]
  },
  {
   "cell_type": "markdown",
   "id": "8ab116b9",
   "metadata": {},
   "source": [
    "> Для проверки работы команд будем выполнять запрос в отношении **Root REST API** на **GitHub**.`"
   ]
  },
  {
   "cell_type": "markdown",
   "id": "35dc761d",
   "metadata": {},
   "source": [
    "Выполним **запрос GET** в отношении указанного в скобках URL (вызовем `метод get()`):\n",
    "```python\n",
    "request.get('https://api.github.com')\n",
    "```\n",
    "\n",
    "* Если никакие python ошибки не возникло – первый запрос успешно выполнен. Далее будет рассмотрен ответ на данный запрос, который можно получить при помощи объекта `Response`."
   ]
  },
  {
   "cell_type": "markdown",
   "id": "93290bff",
   "metadata": {},
   "source": [
    "## 3. Объект `Response` получение ответа на запрос в Python"
   ]
  },
  {
   "cell_type": "markdown",
   "id": "c913a655",
   "metadata": {},
   "source": [
    "* `Response` представляет собой довольно мощный объект для анализа результатов запроса. \n",
    "* В качестве примера будет использован предыдущий запрос, только на этот раз результат будет представлен в виде переменной.\n",
    "* Таким образом, получится лучше изучить его атрибуты и особенности использования."
   ]
  },
  {
   "cell_type": "markdown",
   "id": "1c485feb",
   "metadata": {},
   "source": [
    "```python\n",
    "import requests\n",
    "\n",
    "response = requests.get('https://api.github.com')\n",
    "```"
   ]
  },
  {
   "cell_type": "markdown",
   "id": "873c46b1",
   "metadata": {},
   "source": [
    "* В данном примере при помощи `get(`) захватывается определенное значение, что является частью объекта `Response`, и помещается в переменную под названием **response**. \n",
    "* Теперь можно использовать переменную **response** для того, чтобы изучить данные, которые были получены в результате запроса **GET**."
   ]
  },
  {
   "cell_type": "markdown",
   "id": "e4376a59",
   "metadata": {},
   "source": [
    "## 4. HTTP коды состояний"
   ]
  },
  {
   "cell_type": "markdown",
   "id": "05c8230f",
   "metadata": {},
   "source": [
    "* Самыми первыми данными, которые будут получены через `Response`, будут **коды состояния**. \n",
    "* **Коды состояния** сообщают о статусе запроса.\n",
    "* Например, статус **200 OK** значит, что запрос успешно выполнен. А вот статус **404 NOT FOUND** говорит о том, что запрашиваемый ресурс не был найден. \n",
    "* Существует множество других статусных кодов, которые могут сообщить важную информацию, связанную с запросом.\n",
    "* Интересный сайт с расшифровкой кодов: https://http.cat/"
   ]
  },
  {
   "cell_type": "markdown",
   "id": "7776adb1",
   "metadata": {},
   "source": [
    "**HTTP коды**\n",
    "\n",
    "Первая цифра обозначает семантику кода.\n",
    "* 1XX — Информационные\n",
    "* 2XX — Успешный вызов (пример: 200 – ок, 201 – создано)\n",
    "* 3XX — Перенаправление\n",
    "* 4XX — Ошибка на стороне клиента (пример: 404 – не найдено, 403 – недостаточно прав) \n",
    "* 5XX — Ошибка на стороне сервера"
   ]
  },
  {
   "cell_type": "markdown",
   "id": "b7c4b4ca",
   "metadata": {},
   "source": [
    "### `.status_code`"
   ]
  },
  {
   "cell_type": "markdown",
   "id": "f8d5d72f",
   "metadata": {},
   "source": [
    "* Используя `.status_code`, можно увидеть код состояния, который возвращается с сервера:"
   ]
  },
  {
   "cell_type": "code",
   "execution_count": 13,
   "id": "79b4bd96",
   "metadata": {},
   "outputs": [
    {
     "name": "stdout",
     "output_type": "stream",
     "text": [
      "200\n"
     ]
    }
   ],
   "source": [
    "import requests\n",
    "\n",
    "response = requests.get('https://api.github.com')\n",
    "print(response.status_code)"
   ]
  },
  {
   "cell_type": "markdown",
   "id": "b1acb36b",
   "metadata": {},
   "source": [
    "* `.status_code` вернул значение **200**. Это значит, что запрос был выполнен успешно, а сервер ответил, отобразив запрашиваемую информацию."
   ]
  },
  {
   "cell_type": "markdown",
   "id": "fefd2269",
   "metadata": {},
   "source": [
    "В некоторых случаях необходимо использовать полученную информацию для написания программного кода.\n",
    "\n",
    "Например:"
   ]
  },
  {
   "cell_type": "code",
   "execution_count": 12,
   "id": "21704d0b",
   "metadata": {},
   "outputs": [
    {
     "name": "stdout",
     "output_type": "stream",
     "text": [
      "Success!\n"
     ]
    }
   ],
   "source": [
    "import requests\n",
    "\n",
    "response = requests.get('https://api.github.com')\n",
    "\n",
    "if response.status_code == 200:\n",
    "    print('Success!')\n",
    "elif response.status_code == 404:\n",
    "    print('Not Found.')"
   ]
  },
  {
   "cell_type": "markdown",
   "id": "1d8a8c8a",
   "metadata": {},
   "source": [
    "* В таком случае, если с сервера будет получен код состояния **200**, тогда программа выведет значение **Success!**. Однако, если от сервера поступит код **404**, тогда программа выведет значение **Not Found**."
   ]
  },
  {
   "cell_type": "markdown",
   "id": "ee891f92",
   "metadata": {},
   "source": [
    " Если использовать `Response` в условных конструкциях, то при получении кода состояния в промежутке от **200** до **400**, будет выведено значение **True**. В противном случае отобразится значение **False**:"
   ]
  },
  {
   "cell_type": "code",
   "execution_count": 11,
   "id": "804091b6",
   "metadata": {},
   "outputs": [
    {
     "name": "stdout",
     "output_type": "stream",
     "text": [
      "Success!\n"
     ]
    }
   ],
   "source": [
    "import requests\n",
    "\n",
    "response = requests.get('https://api.github.com')\n",
    "\n",
    "if response:\n",
    "    print('Success!')\n",
    "else:\n",
    "    print('An error has occurred.')"
   ]
  },
  {
   "cell_type": "markdown",
   "id": "a134347d",
   "metadata": {},
   "source": [
    "* Стоит иметь в виду, что данный способ не проверяет, имеет ли статусный код точное значение **200**. \n",
    "* Причина заключается в том, что другие коды в промежутке от **200** до **400**, например, **204 NO CONTENT** и **304 NOT MODIFIED**, также считаются успешными в случае, если они могут предоставить действительный ответ.\n",
    "* К примеру, код состояния **204** говорит о том, что ответ успешно получен, однако в полученном объекте нет содержимого.\n",
    "* Можно сказать, что для оптимально эффективного использования способа необходимо убедиться, что начальный запрос был успешно выполнен. \n",
    "* Требуется изучить код состояния и в случае необходимости произвести необходимые поправки, которые будут зависеть от значения полученного кода."
   ]
  },
  {
   "cell_type": "markdown",
   "id": "6657ff20",
   "metadata": {},
   "source": [
    "### `.raise_for_status()` и `HTTPError`"
   ]
  },
  {
   "cell_type": "markdown",
   "id": "4b404f26",
   "metadata": {},
   "source": [
    "* Если при использовании оператора **if** вы не хотите проверять код состояния, можно расширить диапазон исключений для неудачных результатов запроса. \n",
    "* Это можно сделать при помощи использования `.raise_for_status()`"
   ]
  },
  {
   "cell_type": "code",
   "execution_count": 10,
   "id": "5729c61b",
   "metadata": {
    "scrolled": true
   },
   "outputs": [
    {
     "name": "stdout",
     "output_type": "stream",
     "text": [
      "Success!\n"
     ]
    }
   ],
   "source": [
    "import requests\n",
    "from requests.exceptions import HTTPError\n",
    " \n",
    "for url in ['https://api.github.com']:\n",
    "    try:\n",
    "        response = requests.get(url)\n",
    " \n",
    "        # если ответ успешен, исключения задействованы не будут\n",
    "        response.raise_for_status()\n",
    "    except HTTPError as http_err:\n",
    "        print(f'HTTP error occurred: {http_err}')  # Python 3.6\n",
    "    except Exception as err:\n",
    "        print(f'Other error occurred: {err}')  # Python 3.6\n",
    "    else:\n",
    "        print('Success!')"
   ]
  },
  {
   "cell_type": "markdown",
   "id": "1f471c29",
   "metadata": {},
   "source": [
    "* В случае вызова исключений через `.raise_for_status()` к некоторым кодам состояния применяется `HTTPError`. \n",
    "* Когда код состояния показывает, что запрос успешно выполнен, программа продолжает работу без применения политики исключений."
   ]
  },
  {
   "cell_type": "markdown",
   "id": "1fec08ad",
   "metadata": {},
   "source": [
    "**Подыто́жим:**\n",
    "* Анализ способов использования кодов состояния, полученных с сервера, является неплохим стартом для изучения `requests`.\n",
    "* Тем не менее, при создании запроса **GET**, значение кода состояния является не самой важной информацией, которую хочет получить программист. \n",
    "* Обычно запрос производится для извлечения более содержательной информации. \n",
    "* В дальнейшем будет показано, как добраться до актуальных данных, которые сервер высылает отправителю в ответ на запрос."
   ]
  },
  {
   "cell_type": "markdown",
   "id": "b92c881f",
   "metadata": {},
   "source": [
    "## 5. Получить содержимое страницы в `Requests`"
   ]
  },
  {
   "cell_type": "markdown",
   "id": "f86129f0",
   "metadata": {},
   "source": [
    "### `payload`"
   ]
  },
  {
   "cell_type": "markdown",
   "id": "9fde6490",
   "metadata": {},
   "source": [
    "* Ответ на запрос **GET** содержит информацию. \n",
    "* Она находится в теле сообщения и называется **пейлоад** (`payload`). \n",
    "* Используя атрибуты и методы библиотеки `Response`, можно получить **пейлоад** в различных форматах.\n",
    "\n"
   ]
  },
  {
   "cell_type": "markdown",
   "id": "21f1e240",
   "metadata": {},
   "source": [
    "### `.content` ,  `.text`  ,  `.encoding=\" \"`  ,  `json()`"
   ]
  },
  {
   "cell_type": "markdown",
   "id": "6299bd55",
   "metadata": {},
   "source": [
    "\n",
    "\n",
    "\n"
   ]
  },
  {
   "cell_type": "markdown",
   "id": "b68a63f1",
   "metadata": {},
   "source": [
    "* Для того, чтобы получить содержимое запроса в байтах, необходимо использовать `.content`.\n",
    "* Использование `.content` обеспечивает доступ к чистым байтам ответного пейлоада, то есть к любым данным в теле запроса."
   ]
  },
  {
   "cell_type": "code",
   "execution_count": 18,
   "id": "6145e7e3",
   "metadata": {},
   "outputs": [
    {
     "data": {
      "text/plain": [
       "b'{\"current_user_url\":\"https://api.github.com/user\",\"current_user_authorizations_html_url\":\"https://github.com/settings/connections/applications{/client_id}\",\"authorizations_url\":\"https://api.github.com/authorizations\",\"code_search_url\":\"https://api.github.com/search/code?q={query}{&page,per_page,sort,order}\",\"commit_search_url\":\"https://api.github.com/search/commits?q={query}{&page,per_page,sort,order}\",\"emails_url\":\"https://api.github.com/user/emails\",\"emojis_url\":\"https://api.github.com/emojis\",\"events_url\":\"https://api.github.com/events\",\"feeds_url\":\"https://api.github.com/feeds\",\"followers_url\":\"https://api.github.com/user/followers\",\"following_url\":\"https://api.github.com/user/following{/target}\",\"gists_url\":\"https://api.github.com/gists{/gist_id}\",\"hub_url\":\"https://api.github.com/hub\",\"issue_search_url\":\"https://api.github.com/search/issues?q={query}{&page,per_page,sort,order}\",\"issues_url\":\"https://api.github.com/issues\",\"keys_url\":\"https://api.github.com/user/keys\",\"label_search_url\":\"https://api.github.com/search/labels?q={query}&repository_id={repository_id}{&page,per_page}\",\"notifications_url\":\"https://api.github.com/notifications\",\"organization_url\":\"https://api.github.com/orgs/{org}\",\"organization_repositories_url\":\"https://api.github.com/orgs/{org}/repos{?type,page,per_page,sort}\",\"organization_teams_url\":\"https://api.github.com/orgs/{org}/teams\",\"public_gists_url\":\"https://api.github.com/gists/public\",\"rate_limit_url\":\"https://api.github.com/rate_limit\",\"repository_url\":\"https://api.github.com/repos/{owner}/{repo}\",\"repository_search_url\":\"https://api.github.com/search/repositories?q={query}{&page,per_page,sort,order}\",\"current_user_repositories_url\":\"https://api.github.com/user/repos{?type,page,per_page,sort}\",\"starred_url\":\"https://api.github.com/user/starred{/owner}{/repo}\",\"starred_gists_url\":\"https://api.github.com/gists/starred\",\"topic_search_url\":\"https://api.github.com/search/topics?q={query}{&page,per_page}\",\"user_url\":\"https://api.github.com/users/{user}\",\"user_organizations_url\":\"https://api.github.com/user/orgs\",\"user_repositories_url\":\"https://api.github.com/users/{user}/repos{?type,page,per_page,sort}\",\"user_search_url\":\"https://api.github.com/search/users?q={query}{&page,per_page,sort,order}\"}'"
      ]
     },
     "execution_count": 18,
     "metadata": {},
     "output_type": "execute_result"
    }
   ],
   "source": [
    "import requests\n",
    "\n",
    "response = requests.get('https://api.github.com')\n",
    "response.content"
   ]
  },
  {
   "cell_type": "markdown",
   "id": "c4699db8",
   "metadata": {},
   "source": [
    "* Однако, зачастую требуется конвертировать полученную информацию в строку в кодировке UTF-8. response делает это при помощи `.text`."
   ]
  },
  {
   "cell_type": "code",
   "execution_count": 19,
   "id": "7c8adc86",
   "metadata": {},
   "outputs": [
    {
     "data": {
      "text/plain": [
       "'{\"current_user_url\":\"https://api.github.com/user\",\"current_user_authorizations_html_url\":\"https://github.com/settings/connections/applications{/client_id}\",\"authorizations_url\":\"https://api.github.com/authorizations\",\"code_search_url\":\"https://api.github.com/search/code?q={query}{&page,per_page,sort,order}\",\"commit_search_url\":\"https://api.github.com/search/commits?q={query}{&page,per_page,sort,order}\",\"emails_url\":\"https://api.github.com/user/emails\",\"emojis_url\":\"https://api.github.com/emojis\",\"events_url\":\"https://api.github.com/events\",\"feeds_url\":\"https://api.github.com/feeds\",\"followers_url\":\"https://api.github.com/user/followers\",\"following_url\":\"https://api.github.com/user/following{/target}\",\"gists_url\":\"https://api.github.com/gists{/gist_id}\",\"hub_url\":\"https://api.github.com/hub\",\"issue_search_url\":\"https://api.github.com/search/issues?q={query}{&page,per_page,sort,order}\",\"issues_url\":\"https://api.github.com/issues\",\"keys_url\":\"https://api.github.com/user/keys\",\"label_search_url\":\"https://api.github.com/search/labels?q={query}&repository_id={repository_id}{&page,per_page}\",\"notifications_url\":\"https://api.github.com/notifications\",\"organization_url\":\"https://api.github.com/orgs/{org}\",\"organization_repositories_url\":\"https://api.github.com/orgs/{org}/repos{?type,page,per_page,sort}\",\"organization_teams_url\":\"https://api.github.com/orgs/{org}/teams\",\"public_gists_url\":\"https://api.github.com/gists/public\",\"rate_limit_url\":\"https://api.github.com/rate_limit\",\"repository_url\":\"https://api.github.com/repos/{owner}/{repo}\",\"repository_search_url\":\"https://api.github.com/search/repositories?q={query}{&page,per_page,sort,order}\",\"current_user_repositories_url\":\"https://api.github.com/user/repos{?type,page,per_page,sort}\",\"starred_url\":\"https://api.github.com/user/starred{/owner}{/repo}\",\"starred_gists_url\":\"https://api.github.com/gists/starred\",\"topic_search_url\":\"https://api.github.com/search/topics?q={query}{&page,per_page}\",\"user_url\":\"https://api.github.com/users/{user}\",\"user_organizations_url\":\"https://api.github.com/user/orgs\",\"user_repositories_url\":\"https://api.github.com/users/{user}/repos{?type,page,per_page,sort}\",\"user_search_url\":\"https://api.github.com/search/users?q={query}{&page,per_page,sort,order}\"}'"
      ]
     },
     "execution_count": 19,
     "metadata": {},
     "output_type": "execute_result"
    }
   ],
   "source": [
    "import requests\n",
    "\n",
    "response = requests.get('https://api.github.com')\n",
    "response.text"
   ]
  },
  {
   "cell_type": "markdown",
   "id": "8eff8deb",
   "metadata": {},
   "source": [
    "* Декодирование байтов в строку требует наличия определенной модели кодировки. \n",
    "* По умолчанию `requests` попытается узнать текущую кодировку, ориентируясь по заголовкам **HTTP**. \n",
    "* Указать необходимую кодировку можно при помощи добавления `.encoding` перед `.text`."
   ]
  },
  {
   "cell_type": "code",
   "execution_count": 40,
   "id": "9ff32ba4",
   "metadata": {},
   "outputs": [
    {
     "data": {
      "text/plain": [
       "'{\\n  \"current_user_url\": \"https://api.github.com/user\",\\n  \"current_user_authorizations_html_url\": \"https://github.com/settings/connections/applications{/client_id}\",\\n  \"authorizations_url\": \"https://api.github.com/authorizations\",\\n  \"code_search_url\": \"https://api.github.com/search/code?q={query}{&page,per_page,sort,order}\",\\n  \"commit_search_url\": \"https://api.github.com/search/commits?q={query}{&page,per_page,sort,order}\",\\n  \"emails_url\": \"https://api.github.com/user/emails\",\\n  \"emojis_url\": \"https://api.github.com/emojis\",\\n  \"events_url\": \"https://api.github.com/events\",\\n  \"feeds_url\": \"https://api.github.com/feeds\",\\n  \"followers_url\": \"https://api.github.com/user/followers\",\\n  \"following_url\": \"https://api.github.com/user/following{/target}\",\\n  \"gists_url\": \"https://api.github.com/gists{/gist_id}\",\\n  \"hub_url\": \"https://api.github.com/hub\",\\n  \"issue_search_url\": \"https://api.github.com/search/issues?q={query}{&page,per_page,sort,order}\",\\n  \"issues_url\": \"https://api.github.com/issues\",\\n  \"keys_url\": \"https://api.github.com/user/keys\",\\n  \"label_search_url\": \"https://api.github.com/search/labels?q={query}&repository_id={repository_id}{&page,per_page}\",\\n  \"notifications_url\": \"https://api.github.com/notifications\",\\n  \"organization_url\": \"https://api.github.com/orgs/{org}\",\\n  \"organization_repositories_url\": \"https://api.github.com/orgs/{org}/repos{?type,page,per_page,sort}\",\\n  \"organization_teams_url\": \"https://api.github.com/orgs/{org}/teams\",\\n  \"public_gists_url\": \"https://api.github.com/gists/public\",\\n  \"rate_limit_url\": \"https://api.github.com/rate_limit\",\\n  \"repository_url\": \"https://api.github.com/repos/{owner}/{repo}\",\\n  \"repository_search_url\": \"https://api.github.com/search/repositories?q={query}{&page,per_page,sort,order}\",\\n  \"current_user_repositories_url\": \"https://api.github.com/user/repos{?type,page,per_page,sort}\",\\n  \"starred_url\": \"https://api.github.com/user/starred{/owner}{/repo}\",\\n  \"starred_gists_url\": \"https://api.github.com/gists/starred\",\\n  \"topic_search_url\": \"https://api.github.com/search/topics?q={query}{&page,per_page}\",\\n  \"user_url\": \"https://api.github.com/users/{user}\",\\n  \"user_organizations_url\": \"https://api.github.com/user/orgs\",\\n  \"user_repositories_url\": \"https://api.github.com/users/{user}/repos{?type,page,per_page,sort}\",\\n  \"user_search_url\": \"https://api.github.com/search/users?q={query}{&page,per_page,sort,order}\"\\n}\\n'"
      ]
     },
     "execution_count": 40,
     "metadata": {},
     "output_type": "execute_result"
    }
   ],
   "source": [
    "import requests\n",
    "\n",
    "response = requests.get('https://api.github.com')\n",
    "response.encoding = 'utf-8' \n",
    "response.text"
   ]
  },
  {
   "cell_type": "markdown",
   "id": "ea63a1e8",
   "metadata": {},
   "source": [
    "* Если присмотреться к ответу, можно заметить, что его содержимое является сериализированным **JSON** контентом.\n",
    "* Воспользовавшись словарем, можно взять полученные из `.text` строки **str** и провести с ними обратную сериализацию при помощи использования `json.loads()`. \n",
    "* Есть и более простой способ, который требует применения `.json()`."
   ]
  },
  {
   "cell_type": "code",
   "execution_count": 41,
   "id": "65bdeb1f",
   "metadata": {
    "scrolled": true
   },
   "outputs": [
    {
     "data": {
      "text/plain": [
       "{'current_user_url': 'https://api.github.com/user',\n",
       " 'current_user_authorizations_html_url': 'https://github.com/settings/connections/applications{/client_id}',\n",
       " 'authorizations_url': 'https://api.github.com/authorizations',\n",
       " 'code_search_url': 'https://api.github.com/search/code?q={query}{&page,per_page,sort,order}',\n",
       " 'commit_search_url': 'https://api.github.com/search/commits?q={query}{&page,per_page,sort,order}',\n",
       " 'emails_url': 'https://api.github.com/user/emails',\n",
       " 'emojis_url': 'https://api.github.com/emojis',\n",
       " 'events_url': 'https://api.github.com/events',\n",
       " 'feeds_url': 'https://api.github.com/feeds',\n",
       " 'followers_url': 'https://api.github.com/user/followers',\n",
       " 'following_url': 'https://api.github.com/user/following{/target}',\n",
       " 'gists_url': 'https://api.github.com/gists{/gist_id}',\n",
       " 'hub_url': 'https://api.github.com/hub',\n",
       " 'issue_search_url': 'https://api.github.com/search/issues?q={query}{&page,per_page,sort,order}',\n",
       " 'issues_url': 'https://api.github.com/issues',\n",
       " 'keys_url': 'https://api.github.com/user/keys',\n",
       " 'label_search_url': 'https://api.github.com/search/labels?q={query}&repository_id={repository_id}{&page,per_page}',\n",
       " 'notifications_url': 'https://api.github.com/notifications',\n",
       " 'organization_url': 'https://api.github.com/orgs/{org}',\n",
       " 'organization_repositories_url': 'https://api.github.com/orgs/{org}/repos{?type,page,per_page,sort}',\n",
       " 'organization_teams_url': 'https://api.github.com/orgs/{org}/teams',\n",
       " 'public_gists_url': 'https://api.github.com/gists/public',\n",
       " 'rate_limit_url': 'https://api.github.com/rate_limit',\n",
       " 'repository_url': 'https://api.github.com/repos/{owner}/{repo}',\n",
       " 'repository_search_url': 'https://api.github.com/search/repositories?q={query}{&page,per_page,sort,order}',\n",
       " 'current_user_repositories_url': 'https://api.github.com/user/repos{?type,page,per_page,sort}',\n",
       " 'starred_url': 'https://api.github.com/user/starred{/owner}{/repo}',\n",
       " 'starred_gists_url': 'https://api.github.com/gists/starred',\n",
       " 'topic_search_url': 'https://api.github.com/search/topics?q={query}{&page,per_page}',\n",
       " 'user_url': 'https://api.github.com/users/{user}',\n",
       " 'user_organizations_url': 'https://api.github.com/user/orgs',\n",
       " 'user_repositories_url': 'https://api.github.com/users/{user}/repos{?type,page,per_page,sort}',\n",
       " 'user_search_url': 'https://api.github.com/search/users?q={query}{&page,per_page,sort,order}'}"
      ]
     },
     "execution_count": 41,
     "metadata": {},
     "output_type": "execute_result"
    }
   ],
   "source": [
    "import requests\n",
    "\n",
    "response = requests.get('https://api.github.com')\n",
    "response.json()"
   ]
  },
  {
   "cell_type": "markdown",
   "id": "c7df1065",
   "metadata": {},
   "source": [
    "* Тип полученного значения из `.json()`, является словарем. \n",
    "* Это значит, что доступ к его содержимому можно получить по ключу:"
   ]
  },
  {
   "cell_type": "code",
   "execution_count": 27,
   "id": "ecbd9f91",
   "metadata": {},
   "outputs": [
    {
     "data": {
      "text/plain": [
       "'https://api.github.com/user'"
      ]
     },
     "execution_count": 27,
     "metadata": {},
     "output_type": "execute_result"
    }
   ],
   "source": [
    "response.json()['current_user_url']"
   ]
  },
  {
   "cell_type": "markdown",
   "id": "a9611a08",
   "metadata": {},
   "source": [
    "> **Коды состояния** и **тело сообщения** предоставляют огромный диапазон возможностей. Однако, для их оптимального использования требуется изучить метаданные и заголовки **HTTP**."
   ]
  },
  {
   "cell_type": "markdown",
   "id": "125a475f",
   "metadata": {},
   "source": [
    "* Далее мы рассмотрим **параметры запроса** и **заголовки**.\n",
    "* Чтобы передать параметры и заголовки в запросе, лучше использовать **именованные аргументы**:\n",
    "\n",
    "```python\n",
    "import requests\n",
    "ur = \"https://httpbin.org/get\n",
    "params = {\"foo\": \"bar\", \"message\": \"hello\"}\n",
    "headers = {\"Authorization\": \"secret-token-123\"}\n",
    "resp = requests.get(url, params=params, headers=headers)\n",
    "```\n",
    "**Важно:**\n",
    "* Конкретные значения параметров и заголовков зависят от сервера, к которому происходит обращение. \n",
    "* Для того чтобы узнать точные значения параметров, нужно читать документацию или проверять опытным путем.\n"
   ]
  },
  {
   "cell_type": "markdown",
   "id": "8a7315ea",
   "metadata": {},
   "source": [
    "## 6. HTTP заголовки в `Requests`"
   ]
  },
  {
   "cell_type": "markdown",
   "id": "5f52cff1",
   "metadata": {},
   "source": [
    "* **HTTP** заголовки ответов на запрос могут предоставить определенную полезную информацию. \n",
    "* Это может быть тип содержимого ответного **пейлоада**, а также ограничение по времени для **кеширования ответа**. \n",
    "* Для просмотра **HTTP** заголовков загляните в атрибут `.headers.`\n",
    "\n"
   ]
  },
  {
   "cell_type": "markdown",
   "id": "d2a34448",
   "metadata": {},
   "source": [
    "### `.headers`"
   ]
  },
  {
   "cell_type": "code",
   "execution_count": 32,
   "id": "3d492909",
   "metadata": {
    "scrolled": true
   },
   "outputs": [
    {
     "data": {
      "text/plain": [
       "{'Server': 'GitHub.com', 'Date': 'Sat, 11 Mar 2023 12:27:52 GMT', 'Cache-Control': 'public, max-age=60, s-maxage=60', 'Vary': 'Accept, Accept-Encoding, Accept, X-Requested-With', 'ETag': '\"4f825cc84e1c733059d46e76e6df9db557ae5254f9625dfe8e1b09499c449438\"', 'x-github-api-version-selected': '2022-11-28', 'Access-Control-Expose-Headers': 'ETag, Link, Location, Retry-After, X-GitHub-OTP, X-RateLimit-Limit, X-RateLimit-Remaining, X-RateLimit-Used, X-RateLimit-Resource, X-RateLimit-Reset, X-OAuth-Scopes, X-Accepted-OAuth-Scopes, X-Poll-Interval, X-GitHub-Media-Type, X-GitHub-SSO, X-GitHub-Request-Id, Deprecation, Sunset', 'Access-Control-Allow-Origin': '*', 'Strict-Transport-Security': 'max-age=31536000; includeSubdomains; preload', 'X-Frame-Options': 'deny', 'X-Content-Type-Options': 'nosniff', 'X-XSS-Protection': '0', 'Referrer-Policy': 'origin-when-cross-origin, strict-origin-when-cross-origin', 'Content-Security-Policy': \"default-src 'none'\", 'Content-Type': 'application/json; charset=utf-8', 'X-GitHub-Media-Type': 'github.v3; format=json', 'Content-Encoding': 'gzip', 'X-RateLimit-Limit': '60', 'X-RateLimit-Remaining': '52', 'X-RateLimit-Reset': '1678540711', 'X-RateLimit-Resource': 'core', 'X-RateLimit-Used': '8', 'Accept-Ranges': 'bytes', 'Content-Length': '530', 'X-GitHub-Request-Id': '0683:74B9:4F29728:5069735:640C73D6'}"
      ]
     },
     "execution_count": 32,
     "metadata": {},
     "output_type": "execute_result"
    }
   ],
   "source": [
    "import requests\n",
    "\n",
    "response = requests.get('https://api.github.com')\n",
    "response.headers"
   ]
  },
  {
   "cell_type": "markdown",
   "id": "15ce3799",
   "metadata": {},
   "source": [
    "* `.headers` возвращает словарь, что позволяет получить доступ к значению заголовка **HTTP** по ключу. \n",
    "* Например, для просмотра типа содержимого ответного **пейлоада**, требуется использовать ключ словаря **'Content-Type'**:"
   ]
  },
  {
   "cell_type": "code",
   "execution_count": 31,
   "id": "28f2c51f",
   "metadata": {},
   "outputs": [
    {
     "data": {
      "text/plain": [
       "'application/json; charset=utf-8'"
      ]
     },
     "execution_count": 31,
     "metadata": {},
     "output_type": "execute_result"
    }
   ],
   "source": [
    "import requests\n",
    "\n",
    "response = requests.get('https://api.github.com')\n",
    "response.headers['Content-Type']"
   ]
  },
  {
   "cell_type": "markdown",
   "id": "7e0252b5",
   "metadata": {},
   "source": [
    "* У объектов словарей в качестве заголовков есть своим особенности. \n",
    "* Специфика **HTTP** предполагает, что заголовки не чувствительны к регистру.\n",
    "* Это значит, что при получении доступа к заголовкам можно не беспокоится о том, использованы строчным или прописные буквы.\n",
    "* При использовании ключей **'content-type'** и **'Content-Type'** результат будет получен один и тот же.\n",
    "\n"
   ]
  },
  {
   "cell_type": "markdown",
   "id": "cefc95be",
   "metadata": {},
   "source": [
    "**Подыто́жим:**\n",
    "* Это была основная информация, требуемая для работы с `Response`. \n",
    "* Были задействованы главные атрибуты и методы, а также представлены примеры их использования. \n",
    "* В дальнейшем будет показано, как изменится ответ после настройки **запроса GET**."
   ]
  },
  {
   "cell_type": "markdown",
   "id": "3f1f944e",
   "metadata": {},
   "source": [
    "## 7. Python `Requests` параметры запроса (Нихрена не понятно, но очень интересно!)"
   ]
  },
  {
   "cell_type": "markdown",
   "id": "f5b7181f",
   "metadata": {},
   "source": [
    "* Наиболее простым способом настроить **запрос GET** является передача значений через параметры строки запроса в URL.\n",
    "* При использовании метода `get()`, данные передаются в `params`. \n",
    "* Например, для того, чтобы посмотреть на библиотеку `requests` можно использовать **Search API** на **GitHub** :"
   ]
  },
  {
   "cell_type": "code",
   "execution_count": 44,
   "id": "10250371",
   "metadata": {
    "scrolled": true
   },
   "outputs": [
    {
     "name": "stdout",
     "output_type": "stream",
     "text": [
      "{'allow_forking': True,\n",
      " 'archive_url': 'https://api.github.com/repos/spyoungtech/grequests/{archive_format}{/ref}',\n",
      " 'archived': False,\n",
      " 'assignees_url': 'https://api.github.com/repos/spyoungtech/grequests/assignees{/user}',\n",
      " 'blobs_url': 'https://api.github.com/repos/spyoungtech/grequests/git/blobs{/sha}',\n",
      " 'branches_url': 'https://api.github.com/repos/spyoungtech/grequests/branches{/branch}',\n",
      " 'clone_url': 'https://github.com/spyoungtech/grequests.git',\n",
      " 'collaborators_url': 'https://api.github.com/repos/spyoungtech/grequests/collaborators{/collaborator}',\n",
      " 'comments_url': 'https://api.github.com/repos/spyoungtech/grequests/comments{/number}',\n",
      " 'commits_url': 'https://api.github.com/repos/spyoungtech/grequests/commits{/sha}',\n",
      " 'compare_url': 'https://api.github.com/repos/spyoungtech/grequests/compare/{base}...{head}',\n",
      " 'contents_url': 'https://api.github.com/repos/spyoungtech/grequests/contents/{+path}',\n",
      " 'contributors_url': 'https://api.github.com/repos/spyoungtech/grequests/contributors',\n",
      " 'created_at': '2012-05-10T21:50:15Z',\n",
      " 'default_branch': 'master',\n",
      " 'deployments_url': 'https://api.github.com/repos/spyoungtech/grequests/deployments',\n",
      " 'description': 'Requests + Gevent = <3',\n",
      " 'disabled': False,\n",
      " 'downloads_url': 'https://api.github.com/repos/spyoungtech/grequests/downloads',\n",
      " 'events_url': 'https://api.github.com/repos/spyoungtech/grequests/events',\n",
      " 'fork': False,\n",
      " 'forks': 330,\n",
      " 'forks_count': 330,\n",
      " 'forks_url': 'https://api.github.com/repos/spyoungtech/grequests/forks',\n",
      " 'full_name': 'spyoungtech/grequests',\n",
      " 'git_commits_url': 'https://api.github.com/repos/spyoungtech/grequests/git/commits{/sha}',\n",
      " 'git_refs_url': 'https://api.github.com/repos/spyoungtech/grequests/git/refs{/sha}',\n",
      " 'git_tags_url': 'https://api.github.com/repos/spyoungtech/grequests/git/tags{/sha}',\n",
      " 'git_url': 'git://github.com/spyoungtech/grequests.git',\n",
      " 'has_discussions': False,\n",
      " 'has_downloads': True,\n",
      " 'has_issues': True,\n",
      " 'has_pages': False,\n",
      " 'has_projects': True,\n",
      " 'has_wiki': True,\n",
      " 'homepage': 'https://pypi.python.org/pypi/grequests',\n",
      " 'hooks_url': 'https://api.github.com/repos/spyoungtech/grequests/hooks',\n",
      " 'html_url': 'https://github.com/spyoungtech/grequests',\n",
      " 'id': 4290214,\n",
      " 'is_template': False,\n",
      " 'issue_comment_url': 'https://api.github.com/repos/spyoungtech/grequests/issues/comments{/number}',\n",
      " 'issue_events_url': 'https://api.github.com/repos/spyoungtech/grequests/issues/events{/number}',\n",
      " 'issues_url': 'https://api.github.com/repos/spyoungtech/grequests/issues{/number}',\n",
      " 'keys_url': 'https://api.github.com/repos/spyoungtech/grequests/keys{/key_id}',\n",
      " 'labels_url': 'https://api.github.com/repos/spyoungtech/grequests/labels{/name}',\n",
      " 'language': 'Python',\n",
      " 'languages_url': 'https://api.github.com/repos/spyoungtech/grequests/languages',\n",
      " 'license': {'key': 'bsd-2-clause',\n",
      "             'name': 'BSD 2-Clause \"Simplified\" License',\n",
      "             'node_id': 'MDc6TGljZW5zZTQ=',\n",
      "             'spdx_id': 'BSD-2-Clause',\n",
      "             'url': 'https://api.github.com/licenses/bsd-2-clause'},\n",
      " 'merges_url': 'https://api.github.com/repos/spyoungtech/grequests/merges',\n",
      " 'milestones_url': 'https://api.github.com/repos/spyoungtech/grequests/milestones{/number}',\n",
      " 'mirror_url': None,\n",
      " 'name': 'grequests',\n",
      " 'node_id': 'MDEwOlJlcG9zaXRvcnk0MjkwMjE0',\n",
      " 'notifications_url': 'https://api.github.com/repos/spyoungtech/grequests/notifications{?since,all,participating}',\n",
      " 'open_issues': 5,\n",
      " 'open_issues_count': 5,\n",
      " 'owner': {'avatar_url': 'https://avatars.githubusercontent.com/u/15212758?v=4',\n",
      "           'events_url': 'https://api.github.com/users/spyoungtech/events{/privacy}',\n",
      "           'followers_url': 'https://api.github.com/users/spyoungtech/followers',\n",
      "           'following_url': 'https://api.github.com/users/spyoungtech/following{/other_user}',\n",
      "           'gists_url': 'https://api.github.com/users/spyoungtech/gists{/gist_id}',\n",
      "           'gravatar_id': '',\n",
      "           'html_url': 'https://github.com/spyoungtech',\n",
      "           'id': 15212758,\n",
      "           'login': 'spyoungtech',\n",
      "           'node_id': 'MDQ6VXNlcjE1MjEyNzU4',\n",
      "           'organizations_url': 'https://api.github.com/users/spyoungtech/orgs',\n",
      "           'received_events_url': 'https://api.github.com/users/spyoungtech/received_events',\n",
      "           'repos_url': 'https://api.github.com/users/spyoungtech/repos',\n",
      "           'site_admin': False,\n",
      "           'starred_url': 'https://api.github.com/users/spyoungtech/starred{/owner}{/repo}',\n",
      "           'subscriptions_url': 'https://api.github.com/users/spyoungtech/subscriptions',\n",
      "           'type': 'User',\n",
      "           'url': 'https://api.github.com/users/spyoungtech'},\n",
      " 'private': False,\n",
      " 'pulls_url': 'https://api.github.com/repos/spyoungtech/grequests/pulls{/number}',\n",
      " 'pushed_at': '2022-12-29T03:07:40Z',\n",
      " 'releases_url': 'https://api.github.com/repos/spyoungtech/grequests/releases{/id}',\n",
      " 'score': 1.0,\n",
      " 'size': 56,\n",
      " 'ssh_url': 'git@github.com:spyoungtech/grequests.git',\n",
      " 'stargazers_count': 4195,\n",
      " 'stargazers_url': 'https://api.github.com/repos/spyoungtech/grequests/stargazers',\n",
      " 'statuses_url': 'https://api.github.com/repos/spyoungtech/grequests/statuses/{sha}',\n",
      " 'subscribers_url': 'https://api.github.com/repos/spyoungtech/grequests/subscribers',\n",
      " 'subscription_url': 'https://api.github.com/repos/spyoungtech/grequests/subscription',\n",
      " 'svn_url': 'https://github.com/spyoungtech/grequests',\n",
      " 'tags_url': 'https://api.github.com/repos/spyoungtech/grequests/tags',\n",
      " 'teams_url': 'https://api.github.com/repos/spyoungtech/grequests/teams',\n",
      " 'topics': [],\n",
      " 'trees_url': 'https://api.github.com/repos/spyoungtech/grequests/git/trees{/sha}',\n",
      " 'updated_at': '2023-03-11T00:49:05Z',\n",
      " 'url': 'https://api.github.com/repos/spyoungtech/grequests',\n",
      " 'visibility': 'public',\n",
      " 'watchers': 4195,\n",
      " 'watchers_count': 4195,\n",
      " 'web_commit_signoff_required': False}\n",
      "=========================================\n",
      "Repository name: grequests\n",
      "Repository description: Requests + Gevent = <3\n"
     ]
    }
   ],
   "source": [
    "import requests\n",
    " \n",
    "# Поиск местонахождения для запросов на GitHub\n",
    "response = requests.get(\n",
    "    'https://api.github.com/search/repositories',\n",
    "    params={'q': 'requests+language:python'},\n",
    ")\n",
    " \n",
    "# Анализ некоторых атрибутов местонахождения запросов\n",
    "json_response = response.json()\n",
    "repository = json_response['items'][0]\n",
    "pprint(repository)\n",
    "print('=========================================')\n",
    "print(f'Repository name: {repository[\"name\"]}')  # Python 3.6+\n",
    "print(f'Repository description: {repository[\"description\"]}')  # Python 3.6+"
   ]
  },
  {
   "cell_type": "markdown",
   "id": "1200face",
   "metadata": {},
   "source": [
    "* Передавая словарь **{'q': 'requests+language:python'}** в параметр `params`, который является частью `.get()`, можно изменить ответ, что был получен при использовании **Search API**."
   ]
  },
  {
   "cell_type": "markdown",
   "id": "dfa443fb",
   "metadata": {},
   "source": [
    "* Можно передать параметры в `get()` в форме **словаря**, как было показано выше. Также можно использовать **список кортежей** :"
   ]
  },
  {
   "cell_type": "code",
   "execution_count": 38,
   "id": "d104e4a0",
   "metadata": {
    "scrolled": true
   },
   "outputs": [
    {
     "data": {
      "text/plain": [
       "<Response [200]>"
      ]
     },
     "execution_count": 38,
     "metadata": {},
     "output_type": "execute_result"
    }
   ],
   "source": [
    "requests.get(\n",
    "            'https://api.github.com/search/repositories',\n",
    "            params=[('q', 'requests+language:python')],\n",
    "            )"
   ]
  },
  {
   "cell_type": "markdown",
   "id": "afc7d1ff",
   "metadata": {},
   "source": [
    "* Также можно передать значение в байтах :"
   ]
  },
  {
   "cell_type": "code",
   "execution_count": 39,
   "id": "49c51739",
   "metadata": {
    "scrolled": true
   },
   "outputs": [
    {
     "data": {
      "text/plain": [
       "<Response [200]>"
      ]
     },
     "execution_count": 39,
     "metadata": {},
     "output_type": "execute_result"
    }
   ],
   "source": [
    "requests.get(\n",
    "            'https://api.github.com/search/repositories',\n",
    "            params=b'q=requests+language:python',\n",
    "            )"
   ]
  },
  {
   "cell_type": "markdown",
   "id": "d7d0b02c",
   "metadata": {},
   "source": [
    "* Строки запроса полезны для уточнения параметров в **запросах GET**. \n",
    "* Также можно настроить запросы при помощи добавления или изменения заголовков отправленных сообщений."
   ]
  },
  {
   "cell_type": "markdown",
   "id": "a25118be",
   "metadata": {},
   "source": [
    "## 8. Настройка HTTP заголовка запроса (`headers`) (Нихрена не понятно, но очень интересно!)"
   ]
  },
  {
   "cell_type": "markdown",
   "id": "e3a8f98e",
   "metadata": {},
   "source": [
    "* Для изменения **HTTP** заголовка требуется передать словарь данного **HTTP** заголовка в `get()` при помощи использования параметра `headers`. \n",
    "* Например, можно изменить предыдущий поисковой запрос, подсветив совпадения в результате. \n",
    "* Для этого в заголовке `Accept` медиа тип уточняется при помощи `text-match`."
   ]
  },
  {
   "cell_type": "code",
   "execution_count": 45,
   "id": "535fcaca",
   "metadata": {},
   "outputs": [
    {
     "name": "stdout",
     "output_type": "stream",
     "text": [
      "{'allow_forking': True,\n",
      " 'archive_url': 'https://api.github.com/repos/spyoungtech/grequests/{archive_format}{/ref}',\n",
      " 'archived': False,\n",
      " 'assignees_url': 'https://api.github.com/repos/spyoungtech/grequests/assignees{/user}',\n",
      " 'blobs_url': 'https://api.github.com/repos/spyoungtech/grequests/git/blobs{/sha}',\n",
      " 'branches_url': 'https://api.github.com/repos/spyoungtech/grequests/branches{/branch}',\n",
      " 'clone_url': 'https://github.com/spyoungtech/grequests.git',\n",
      " 'collaborators_url': 'https://api.github.com/repos/spyoungtech/grequests/collaborators{/collaborator}',\n",
      " 'comments_url': 'https://api.github.com/repos/spyoungtech/grequests/comments{/number}',\n",
      " 'commits_url': 'https://api.github.com/repos/spyoungtech/grequests/commits{/sha}',\n",
      " 'compare_url': 'https://api.github.com/repos/spyoungtech/grequests/compare/{base}...{head}',\n",
      " 'contents_url': 'https://api.github.com/repos/spyoungtech/grequests/contents/{+path}',\n",
      " 'contributors_url': 'https://api.github.com/repos/spyoungtech/grequests/contributors',\n",
      " 'created_at': '2012-05-10T21:50:15Z',\n",
      " 'default_branch': 'master',\n",
      " 'deployments_url': 'https://api.github.com/repos/spyoungtech/grequests/deployments',\n",
      " 'description': 'Requests + Gevent = <3',\n",
      " 'disabled': False,\n",
      " 'downloads_url': 'https://api.github.com/repos/spyoungtech/grequests/downloads',\n",
      " 'events_url': 'https://api.github.com/repos/spyoungtech/grequests/events',\n",
      " 'fork': False,\n",
      " 'forks': 330,\n",
      " 'forks_count': 330,\n",
      " 'forks_url': 'https://api.github.com/repos/spyoungtech/grequests/forks',\n",
      " 'full_name': 'spyoungtech/grequests',\n",
      " 'git_commits_url': 'https://api.github.com/repos/spyoungtech/grequests/git/commits{/sha}',\n",
      " 'git_refs_url': 'https://api.github.com/repos/spyoungtech/grequests/git/refs{/sha}',\n",
      " 'git_tags_url': 'https://api.github.com/repos/spyoungtech/grequests/git/tags{/sha}',\n",
      " 'git_url': 'git://github.com/spyoungtech/grequests.git',\n",
      " 'has_discussions': False,\n",
      " 'has_downloads': True,\n",
      " 'has_issues': True,\n",
      " 'has_pages': False,\n",
      " 'has_projects': True,\n",
      " 'has_wiki': True,\n",
      " 'homepage': 'https://pypi.python.org/pypi/grequests',\n",
      " 'hooks_url': 'https://api.github.com/repos/spyoungtech/grequests/hooks',\n",
      " 'html_url': 'https://github.com/spyoungtech/grequests',\n",
      " 'id': 4290214,\n",
      " 'is_template': False,\n",
      " 'issue_comment_url': 'https://api.github.com/repos/spyoungtech/grequests/issues/comments{/number}',\n",
      " 'issue_events_url': 'https://api.github.com/repos/spyoungtech/grequests/issues/events{/number}',\n",
      " 'issues_url': 'https://api.github.com/repos/spyoungtech/grequests/issues{/number}',\n",
      " 'keys_url': 'https://api.github.com/repos/spyoungtech/grequests/keys{/key_id}',\n",
      " 'labels_url': 'https://api.github.com/repos/spyoungtech/grequests/labels{/name}',\n",
      " 'language': 'Python',\n",
      " 'languages_url': 'https://api.github.com/repos/spyoungtech/grequests/languages',\n",
      " 'license': {'key': 'bsd-2-clause',\n",
      "             'name': 'BSD 2-Clause \"Simplified\" License',\n",
      "             'node_id': 'MDc6TGljZW5zZTQ=',\n",
      "             'spdx_id': 'BSD-2-Clause',\n",
      "             'url': 'https://api.github.com/licenses/bsd-2-clause'},\n",
      " 'merges_url': 'https://api.github.com/repos/spyoungtech/grequests/merges',\n",
      " 'milestones_url': 'https://api.github.com/repos/spyoungtech/grequests/milestones{/number}',\n",
      " 'mirror_url': None,\n",
      " 'name': 'grequests',\n",
      " 'node_id': 'MDEwOlJlcG9zaXRvcnk0MjkwMjE0',\n",
      " 'notifications_url': 'https://api.github.com/repos/spyoungtech/grequests/notifications{?since,all,participating}',\n",
      " 'open_issues': 5,\n",
      " 'open_issues_count': 5,\n",
      " 'owner': {'avatar_url': 'https://avatars.githubusercontent.com/u/15212758?v=4',\n",
      "           'events_url': 'https://api.github.com/users/spyoungtech/events{/privacy}',\n",
      "           'followers_url': 'https://api.github.com/users/spyoungtech/followers',\n",
      "           'following_url': 'https://api.github.com/users/spyoungtech/following{/other_user}',\n",
      "           'gists_url': 'https://api.github.com/users/spyoungtech/gists{/gist_id}',\n",
      "           'gravatar_id': '',\n",
      "           'html_url': 'https://github.com/spyoungtech',\n",
      "           'id': 15212758,\n",
      "           'login': 'spyoungtech',\n",
      "           'node_id': 'MDQ6VXNlcjE1MjEyNzU4',\n",
      "           'organizations_url': 'https://api.github.com/users/spyoungtech/orgs',\n",
      "           'received_events_url': 'https://api.github.com/users/spyoungtech/received_events',\n",
      "           'repos_url': 'https://api.github.com/users/spyoungtech/repos',\n",
      "           'site_admin': False,\n",
      "           'starred_url': 'https://api.github.com/users/spyoungtech/starred{/owner}{/repo}',\n",
      "           'subscriptions_url': 'https://api.github.com/users/spyoungtech/subscriptions',\n",
      "           'type': 'User',\n",
      "           'url': 'https://api.github.com/users/spyoungtech'},\n",
      " 'private': False,\n",
      " 'pulls_url': 'https://api.github.com/repos/spyoungtech/grequests/pulls{/number}',\n",
      " 'pushed_at': '2022-12-29T03:07:40Z',\n",
      " 'releases_url': 'https://api.github.com/repos/spyoungtech/grequests/releases{/id}',\n",
      " 'score': 1.0,\n",
      " 'size': 56,\n",
      " 'ssh_url': 'git@github.com:spyoungtech/grequests.git',\n",
      " 'stargazers_count': 4195,\n",
      " 'stargazers_url': 'https://api.github.com/repos/spyoungtech/grequests/stargazers',\n",
      " 'statuses_url': 'https://api.github.com/repos/spyoungtech/grequests/statuses/{sha}',\n",
      " 'subscribers_url': 'https://api.github.com/repos/spyoungtech/grequests/subscribers',\n",
      " 'subscription_url': 'https://api.github.com/repos/spyoungtech/grequests/subscription',\n",
      " 'svn_url': 'https://github.com/spyoungtech/grequests',\n",
      " 'tags_url': 'https://api.github.com/repos/spyoungtech/grequests/tags',\n",
      " 'teams_url': 'https://api.github.com/repos/spyoungtech/grequests/teams',\n",
      " 'text_matches': [{'fragment': 'Requests + Gevent = <3',\n",
      "                   'matches': [{'indices': [0, 8], 'text': 'Requests'}],\n",
      "                   'object_type': 'Repository',\n",
      "                   'object_url': 'https://api.github.com/repositories/4290214',\n",
      "                   'property': 'description'}],\n",
      " 'topics': [],\n",
      " 'trees_url': 'https://api.github.com/repos/spyoungtech/grequests/git/trees{/sha}',\n",
      " 'updated_at': '2023-03-11T00:49:05Z',\n",
      " 'url': 'https://api.github.com/repos/spyoungtech/grequests',\n",
      " 'visibility': 'public',\n",
      " 'watchers': 4195,\n",
      " 'watchers_count': 4195,\n",
      " 'web_commit_signoff_required': False}\n",
      "=========================================\n",
      "Text matches: [{'object_url': 'https://api.github.com/repositories/4290214', 'object_type': 'Repository', 'property': 'description', 'fragment': 'Requests + Gevent = <3', 'matches': [{'text': 'Requests', 'indices': [0, 8]}]}]\n"
     ]
    }
   ],
   "source": [
    "import requests\n",
    " \n",
    "response = requests.get(\n",
    "    'https://api.github.com/search/repositories',\n",
    "    params={'q': 'requests+language:python'},\n",
    "    headers={'Accept': 'application/vnd.github.v3.text-match+json'},\n",
    ")\n",
    " \n",
    "# просмотр нового массива `text-matches` с предоставленными данными\n",
    "# о поиске в пределах результатов\n",
    "json_response = response.json()\n",
    "repository = json_response['items'][0]\n",
    "pprint(repository)\n",
    "print('=========================================')\n",
    "print(f'Text matches: {repository[\"text_matches\"]}')"
   ]
  },
  {
   "cell_type": "markdown",
   "id": "510ba1b4",
   "metadata": {},
   "source": [
    "* Заголовок `Accept` сообщает серверу о типах контента, который можно использовать в рассматриваемом приложении. \n",
    "* Здесь подразумевается, что все совпадения будут подсвечены, для чего в заголовке используется значение **application/vnd.github.v3.text-match+json**. \n",
    "* Это уникальный заголовок `Accept` для **GitHub**. \n",
    "* В данном случае содержимое представлено в специальном **JSON** формате."
   ]
  },
  {
   "cell_type": "markdown",
   "id": "04546d49",
   "metadata": {},
   "source": [
    "Перед более глубоким изучением способов редактирования запросов, будет не лишним остановиться на некоторых других методах **HTTP**."
   ]
  },
  {
   "cell_type": "markdown",
   "id": "d2e09698",
   "metadata": {},
   "source": [
    "## 9. Примеры HTTP методов в `Requests` ( !!!Надо дорабатывать!!! )"
   ]
  },
  {
   "cell_type": "markdown",
   "id": "d1e46caf",
   "metadata": {},
   "source": [
    "* Помимо **GET**, большой популярностью пользуются такие методы, как:\n",
    "    * **Безопасные методы для получения данных с сервера:**\n",
    "        * `GET` - рассмотрен выше. Один из самыъ частостречаемых методов.\n",
    "        * `HEAD` - в отличии от метода `get` выдает не всю информацию, а только заголовки ресурсов.\n",
    "        \n",
    "    * **Методы с \"телом\" для отправки данных на сервер:**\n",
    "        * `POST` - _Один из самых частовстречаемых методов. Создает на сервере новую запись или ресурс с помощью данных, которые у нас лежат в теле запроса._ (_**примеры запроса:** регистрация нового пользователя на сайте или создание заказа товаров из корзины._)\n",
    "        * `PATCH` - Позволяет частично редактировать данные отправленные методом `POST` (_**примеры запроса:** изменение кол-ва товара в корзине или частичная замена_)\n",
    "        * `PUT` - Полностью изменяет или заменяет данные отправленные методом `POST` (_**примеры запроса:** полное удаление содержимого нашего заказа, на сайте остается только номер и дата заказа для статистики._)\n",
    "    * **Методы отмены:**\n",
    "        * `DELETE` - полностью удаляет наш ресурс или данные с сервера. Результат срабатывания не гарантирован, зависит от настроек доступа к серверу.\n",
    "        * `TRACE` - возвращает обратно наш запрос к серверу, что-то вроде пинга.\n",
    "        * `OPTIONS` - возвращает информацию о том, что мы можем делать на этом сервисе или по этому адресу запроса. Доступные нам действия на сервере. Своеобразная функция **help**\n",
    "* Для каждого из этих методов существует своя сигнатура, которая очень похожа на метод `get()`.\n",
    "\n",
    "В примерах ниже, каждая функция создает запрос к **httpbin сервису**, используя при этом ответный **HTTP метод**. "
   ]
  },
  {
   "cell_type": "code",
   "execution_count": 51,
   "id": "86246a5e",
   "metadata": {},
   "outputs": [
    {
     "data": {
      "text/plain": [
       "<Response [200]>"
      ]
     },
     "execution_count": 51,
     "metadata": {},
     "output_type": "execute_result"
    }
   ],
   "source": [
    "requests.post('https://httpbin.org/post', data={'key':'value'})"
   ]
  },
  {
   "cell_type": "code",
   "execution_count": 52,
   "id": "ea0a7acc",
   "metadata": {},
   "outputs": [
    {
     "data": {
      "text/plain": [
       "<Response [200]>"
      ]
     },
     "execution_count": 52,
     "metadata": {},
     "output_type": "execute_result"
    }
   ],
   "source": [
    "requests.put('https://httpbin.org/put', data={'key':'value'})"
   ]
  },
  {
   "cell_type": "code",
   "execution_count": 53,
   "id": "f922b517",
   "metadata": {},
   "outputs": [
    {
     "data": {
      "text/plain": [
       "<Response [200]>"
      ]
     },
     "execution_count": 53,
     "metadata": {},
     "output_type": "execute_result"
    }
   ],
   "source": [
    "\n",
    "requests.delete('https://httpbin.org/delete')"
   ]
  },
  {
   "cell_type": "code",
   "execution_count": 54,
   "id": "4ae4a955",
   "metadata": {},
   "outputs": [
    {
     "data": {
      "text/plain": [
       "<Response [200]>"
      ]
     },
     "execution_count": 54,
     "metadata": {},
     "output_type": "execute_result"
    }
   ],
   "source": [
    "requests.head('https://httpbin.org/get')"
   ]
  },
  {
   "cell_type": "code",
   "execution_count": 55,
   "id": "679ac0e9",
   "metadata": {},
   "outputs": [
    {
     "data": {
      "text/plain": [
       "<Response [200]>"
      ]
     },
     "execution_count": 55,
     "metadata": {},
     "output_type": "execute_result"
    }
   ],
   "source": [
    "requests.patch('https://httpbin.org/patch', data={'key':'value'})"
   ]
  },
  {
   "cell_type": "code",
   "execution_count": 56,
   "id": "bbeca41d",
   "metadata": {},
   "outputs": [
    {
     "data": {
      "text/plain": [
       "<Response [200]>"
      ]
     },
     "execution_count": 56,
     "metadata": {},
     "output_type": "execute_result"
    }
   ],
   "source": [
    "requests.options('https://httpbin.org/get')"
   ]
  },
  {
   "cell_type": "markdown",
   "id": "52682ea6",
   "metadata": {},
   "source": [
    "* При использовании каждого из данных методов в `Response` могут быть возвращены **заголовки**, **тело запроса**, **коды состояния** и многие другие аспекты."
   ]
  },
  {
   "cell_type": "markdown",
   "id": "aa75ce30",
   "metadata": {},
   "source": [
    "## 10. Python `Requests` тело сообщения"
   ]
  },
  {
   "cell_type": "markdown",
   "id": "799799e9",
   "metadata": {},
   "source": [
    "* В соответствии со спецификацией **HTTP** запросы `POST`, `PUT` и `PATCH` передают информацию через тело сообщения, а не через параметры строки запроса. \n",
    "* Используя `requests`, можно передать данные в параметр `data`.\n",
    "* В свою очередь `data` использует **словарь**, **список кортежей**, **байтов** или **объект файла**.\n",
    "* Это особенно важно, так как может возникнуть необходимость адаптации отправляемых с запросом данных в соответствии с определенными параметрами сервера.\n",
    "* В том случае, если требуется отравить данные **JSON**, можно использовать параметр `json`. \n",
    "* При передачи данных **JSON** через `json()`, `requests` произведет **сериализацию** данных и добавит правильный **Content-Type** заголовок."
   ]
  },
  {
   "cell_type": "markdown",
   "id": "21195d67",
   "metadata": {},
   "source": [
    "* Стоит взять на заметку сайт **httpbin.org**. \n",
    "* Это чрезвычайно полезный ресурс, созданный человеком, который внедрил использование `requests` – Кеннетом Рейтцом. \n",
    "* Данный сервис предназначен для тестовых запросов. \n",
    "* Здесь можно составить пробный запрос и получить ответ с требуемой информацией. \n",
    "\n",
    "В качестве примера рассмотрим базовый запрос с использованием `POST`:"
   ]
  },
  {
   "cell_type": "code",
   "execution_count": 64,
   "id": "aa08e7cc",
   "metadata": {
    "scrolled": false
   },
   "outputs": [
    {
     "name": "stdout",
     "output_type": "stream",
     "text": [
      "{'args': {},\n",
      " 'data': '{\"key\": \"value\"}',\n",
      " 'files': {},\n",
      " 'form': {},\n",
      " 'headers': {'Accept': '*/*',\n",
      "             'Accept-Encoding': 'gzip, deflate, br',\n",
      "             'Content-Length': '16',\n",
      "             'Content-Type': 'application/json',\n",
      "             'Host': 'httpbin.org',\n",
      "             'User-Agent': 'python-requests/2.28.1',\n",
      "             'X-Amzn-Trace-Id': 'Root=1-640c9f37-64f8d2ea63e8d2962d0d3189'},\n",
      " 'json': {'key': 'value'},\n",
      " 'origin': '5.34.70.54',\n",
      " 'url': 'https://httpbin.org/post'}\n"
     ]
    },
    {
     "data": {
      "text/plain": [
       "'{\"key\": \"value\"}'"
      ]
     },
     "execution_count": 64,
     "metadata": {},
     "output_type": "execute_result"
    }
   ],
   "source": [
    "response = requests.post('https://httpbin.org/post', json={'key':'value'})\n",
    "json_response = response.json()\n",
    "pprint(json_response)\n",
    "json_response['data']"
   ]
  },
  {
   "cell_type": "code",
   "execution_count": 63,
   "id": "f34d7cdb",
   "metadata": {},
   "outputs": [
    {
     "data": {
      "text/plain": [
       "'application/json'"
      ]
     },
     "execution_count": 63,
     "metadata": {},
     "output_type": "execute_result"
    }
   ],
   "source": [
    "json_response['headers']['Content-Type']"
   ]
  },
  {
   "cell_type": "markdown",
   "id": "8bf0cfdc",
   "metadata": {},
   "source": [
    "* Здесь видно, что сервер получил данные и **HTTP** заголовки, отправленные вместе с запросом. \n",
    "* `requests` также предоставляет информацию в форме `PreparedRequest`."
   ]
  },
  {
   "cell_type": "markdown",
   "id": "e802bc87",
   "metadata": {},
   "source": [
    "### `Загрузка файлов`\n",
    "\n",
    "Чтобы передавать файл, его нужно открыть в байтовом режиме и передать объект файла в параметр `files`:\n",
    "```python\n",
    "import requests\n",
    "with open('gifs/your_file.mp4', 'rb') as f:\n",
    "    resp = requests.post('http://httpbin.org/post', files={\"file\": f})\n",
    "```"
   ]
  },
  {
   "cell_type": "markdown",
   "id": "afad4ba4",
   "metadata": {},
   "source": [
    "## 11. Python `Requests` анализ запроса (Надо углубляться!!!)"
   ]
  },
  {
   "cell_type": "markdown",
   "id": "231ac4c1",
   "metadata": {},
   "source": [
    "* При составлении запроса стоит иметь в виду, что перед его фактической отправкой на целевой сервер библиотека `requests` выполняет определенную подготовку. \n",
    "* Подготовка запроса включает в себя такие вещи, как проверка заголовков и сериализация содержимого **JSON**."
   ]
  },
  {
   "cell_type": "markdown",
   "id": "42c3fa9b",
   "metadata": {},
   "source": [
    "### `.request`"
   ]
  },
  {
   "cell_type": "markdown",
   "id": "59311663",
   "metadata": {},
   "source": [
    "* Если открыть `.request`, можно просмотреть **PreparedRequest** (*пер. \"подготовленный запрос\"*)."
   ]
  },
  {
   "cell_type": "code",
   "execution_count": 66,
   "id": "8c418881",
   "metadata": {},
   "outputs": [
    {
     "name": "stdout",
     "output_type": "stream",
     "text": [
      "<Response [200]>\n"
     ]
    },
    {
     "data": {
      "text/plain": [
       "'application/json'"
      ]
     },
     "execution_count": 66,
     "metadata": {},
     "output_type": "execute_result"
    }
   ],
   "source": [
    "response = requests.post('https://httpbin.org/post', json={'key':'value'})\n",
    "pprint(response)\n",
    "response.request.headers['Content-Type']"
   ]
  },
  {
   "cell_type": "code",
   "execution_count": 67,
   "id": "7fdd8d7e",
   "metadata": {},
   "outputs": [
    {
     "data": {
      "text/plain": [
       "'https://httpbin.org/post'"
      ]
     },
     "execution_count": 67,
     "metadata": {},
     "output_type": "execute_result"
    }
   ],
   "source": [
    "response.request.url"
   ]
  },
  {
   "cell_type": "code",
   "execution_count": 68,
   "id": "745cf7f2",
   "metadata": {},
   "outputs": [
    {
     "data": {
      "text/plain": [
       "b'{\"key\": \"value\"}'"
      ]
     },
     "execution_count": 68,
     "metadata": {},
     "output_type": "execute_result"
    }
   ],
   "source": [
    "response.request.body"
   ]
  },
  {
   "cell_type": "markdown",
   "id": "0c9e8723",
   "metadata": {},
   "source": [
    "* Проверка **PreparedRequest** открывает доступ ко всей информации о выполняемом запросе. \n",
    "* Это может быть пейлоад, URL, заголовки, аутентификация и многое другое."
   ]
  },
  {
   "cell_type": "markdown",
   "id": "95c92cbc",
   "metadata": {},
   "source": [
    "* У всех описанных ранее типов запросов была одна общая черта – они представляли собой **неаутентифицированные запросы к публичным API**. \n",
    "* Однако, подобающее большинство служб, с которыми может столкнуться пользователь, **запрашивают аутентификацию**."
   ]
  },
  {
   "cell_type": "markdown",
   "id": "494ab6a7",
   "metadata": {},
   "source": [
    "## 12. Python Requests аутентификация HTTP AUTH"
   ]
  },
  {
   "cell_type": "markdown",
   "id": "d662c634",
   "metadata": {},
   "source": [
    "* Аутентификация помогает сервису понять, кто вы. \n",
    "* Как правило, вы предоставляете свои учетные данные на сервер, передавая данные через заголовок Authorization или пользовательский заголовок, определенной службы. \n",
    "* Все функции запроса, которые вы видели до этого момента, предоставляют параметр с именем auth, который позволяет вам передавать свои учетные данные."
   ]
  },
  {
   "cell_type": "markdown",
   "id": "ae8abf3c",
   "metadata": {},
   "source": [
    "* Одним из примеров **API**, который требует аутентификации, является **Authenticated User API на GitHub**.\n",
    "* Это конечная точка веб-сервиса, которая предоставляет информацию о профиле аутентифицированного пользователя.\n",
    "* Чтобы отправить запрос **API-интерфейсу аутентифицированного пользователя**, вы можете передать свое имя пользователя и пароль на **GitHub** через кортеж в `get()`."
   ]
  },
  {
   "cell_type": "code",
   "execution_count": 70,
   "id": "f6ae416b",
   "metadata": {},
   "outputs": [
    {
     "name": "stdout",
     "output_type": "stream",
     "text": [
      "········\n"
     ]
    },
    {
     "data": {
      "text/plain": [
       "<Response [401]>"
      ]
     },
     "execution_count": 70,
     "metadata": {},
     "output_type": "execute_result"
    }
   ],
   "source": [
    "from getpass import getpass\n",
    "requests.get('https://api.github.com/user', auth=('username', getpass()))"
   ]
  },
  {
   "cell_type": "markdown",
   "id": "14b5f381",
   "metadata": {},
   "source": [
    "* Запрос выполнен успешно, если учетные данные, которые вы передали в кортеже `auth`, действительны. \n",
    "* Если вы попытаетесь сделать этот запрос без учетных данных, вы увидите, что код состояния **401 Unauthorized**."
   ]
  },
  {
   "cell_type": "markdown",
   "id": "434f991b",
   "metadata": {},
   "source": [
    "* Когда вы передаете имя пользователя и пароль в кортеже параметру `auth`, вы используете учетные данные при помощи базовой схемы аутентификации **HTTP**.\n",
    "* Таким образом, вы можете создать тот же запрос, передав подробные учетные данные базовой аутентификации, используя **HTTPBasicAuth**."
   ]
  },
  {
   "cell_type": "code",
   "execution_count": 73,
   "id": "f84e6b4c",
   "metadata": {},
   "outputs": [
    {
     "name": "stdout",
     "output_type": "stream",
     "text": [
      "········\n"
     ]
    },
    {
     "data": {
      "text/plain": [
       "<Response [401]>"
      ]
     },
     "execution_count": 73,
     "metadata": {},
     "output_type": "execute_result"
    }
   ],
   "source": [
    "\n",
    "from requests.auth import HTTPBasicAuth\n",
    "from getpass import getpass\n",
    "requests.get(\n",
    "            'https://api.github.com/user',\n",
    "            auth=HTTPBasicAuth('username', getpass()))"
   ]
  },
  {
   "cell_type": "markdown",
   "id": "b12e9c44",
   "metadata": {},
   "source": [
    "* Хотя вам не нужно явно указывать обычную аутентификацию, может потребоваться аутентификация с использованием другого метода. \n",
    "* `Requests` предоставляет другие методы аутентификации, например: **HTTPDigestAuth** и **HTTPProxyAuth**."
   ]
  },
  {
   "cell_type": "markdown",
   "id": "9455f3f5",
   "metadata": {},
   "source": [
    "* Вы даже можете предоставить свой собственный механизм аутентификации. \n",
    "* Для этого необходимо сначала создать подкласс **AuthBase**. \n",
    "* Затем происходит имплементация `__call__()`. (**Имплементация** - «осуществление, выполнение, практическая реализация»)"
   ]
  },
  {
   "cell_type": "code",
   "execution_count": 74,
   "id": "038df260",
   "metadata": {},
   "outputs": [
    {
     "data": {
      "text/plain": [
       "<Response [200]>"
      ]
     },
     "execution_count": 74,
     "metadata": {},
     "output_type": "execute_result"
    }
   ],
   "source": [
    "import requests\n",
    "from requests.auth import AuthBase\n",
    " \n",
    "class TokenAuth(AuthBase):\n",
    "    \"\"\"Implements a custom authentication scheme.\"\"\"\n",
    " \n",
    "    def __init__(self, token):\n",
    "        self.token = token\n",
    " \n",
    "    def __call__(self, r):\n",
    "        \"\"\"Attach an API token to a custom auth header.\"\"\"\n",
    "        r.headers['X-TokenAuth'] = f'{self.token}'  # Python 3.6+\n",
    "        return r\n",
    " \n",
    " \n",
    "requests.get('https://httpbin.org/get', auth=TokenAuth('12345abcde-token'))"
   ]
  },
  {
   "cell_type": "markdown",
   "id": "50b7b293",
   "metadata": {},
   "source": [
    "* Здесь пользовательский механизм **TokenAuth** получает специальный токен. \n",
    "* Затем этот токен включается заголовок **X-TokenAuth** запроса."
   ]
  },
  {
   "cell_type": "markdown",
   "id": "416814b1",
   "metadata": {},
   "source": [
    "* Плохие механизмы аутентификации могут привести к уязвимостям безопасности. \n",
    "* Поэтому, если службе по какой-то причине не нужен настраиваемый механизм аутентификации, вы всегда можете использовать проверенную схему аутентификации, такую как **Basic** или **OAuth**.\n",
    "\n",
    "Далее рассмотрим использование `requests` в **SSL сертификатах**."
   ]
  },
  {
   "cell_type": "markdown",
   "id": "f0dca49c",
   "metadata": {},
   "source": [
    "## 13. Python Requests проверка SSL сертификата"
   ]
  },
  {
   "cell_type": "markdown",
   "id": "119c3a61",
   "metadata": {},
   "source": [
    "* Всякий раз, когда данные, которые вы пытаетесь отправить или получить, являются конфиденциальными, безопасность важна.\n",
    "* Вы общаетесь с защищенными сайтами через HTTP, устанавливая зашифрованное соединение с использованием **SSL**, что означает, что проверка **SSL сертификата** целевого сервера имеет решающее значение.\n",
    "* Хорошей новостью является то, что `requests` по умолчанию все делает сам. Однако в некоторых случаях необходимо внести определенные поправки.\n",
    "* Если требуется отключить проверку **SSL-сертификата**, параметру `verify` функции запроса можно присвоить значение `False`."
   ]
  },
  {
   "cell_type": "code",
   "execution_count": 75,
   "id": "a41c2449",
   "metadata": {},
   "outputs": [
    {
     "name": "stderr",
     "output_type": "stream",
     "text": [
      "C:\\ProgramData\\anaconda3\\lib\\site-packages\\urllib3\\connectionpool.py:1045: InsecureRequestWarning: Unverified HTTPS request is being made to host 'api.github.com'. Adding certificate verification is strongly advised. See: https://urllib3.readthedocs.io/en/1.26.x/advanced-usage.html#ssl-warnings\n",
      "  warnings.warn(\n"
     ]
    },
    {
     "data": {
      "text/plain": [
       "<Response [200]>"
      ]
     },
     "execution_count": 75,
     "metadata": {},
     "output_type": "execute_result"
    }
   ],
   "source": [
    " requests.get('https://api.github.com', verify=False)"
   ]
  },
  {
   "cell_type": "markdown",
   "id": "9bf85576",
   "metadata": {},
   "source": [
    "* В случае небезопасного запроса `requests` предупреждает о возможности потери информации и просит сохранить данные или отказаться от запроса."
   ]
  },
  {
   "cell_type": "markdown",
   "id": "49dc419a",
   "metadata": {},
   "source": [
    "**Примечание:** Для предоставления сертификатов `requests` использует пакет, который вызывается `certifi`. Это дает понять `requests`, каким ответам можно доверять. Поэтому вам следует часто обновлять `certifi`, чтобы обеспечить максимальную безопасность ваших соединений."
   ]
  },
  {
   "cell_type": "markdown",
   "id": "1ffb147d",
   "metadata": {},
   "source": [
    "## 14. Python Requests производительность приложений"
   ]
  },
  {
   "cell_type": "markdown",
   "id": "764186a3",
   "metadata": {},
   "source": [
    "* При использовании `requests`, особенно в среде приложений, важно учитывать влияние на производительность. \n",
    "* Такие функции, как контроль таймаута, сеансы и ограничения повторных попыток, могут помочь обеспечить бесперебойную работу приложения."
   ]
  },
  {
   "cell_type": "markdown",
   "id": "6448b63d",
   "metadata": {},
   "source": [
    "### `timeout` (Таймауты)"
   ]
  },
  {
   "cell_type": "markdown",
   "id": "f0ade589",
   "metadata": {},
   "source": [
    "* Когда вы отправляете встроенный запрос во внешнюю службу, вашей системе нужно будет дождаться ответа, прежде чем двигаться дальше.\n",
    "* Если ваше приложение слишком долго ожидает ответа, запросы к службе могут быть сохранены, пользовательский интерфейс может пострадать или фоновые задания могут зависнуть.\n",
    "* По умолчанию в `requests` на ответ время не ограничено, и весь процесс может занять значительный промежуток.\n",
    "* По этой причине вы всегда должны указывать время ожидания, чтобы такого не происходило. \n",
    "* Чтобы установить время ожидания запроса, используйте параметр `timeout`.\n",
    "* `timeout` может быть целым числом или числом с плавающей точкой, представляющим количество секунд ожидания ответа до истечения времени ожидания."
   ]
  },
  {
   "cell_type": "code",
   "execution_count": 81,
   "id": "5218417c",
   "metadata": {},
   "outputs": [
    {
     "data": {
      "text/plain": [
       "<Response [200]>"
      ]
     },
     "execution_count": 81,
     "metadata": {},
     "output_type": "execute_result"
    }
   ],
   "source": [
    "requests.get('https://api.github.com', timeout=1)"
   ]
  },
  {
   "cell_type": "code",
   "execution_count": 82,
   "id": "c455b20d",
   "metadata": {},
   "outputs": [
    {
     "data": {
      "text/plain": [
       "<Response [200]>"
      ]
     },
     "execution_count": 82,
     "metadata": {},
     "output_type": "execute_result"
    }
   ],
   "source": [
    "requests.get('https://api.github.com', timeout=3.05)"
   ]
  },
  {
   "cell_type": "markdown",
   "id": "a1bbad7e",
   "metadata": {},
   "source": [
    "* В первом примере запрос истекает через 1 секунду. Во втором примере запрос истекает через 3,05 секунды."
   ]
  },
  {
   "cell_type": "markdown",
   "id": "3fb3eeab",
   "metadata": {},
   "source": [
    "* Мы также можете передать **кортеж**. \n",
    "* Это – таймаут соединения (время, за которое клиент может установить соединение с сервером), а второй – таймаут чтения (время ожидания ответа, как только ваш клиент установил соединение):"
   ]
  },
  {
   "cell_type": "code",
   "execution_count": 83,
   "id": "0e248361",
   "metadata": {},
   "outputs": [
    {
     "data": {
      "text/plain": [
       "<Response [200]>"
      ]
     },
     "execution_count": 83,
     "metadata": {},
     "output_type": "execute_result"
    }
   ],
   "source": [
    "requests.get('https://api.github.com', timeout=(2, 5))"
   ]
  },
  {
   "cell_type": "markdown",
   "id": "9925d2fa",
   "metadata": {},
   "source": [
    "* Если запрос устанавливает соединение в течение 2 секунд и получает данные в течение 5 секунд после установления соединения, то ответ будет возвращен, как это было раньше. \n",
    "* Если время ожидания истекло, функция вызовет исключение `Timeout`.\n",
    "\n"
   ]
  },
  {
   "cell_type": "markdown",
   "id": "3ed39b4e",
   "metadata": {},
   "source": [
    "Наша программа может поймать `исключение Timeout` и ответить соответственно:"
   ]
  },
  {
   "cell_type": "code",
   "execution_count": 84,
   "id": "27d3811c",
   "metadata": {},
   "outputs": [
    {
     "name": "stdout",
     "output_type": "stream",
     "text": [
      "The request did not time out\n"
     ]
    }
   ],
   "source": [
    "import requests\n",
    "from requests.exceptions import Timeout\n",
    " \n",
    "try:\n",
    "    response = requests.get('https://api.github.com', timeout=1)\n",
    "except Timeout:\n",
    "    print('The request timed out')\n",
    "else:\n",
    "    print('The request did not time out')"
   ]
  },
  {
   "cell_type": "markdown",
   "id": "5e1ee975",
   "metadata": {},
   "source": [
    "## 15. Объект `Session` в `Requests`"
   ]
  },
  {
   "cell_type": "markdown",
   "id": "4ee1bc1a",
   "metadata": {},
   "source": [
    "* До сих пор вы имели дело с **requests API высокого уровня**, такими как `get()` и `post()`.\n",
    "* Эти функции являются абстракцией того, что происходит, когда вы делаете свои запросы. \n",
    "* Они скрывают детали реализации, такие как управление соединениями, так что вам не нужно о них беспокоиться.\n",
    "* Под этими абстракциями находится **класс** под названием `Session`. \n",
    "* Если вам необходимо настроить контроль над выполнением запросов или повысить производительность ваших запросов, вам может потребоваться использовать `Session` напрямую."
   ]
  },
  {
   "cell_type": "markdown",
   "id": "cc543ed3",
   "metadata": {},
   "source": [
    "> **Сессии** используются для сохранения параметров в запросах."
   ]
  },
  {
   "cell_type": "markdown",
   "id": "8fce0301",
   "metadata": {},
   "source": [
    "Если вы хотите использовать одну и ту же аутентификацию для нескольких запросов, вы можете использовать сеанс:"
   ]
  },
  {
   "cell_type": "code",
   "execution_count": 89,
   "id": "9869917b",
   "metadata": {},
   "outputs": [
    {
     "name": "stdout",
     "output_type": "stream",
     "text": [
      "········\n",
      "{'Server': 'GitHub.com', 'Date': 'Sun, 12 Mar 2023 17:05:47 GMT', 'Content-Type': 'application/json; charset=utf-8', 'Content-Length': '131', 'X-GitHub-Media-Type': 'github.v3; format=json', 'x-github-api-version-selected': '2022-11-28', 'X-RateLimit-Limit': '60', 'X-RateLimit-Remaining': '56', 'X-RateLimit-Reset': '1678644162', 'X-RateLimit-Used': '4', 'X-RateLimit-Resource': 'core', 'Access-Control-Expose-Headers': 'ETag, Link, Location, Retry-After, X-GitHub-OTP, X-RateLimit-Limit, X-RateLimit-Remaining, X-RateLimit-Used, X-RateLimit-Resource, X-RateLimit-Reset, X-OAuth-Scopes, X-Accepted-OAuth-Scopes, X-Poll-Interval, X-GitHub-Media-Type, X-GitHub-SSO, X-GitHub-Request-Id, Deprecation, Sunset', 'Access-Control-Allow-Origin': '*', 'Strict-Transport-Security': 'max-age=31536000; includeSubdomains; preload', 'X-Frame-Options': 'deny', 'X-Content-Type-Options': 'nosniff', 'X-XSS-Protection': '0', 'Referrer-Policy': 'origin-when-cross-origin, strict-origin-when-cross-origin', 'Content-Security-Policy': \"default-src 'none'\", 'Vary': 'Accept-Encoding, Accept, X-Requested-With', 'X-GitHub-Request-Id': '8564:66E7:EA0BE7E:ED7A0F7:640E066B'}\n",
      "===================================================================================================================\n",
      "{'message': 'Requires authentication', 'documentation_url': 'https://docs.github.com/rest/reference/users#get-the-authenticated-user'}\n"
     ]
    }
   ],
   "source": [
    "import requests\n",
    "from getpass import getpass\n",
    " \n",
    "# используя менеджер контента, можно убедиться, что ресурсы, применимые\n",
    "# во время сессии будут свободны после использования\n",
    "with requests.Session() as session:\n",
    "    session.auth = ('username', getpass())\n",
    " \n",
    "    # Instead of requests.get(), you'll use session.get()\n",
    "    response = session.get('https://api.github.com/user')\n",
    " \n",
    "# здесь можно изучить ответ \n",
    "print(response.headers)\n",
    "print('===================================================================================================================')\n",
    "print(response.json())"
   ]
  },
  {
   "cell_type": "markdown",
   "id": "fee65697",
   "metadata": {},
   "source": [
    "* Каждый раз, когда вы делаете запрос `session`, после того как он был инициализирован с учетными данными аутентификации, учетные данные будут сохраняться."
   ]
  },
  {
   "cell_type": "markdown",
   "id": "ea5a4e1f",
   "metadata": {},
   "source": [
    "* Первичная оптимизация производительности сеансов происходит в форме постоянных соединений. \n",
    "* Когда ваше приложение устанавливает соединение с сервером с помощью `Session`, оно сохраняет это соединение в пуле соединений.\n",
    "* Когда ваше приложение снова хочет подключиться к тому же серверу, оно будет использовать соединение из пула, а не устанавливать новое."
   ]
  },
  {
   "cell_type": "markdown",
   "id": "85a67e24",
   "metadata": {},
   "source": [
    "# 16. `HTTPAdapter` — Максимальное количество повторов запроса в `Requests`"
   ]
  },
  {
   "cell_type": "markdown",
   "id": "8de6db04",
   "metadata": {},
   "source": [
    "* В случае сбоя запроса возникает необходимость сделать повторный запрос. \n",
    "* Однако `requests` не будет делать это самостоятельно. \n",
    "* Для применения функции повторного запроса требуется реализовать собственный **транспортный адаптер**.\n",
    "\n"
   ]
  },
  {
   "cell_type": "markdown",
   "id": "74e5708a",
   "metadata": {},
   "source": [
    "* **Транспортные адаптеры** позволяют определить набор конфигураций для каждой службы, с которой вы взаимодействуете.\n",
    "* Предположим, вы хотите, чтобы все запросы к https://api.github.com были повторены три раза, прежде чем, наконец, появится **ConnectionError**. \n",
    "* Для этого нужно построить **транспортный адаптер**, установить его параметр **max_retries** и подключить его к существующему объекту `Session`."
   ]
  },
  {
   "cell_type": "code",
   "execution_count": 91,
   "id": "605af2d5",
   "metadata": {},
   "outputs": [],
   "source": [
    "import requests\n",
    "from requests.adapters import HTTPAdapter\n",
    "from requests.exceptions import ConnectionError\n",
    " \n",
    "github_adapter = HTTPAdapter(max_retries=3)\n",
    " \n",
    "session = requests.Session()\n",
    " \n",
    "# использование `github_adapter` для всех запросов, которые начинаются с указанным URL\n",
    "session.mount('https://api.github.com', github_adapter)\n",
    " \n",
    "try:\n",
    "    session.get('https://api.github.com')\n",
    "except ConnectionError as ce:\n",
    "    print(ce)"
   ]
  },
  {
   "cell_type": "markdown",
   "id": "74153941",
   "metadata": {},
   "source": [
    "* При установке **HTTPAdapter**, **github_adapter** к `session`, `session` будет придерживаться своей конфигурации для каждого запроса к https://api.github.com.\n",
    "\n",
    "* **Таймауты**, **транспортные адаптеры** и **сессии** предназначены для обеспечения эффективности используемого кода и стабильности приложения."
   ]
  },
  {
   "cell_type": "markdown",
   "id": "9adadef6",
   "metadata": {},
   "source": [
    "> *Данная статья является переводом статьи:* **Python’s Requests Library (Guide)** --->>>   https://realpython.com/python-requests/"
   ]
  },
  {
   "cell_type": "code",
   "execution_count": null,
   "id": "6b8aa3f3",
   "metadata": {},
   "outputs": [],
   "source": []
  }
 ],
 "metadata": {
  "kernelspec": {
   "display_name": "Python 3 (ipykernel)",
   "language": "python",
   "name": "python3"
  },
  "language_info": {
   "codemirror_mode": {
    "name": "ipython",
    "version": 3
   },
   "file_extension": ".py",
   "mimetype": "text/x-python",
   "name": "python",
   "nbconvert_exporter": "python",
   "pygments_lexer": "ipython3",
   "version": "3.9.13"
  }
 },
 "nbformat": 4,
 "nbformat_minor": 5
}
