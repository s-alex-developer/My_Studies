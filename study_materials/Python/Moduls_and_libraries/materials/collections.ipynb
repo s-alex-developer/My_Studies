{
 "cells": [
  {
   "cell_type": "markdown",
   "id": "2e39f1ae",
   "metadata": {},
   "source": [
    "_Последние изменения внесены: 21.03.2023_"
   ]
  },
  {
   "cell_type": "markdown",
   "id": "af34f1ed",
   "metadata": {},
   "source": [
    "# Модуль `collections` стандартной бибилиотеки Python."
   ]
  },
  {
   "cell_type": "markdown",
   "id": "f8a522b8",
   "metadata": {},
   "source": [
    "* Модуль `collections` входит в стандартную бибилиотеку **Python** и не требует отдельной установки.\n",
    "* Данный модуль содержит специальные типы данных **Python**, которые реализованы на осовании встроенных, таких как *списки*, *словари*, *кортежи итд*."
   ]
  },
  {
   "cell_type": "markdown",
   "id": "8172b4bb",
   "metadata": {},
   "source": [
    "## Содержание:\n",
    "#### 1. Класс `Counter`\n",
    "#### 2. Специальный тип данных `defaultdict` (\"Словарь по умолчанию\")"
   ]
  },
  {
   "cell_type": "markdown",
   "id": "0965717b",
   "metadata": {},
   "source": [
    "## 1. Класс `Counter`"
   ]
  },
  {
   "cell_type": "markdown",
   "id": "5dddbc9d",
   "metadata": {},
   "source": [
    "* Класс `Counter` используется для подсчета значений. \n",
    "* Даннный класс построен на основании встроенного типа данных `dict` - словарь.\n",
    "* Как и в случае со стандартными словарями, ключами могут быть только неизменяемые типы данных, которые поддерживают хэширование.\n",
    "* Для работы класса **необходима итерабильная последовательность** элементы которой можно перебирать."
   ]
  },
  {
   "cell_type": "markdown",
   "id": "3c4f0fda",
   "metadata": {},
   "source": [
    "Рассмотрим примеры реализации возможностей данного класса:"
   ]
  },
  {
   "cell_type": "code",
   "execution_count": 6,
   "id": "b614f496",
   "metadata": {},
   "outputs": [],
   "source": [
    "from collections import Counter"
   ]
  },
  {
   "cell_type": "code",
   "execution_count": 3,
   "id": "151efcda",
   "metadata": {},
   "outputs": [],
   "source": [
    "string = 'abracadabra'"
   ]
  },
  {
   "cell_type": "code",
   "execution_count": 14,
   "id": "54ffb72b",
   "metadata": {},
   "outputs": [
    {
     "data": {
      "text/plain": [
       "Counter({'a': 5, 'b': 2, 'r': 2, 'c': 1, 'd': 1})"
      ]
     },
     "execution_count": 14,
     "metadata": {},
     "output_type": "execute_result"
    }
   ],
   "source": [
    "Counter(string)"
   ]
  },
  {
   "cell_type": "code",
   "execution_count": 13,
   "id": "be4bb178",
   "metadata": {},
   "outputs": [
    {
     "name": "stdout",
     "output_type": "stream",
     "text": [
      "<class 'collections.Counter'>\n"
     ]
    }
   ],
   "source": [
    "print(type(Counter(string)))"
   ]
  },
  {
   "cell_type": "markdown",
   "id": "541cfcde",
   "metadata": {},
   "source": [
    "* В результате мы получаем новый объект класса `Counter`\n",
    "* Содержимое очень похоже на **словарь**, где ключи это буквы, а значение кол-во раз сколько они втсречаются в объекте **string**"
   ]
  },
  {
   "cell_type": "markdown",
   "id": "568ea970",
   "metadata": {},
   "source": [
    "Точно так же можно обработать **данные списка**:"
   ]
  },
  {
   "cell_type": "code",
   "execution_count": 15,
   "id": "7c30ebcc",
   "metadata": {},
   "outputs": [],
   "source": [
    "my_list = ['one', 'two', 'three', 'two', 'three', 'three']"
   ]
  },
  {
   "cell_type": "code",
   "execution_count": 16,
   "id": "a1468edc",
   "metadata": {},
   "outputs": [
    {
     "data": {
      "text/plain": [
       "Counter({'one': 1, 'two': 2, 'three': 3})"
      ]
     },
     "execution_count": 16,
     "metadata": {},
     "output_type": "execute_result"
    }
   ],
   "source": [
    "Counter(my_list)"
   ]
  },
  {
   "cell_type": "markdown",
   "id": "9264a864",
   "metadata": {},
   "source": [
    "Данные класса `Counter` мы можем поместить в переменную и обратится к ним в любой момент:"
   ]
  },
  {
   "cell_type": "code",
   "execution_count": 17,
   "id": "56197bb4",
   "metadata": {},
   "outputs": [],
   "source": [
    "data = Counter(my_list)"
   ]
  },
  {
   "cell_type": "code",
   "execution_count": 18,
   "id": "c8d593b6",
   "metadata": {},
   "outputs": [
    {
     "data": {
      "text/plain": [
       "Counter({'one': 1, 'two': 2, 'three': 3})"
      ]
     },
     "execution_count": 18,
     "metadata": {},
     "output_type": "execute_result"
    }
   ],
   "source": [
    "data"
   ]
  },
  {
   "cell_type": "markdown",
   "id": "1604af5f",
   "metadata": {},
   "source": [
    "* Получили тот же результат."
   ]
  },
  {
   "cell_type": "markdown",
   "id": "e88d138a",
   "metadata": {},
   "source": [
    "### 1.2 Обращение `по ключу` и применение стандартных методов методов `.items()`  ,  `.keys()`  ,  `values()`"
   ]
  },
  {
   "cell_type": "markdown",
   "id": "4c45482d",
   "metadata": {},
   "source": [
    "Поскольку мы имее дело со словарем, то к его значениям мы можем напрямую обращаться по ключам, а так же применять стандартные методы работы со словарями:"
   ]
  },
  {
   "cell_type": "code",
   "execution_count": 44,
   "id": "60b787cf",
   "metadata": {},
   "outputs": [
    {
     "data": {
      "text/plain": [
       "3"
      ]
     },
     "execution_count": 44,
     "metadata": {},
     "output_type": "execute_result"
    }
   ],
   "source": [
    "data['three']"
   ]
  },
  {
   "cell_type": "markdown",
   "id": "d6ac665c",
   "metadata": {},
   "source": [
    "* Получено верное значение по указанному ключу."
   ]
  },
  {
   "cell_type": "markdown",
   "id": "6da91115",
   "metadata": {},
   "source": [
    "Интересная особенность класса `Counter`:\n",
    "* При обращение по ключу которого не существет, мы не получим ошибку, как при работе со стандартным словарем **Python**\n",
    "* Поскольку данные класс занимается подсчетом частоты, с которой элемент встречается в обрабатываемых данных, то результатом поиска несуществующего ключа будет 0."
   ]
  },
  {
   "cell_type": "code",
   "execution_count": 43,
   "id": "cd55c04e",
   "metadata": {},
   "outputs": [
    {
     "data": {
      "text/plain": [
       "0"
      ]
     },
     "execution_count": 43,
     "metadata": {},
     "output_type": "execute_result"
    }
   ],
   "source": [
    "data['five']"
   ]
  },
  {
   "cell_type": "markdown",
   "id": "3750b9c6",
   "metadata": {},
   "source": [
    "* Результат озночает что ключ **'five'** встречался 0 раз."
   ]
  },
  {
   "cell_type": "markdown",
   "id": "28d2d465",
   "metadata": {},
   "source": [
    "Применим стандартные методы `.items()`  ,  `.keys()`  ,  `values()`"
   ]
  },
  {
   "cell_type": "code",
   "execution_count": 21,
   "id": "fe4b4c71",
   "metadata": {
    "scrolled": true
   },
   "outputs": [
    {
     "data": {
      "text/plain": [
       "dict_items([('one', 1), ('two', 2), ('three', 3)])"
      ]
     },
     "execution_count": 21,
     "metadata": {},
     "output_type": "execute_result"
    }
   ],
   "source": [
    "data.items()"
   ]
  },
  {
   "cell_type": "markdown",
   "id": "7b919d53",
   "metadata": {},
   "source": [
    "* В результате получаем список кортежей, содержащих пару ключ: значение."
   ]
  },
  {
   "cell_type": "code",
   "execution_count": 22,
   "id": "0483b41f",
   "metadata": {},
   "outputs": [
    {
     "data": {
      "text/plain": [
       "dict_keys(['one', 'two', 'three'])"
      ]
     },
     "execution_count": 22,
     "metadata": {},
     "output_type": "execute_result"
    }
   ],
   "source": [
    "data.keys()"
   ]
  },
  {
   "cell_type": "markdown",
   "id": "bd52262c",
   "metadata": {},
   "source": [
    "* В результате получаем список, элементами которого являются ключи словаря."
   ]
  },
  {
   "cell_type": "code",
   "execution_count": 23,
   "id": "b1c4df7a",
   "metadata": {},
   "outputs": [
    {
     "data": {
      "text/plain": [
       "dict_values([1, 2, 3])"
      ]
     },
     "execution_count": 23,
     "metadata": {},
     "output_type": "execute_result"
    }
   ],
   "source": [
    "data.values()"
   ]
  },
  {
   "cell_type": "markdown",
   "id": "cc0706e3",
   "metadata": {},
   "source": [
    "* В результате получаем список, элементами которого являются значения ключей словаря."
   ]
  },
  {
   "cell_type": "markdown",
   "id": "0205d56c",
   "metadata": {},
   "source": [
    "### 1.3 применение специальных методов класса `Counter`"
   ]
  },
  {
   "cell_type": "markdown",
   "id": "3c540359",
   "metadata": {},
   "source": [
    "### метод `.elements()`"
   ]
  },
  {
   "cell_type": "code",
   "execution_count": 38,
   "id": "f8617005",
   "metadata": {},
   "outputs": [
    {
     "data": {
      "text/plain": [
       "<itertools.chain at 0x2153e85c130>"
      ]
     },
     "execution_count": 38,
     "metadata": {},
     "output_type": "execute_result"
    }
   ],
   "source": [
    "Counter(my_list).elements()"
   ]
  },
  {
   "cell_type": "markdown",
   "id": "81cf80de",
   "metadata": {},
   "source": [
    "* В результате применения метода `.elements()` мы получаем **объект итератор**, **элементы** которого можно обойти в **цикле**:"
   ]
  },
  {
   "cell_type": "code",
   "execution_count": 37,
   "id": "02bc6430",
   "metadata": {},
   "outputs": [
    {
     "name": "stdout",
     "output_type": "stream",
     "text": [
      "one\n",
      "two\n",
      "two\n",
      "three\n",
      "three\n",
      "three\n"
     ]
    }
   ],
   "source": [
    "for el in Counter(my_list).elements():\n",
    "    print(el)"
   ]
  },
  {
   "cell_type": "markdown",
   "id": "ca36c5b1",
   "metadata": {},
   "source": [
    "* В данном цикле `итерация` происходит по ключам нашего `объекта-каунтера` **Counter(my_list)** и каждый ключ выводится столько раз, сколько он встречается в исходном списке **my_lyst**"
   ]
  },
  {
   "cell_type": "markdown",
   "id": "607b81f7",
   "metadata": {},
   "source": [
    "### метод `.most_common()`"
   ]
  },
  {
   "cell_type": "markdown",
   "id": "96a52020",
   "metadata": {},
   "source": [
    "Метод возвращает пару ключ: значение начиная с самого часто встречающего елемента данных и далее в прядке убывания:"
   ]
  },
  {
   "cell_type": "code",
   "execution_count": 40,
   "id": "c7f32d01",
   "metadata": {},
   "outputs": [
    {
     "data": {
      "text/plain": [
       "[('three', 3), ('two', 2), ('one', 1)]"
      ]
     },
     "execution_count": 40,
     "metadata": {},
     "output_type": "execute_result"
    }
   ],
   "source": [
    "Counter(my_list).most_common()"
   ]
  },
  {
   "cell_type": "markdown",
   "id": "dbbcbfe5",
   "metadata": {},
   "source": [
    "* Результатом работы метода `.most_common()` будет **список**, отдельным элементом которого является **кортеж**."
   ]
  },
  {
   "cell_type": "markdown",
   "id": "870f03c0",
   "metadata": {},
   "source": [
    "Метод может принимать один аргумент, который позволяет выводить на экран определенное кол-во элементов:"
   ]
  },
  {
   "cell_type": "code",
   "execution_count": 41,
   "id": "a996ec31",
   "metadata": {},
   "outputs": [
    {
     "data": {
      "text/plain": [
       "[('three', 3), ('two', 2)]"
      ]
     },
     "execution_count": 41,
     "metadata": {},
     "output_type": "execute_result"
    }
   ],
   "source": [
    "Counter(my_list).most_common(2)"
   ]
  },
  {
   "cell_type": "markdown",
   "id": "a2a4c7e6",
   "metadata": {},
   "source": [
    "* В результаты вывелись только два самых часто встречающихся в списке элемента."
   ]
  },
  {
   "cell_type": "markdown",
   "id": "b3cd80af",
   "metadata": {},
   "source": [
    "**Пример применения:**"
   ]
  },
  {
   "cell_type": "code",
   "execution_count": 50,
   "id": "0da6e879",
   "metadata": {},
   "outputs": [
    {
     "name": "stdout",
     "output_type": "stream",
     "text": [
      "Counter()\n"
     ]
    }
   ],
   "source": [
    "#Создадим пустой объект класса Counter\n",
    "count = Counter()\n",
    "print(count)"
   ]
  },
  {
   "cell_type": "code",
   "execution_count": 54,
   "id": "ac82b11f",
   "metadata": {},
   "outputs": [
    {
     "name": "stdout",
     "output_type": "stream",
     "text": [
      "Counter({'c': 12, 'b': 8, 'a': 4, 'd': 4})\n"
     ]
    }
   ],
   "source": [
    "#Посчитаем кол-во повторений элементов списка\n",
    "my_list = ['a', 'b', 'c', 'b', 'c', 'c', 'd']\n",
    "\n",
    "for i in my_list:\n",
    "    count[i] = count[i] + 1\n",
    "print(count)"
   ]
  },
  {
   "cell_type": "markdown",
   "id": "546bcc61",
   "metadata": {},
   "source": [
    "* Такой метод подсчета возможен только с применением `Counter()` так как при отсутсвии ключа в словаре будет возвращен 0.\n",
    "* Следовательно при первом обращении по ключу, которого еще нет в словаре выражение `count[i] = count[i] + 1` будет реализовано в **Python** в следующем виде: `count[i] = 0 + 1`\n",
    "* Если мы попытаемся спользовать стандартный словарь *Python* в данной ситуации, то возникнет ошибка, так как ключа `[i]` и его значения в словаре нет, а значит провести матичесскую операцию сложения с несуществующими данными мы не можем."
   ]
  },
  {
   "cell_type": "markdown",
   "id": "b1ad167b",
   "metadata": {},
   "source": [
    "**Рассмотрим еще один пример: `Сложение и вычетание объектов-счетчиков`** "
   ]
  },
  {
   "cell_type": "code",
   "execution_count": 61,
   "id": "726fd588",
   "metadata": {},
   "outputs": [
    {
     "name": "stdout",
     "output_type": "stream",
     "text": [
      "Counter({'c': 3, 'b': 2, 'a': 1, 'd': 1})\n"
     ]
    }
   ],
   "source": [
    "#Используем тот же список:\n",
    "my_list = ['a', 'b', 'c', 'b', 'c', 'c', 'd']\n",
    "data = Counter(my_list) #помести в переменну data данные объекта класса Counter\n",
    "print(data)"
   ]
  },
  {
   "cell_type": "code",
   "execution_count": 64,
   "id": "70ba3e42",
   "metadata": {},
   "outputs": [
    {
     "name": "stdout",
     "output_type": "stream",
     "text": [
      "Counter({'y': 4, 'd': 4})\n"
     ]
    }
   ],
   "source": [
    "#Создадим еще один спискок:\n",
    "new_list = ['y', 'y', 'y', 'y', 'd', 'd', 'd', 'd']\n",
    "new_data = Counter(new_list) #помести в переменну new_data данные объекта класса Counter\n",
    "print(new_data)"
   ]
  },
  {
   "cell_type": "markdown",
   "id": "90c92dea",
   "metadata": {},
   "source": [
    "Работа с классом `Counter()` позволяет нам сложить результаты: "
   ]
  },
  {
   "cell_type": "code",
   "execution_count": 65,
   "id": "882ee1c6",
   "metadata": {
    "scrolled": true
   },
   "outputs": [
    {
     "name": "stdout",
     "output_type": "stream",
     "text": [
      "Counter({'d': 5, 'y': 4, 'c': 3, 'b': 2, 'a': 1})\n"
     ]
    }
   ],
   "source": [
    "results = data + new_data\n",
    "print(results)"
   ]
  },
  {
   "cell_type": "markdown",
   "id": "f20bcc66",
   "metadata": {},
   "source": [
    "* В результате мы получим объединенный объект-счетчик **results**, где будут содержаться уникальные пары ключ:значение из объектов-счетчиков **data** и **new_data**, которые мы сложили, а по совпадающим ключам, значения будут складываться."
   ]
  },
  {
   "cell_type": "markdown",
   "id": "43048ceb",
   "metadata": {},
   "source": [
    "Произведем вычетание:"
   ]
  },
  {
   "cell_type": "code",
   "execution_count": 66,
   "id": "2858dcb5",
   "metadata": {},
   "outputs": [
    {
     "name": "stdout",
     "output_type": "stream",
     "text": [
      "Counter({'c': 3, 'b': 2, 'a': 1})\n"
     ]
    }
   ],
   "source": [
    "new_results = data - new_data\n",
    "print(new_results)"
   ]
  },
  {
   "cell_type": "code",
   "execution_count": 67,
   "id": "d8ca130f",
   "metadata": {},
   "outputs": [
    {
     "name": "stdout",
     "output_type": "stream",
     "text": [
      "Counter({'y': 4, 'd': 3})\n"
     ]
    }
   ],
   "source": [
    "new_results_2 = new_data - data\n",
    "print(new_results_2)"
   ]
  },
  {
   "cell_type": "markdown",
   "id": "d30fa243",
   "metadata": {},
   "source": [
    "* В результате остануться только те пары **ключ:значение**, где **значение ключа** после вычитания **будут положительными**."
   ]
  },
  {
   "cell_type": "code",
   "execution_count": null,
   "id": "c972c32a",
   "metadata": {},
   "outputs": [],
   "source": []
  }
 ],
 "metadata": {
  "kernelspec": {
   "display_name": "Python 3 (ipykernel)",
   "language": "python",
   "name": "python3"
  },
  "language_info": {
   "codemirror_mode": {
    "name": "ipython",
    "version": 3
   },
   "file_extension": ".py",
   "mimetype": "text/x-python",
   "name": "python",
   "nbconvert_exporter": "python",
   "pygments_lexer": "ipython3",
   "version": "3.9.13"
  }
 },
 "nbformat": 4,
 "nbformat_minor": 5
}
