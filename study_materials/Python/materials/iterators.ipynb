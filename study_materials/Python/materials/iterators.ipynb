{
 "cells": [
  {
   "cell_type": "markdown",
   "id": "4a2df999",
   "metadata": {},
   "source": [
    "*Последние изменения внесены: `04.04.2023`*"
   ]
  },
  {
   "cell_type": "markdown",
   "id": "3cd6b8ca",
   "metadata": {},
   "source": [
    "# Итераторы и Итерируемые объекты."
   ]
  },
  {
   "cell_type": "markdown",
   "id": "0a1993d5",
   "metadata": {},
   "source": [
    "### Итерируемые объекты.\n",
    "\n",
    "* **Итерируемый объект** это объект, который можно проитерировать, т.е. пройтись по элементам объекта в цикле. \n",
    "* Например, итерируемым объектом может быть список или кортеж. \n",
    "* В **Python**, чтобы объект был итерируемым, он должен реализовывать метод `__iter__`. \n",
    "* Этот метод-болванка принимает в качестве входных данных только экземпляр объекта `self` и должен возвращать объект-итератор. \n",
    "* Вы можете использовать встроенную функцию `iter`, чтобы получить итератор итерируемого объекта.\n",
    "* В **Python** последовательности сами по себе не являются итераторами. Скорее у каждой есть соответствующий класс-итератор, отвечающий за итерацию. \n",
    "\n",
    "Пример преобразования списка в итерируемый объект (объект класса-итератора):"
   ]
  },
  {
   "cell_type": "code",
   "execution_count": 24,
   "id": "8ce2a81b",
   "metadata": {},
   "outputs": [
    {
     "name": "stdout",
     "output_type": "stream",
     "text": [
      "<class 'list_iterator'>\n"
     ]
    }
   ],
   "source": [
    "l = [1, 2, 3, 4, 5]\n",
    "\n",
    "it_1 = iter(l)\n",
    "\n",
    "print(type(it_1))"
   ]
  },
  {
   "cell_type": "markdown",
   "id": "9478ed5f",
   "metadata": {},
   "source": [
    "> Итерируемый объект не обязательно является итератором. Поскольку на самом деле сам по себе он не выполняет итерацию. У вас может быть отдельный объект-итератор, который возвращается из итерируемого класса, а не класс, обрабатывающий свою собственную итерацию."
   ]
  },
  {
   "cell_type": "markdown",
   "id": "be8e98fc",
   "metadata": {},
   "source": [
    "### Итераторы."
   ]
  },
  {
   "cell_type": "markdown",
   "id": "92d7a15f",
   "metadata": {},
   "source": [
    "* `Итераторы` – это уровень абстракции, который инкапсулирует знания о том, как брать элементы из некоторой последовательности. \n",
    "* `Итератор` - это класс, реализующий магичесские методы `__next__` и `__iter__`. \n",
    "* «Последовательность», с которой работает `итератор` может быть чем угодно, от списков и файлов до потоков данных из базы данных или удаленного сервиса. \n",
    "* В итераторах замечательно то, что код, использующий итератор, даже не должен знать, какой источник данных используется, а вместо этого он может сосредоточиться только на одном, а именно: «Что мне делать с каждым элементом?»."
   ]
  },
  {
   "cell_type": "code",
   "execution_count": 27,
   "id": "f68185d4",
   "metadata": {
    "scrolled": true
   },
   "outputs": [
    {
     "name": "stdout",
     "output_type": "stream",
     "text": [
      "1\n",
      "2\n",
      "3\n",
      "4\n",
      "5\n"
     ]
    },
    {
     "ename": "StopIteration",
     "evalue": "",
     "output_type": "error",
     "traceback": [
      "\u001b[1;31m---------------------------------------------------------------------------\u001b[0m",
      "\u001b[1;31mStopIteration\u001b[0m                             Traceback (most recent call last)",
      "Cell \u001b[1;32mIn[27], line 10\u001b[0m\n\u001b[0;32m      8\u001b[0m \u001b[38;5;28mprint\u001b[39m(\u001b[38;5;28mnext\u001b[39m(it_1)) \u001b[38;5;66;03m# Итерация 4\u001b[39;00m\n\u001b[0;32m      9\u001b[0m \u001b[38;5;28mprint\u001b[39m(\u001b[38;5;28mnext\u001b[39m(it_1)) \u001b[38;5;66;03m# Итерация 5\u001b[39;00m\n\u001b[1;32m---> 10\u001b[0m \u001b[38;5;28mprint\u001b[39m(\u001b[38;5;28;43mnext\u001b[39;49m\u001b[43m(\u001b[49m\u001b[43mit_1\u001b[49m\u001b[43m)\u001b[49m)\n",
      "\u001b[1;31mStopIteration\u001b[0m: "
     ]
    }
   ],
   "source": [
    "l = [1, 2, 3, 4, 5]\n",
    "\n",
    "it_1 = iter(l)\n",
    "\n",
    "print(next(it_1)) # Итерация 1\n",
    "print(next(it_1)) # Итерация 2\n",
    "print(next(it_1)) # Итерация 3\n",
    "print(next(it_1)) # Итерация 4\n",
    "print(next(it_1)) # Итерация 5\n",
    "print(next(it_1)) # Итерация 6 - индекс очередного элемента выходит за пределы списка, мы вызываем StopIteration "
   ]
  },
  {
   "cell_type": "markdown",
   "id": "1026fb5e",
   "metadata": {},
   "source": [
    "> Все циклы `for` в **Python** используют итераторы:"
   ]
  },
  {
   "cell_type": "code",
   "execution_count": 36,
   "id": "50341e59",
   "metadata": {},
   "outputs": [
    {
     "name": "stdout",
     "output_type": "stream",
     "text": [
      "a\n",
      "b\n",
      "c\n"
     ]
    }
   ],
   "source": [
    "chars = 'abc'\n",
    "\n",
    "for char in chars:\n",
    "    print(char)"
   ]
  },
  {
   "cell_type": "markdown",
   "id": "03cd7599",
   "metadata": {},
   "source": [
    "По сути в цикле `for` происходит следующее:"
   ]
  },
  {
   "cell_type": "code",
   "execution_count": 6,
   "id": "b64f5a33",
   "metadata": {
    "scrolled": true
   },
   "outputs": [
    {
     "name": "stdout",
     "output_type": "stream",
     "text": [
      "A\n",
      "B\n",
      "C\n"
     ]
    }
   ],
   "source": [
    "chars = iter('ABC')\n",
    "print(next(chars))\n",
    "print(next(chars))\n",
    "print(next(chars))\n"
   ]
  },
  {
   "cell_type": "markdown",
   "id": "d6919cea",
   "metadata": {},
   "source": [
    "Попытка обратится к следующему несуществующему элементу вызовит исключение `StopIteration`:"
   ]
  },
  {
   "cell_type": "code",
   "execution_count": 7,
   "id": "9bbdb1e7",
   "metadata": {
    "scrolled": true
   },
   "outputs": [
    {
     "ename": "StopIteration",
     "evalue": "",
     "output_type": "error",
     "traceback": [
      "\u001b[1;31m---------------------------------------------------------------------------\u001b[0m",
      "\u001b[1;31mStopIteration\u001b[0m                             Traceback (most recent call last)",
      "Cell \u001b[1;32mIn[7], line 1\u001b[0m\n\u001b[1;32m----> 1\u001b[0m \u001b[38;5;28mprint\u001b[39m(\u001b[38;5;28;43mnext\u001b[39;49m\u001b[43m(\u001b[49m\u001b[43mchars\u001b[49m\u001b[43m)\u001b[49m)\n",
      "\u001b[1;31mStopIteration\u001b[0m: "
     ]
    }
   ],
   "source": [
    "print(next(chars))"
   ]
  },
  {
   "cell_type": "markdown",
   "id": "956c9d15",
   "metadata": {},
   "source": [
    "**Реализация итератора чисел Фибонначи в парадигме ООП:**"
   ]
  },
  {
   "cell_type": "code",
   "execution_count": 53,
   "id": "d5c87603",
   "metadata": {
    "scrolled": true
   },
   "outputs": [
    {
     "name": "stdout",
     "output_type": "stream",
     "text": [
      "0\n",
      "1\n",
      "1\n",
      "2\n",
      "3\n",
      "5\n",
      "8\n",
      "13\n",
      "21\n",
      "34\n"
     ]
    }
   ],
   "source": [
    "class Fib:\n",
    "    \n",
    "    def __init__(self, max_items):\n",
    "        self.max_items = max_items\n",
    "        \n",
    "    def __next__(self):\n",
    "        self.items += 1\n",
    "        if self.items > self.max_items:\n",
    "            raise StopIteration\n",
    "    \n",
    "        self.fib = self.a\n",
    "        self.a, self.b = self.b, self.a + self.b\n",
    "        return self.fib\n",
    "    \n",
    "    def __iter__(self):\n",
    "        self.a = 0\n",
    "        self.b = 1\n",
    "        self.items = 0\n",
    "        return self\n",
    "    \n",
    "if __name__ == '__main__':\n",
    "    \n",
    "    fib = Fib(10)\n",
    "    \n",
    "    for item in fib:\n",
    "        print(item)       "
   ]
  },
  {
   "cell_type": "code",
   "execution_count": null,
   "id": "37428b7c",
   "metadata": {},
   "outputs": [],
   "source": []
  }
 ],
 "metadata": {
  "kernelspec": {
   "display_name": "Python 3 (ipykernel)",
   "language": "python",
   "name": "python3"
  },
  "language_info": {
   "codemirror_mode": {
    "name": "ipython",
    "version": 3
   },
   "file_extension": ".py",
   "mimetype": "text/x-python",
   "name": "python",
   "nbconvert_exporter": "python",
   "pygments_lexer": "ipython3",
   "version": "3.10.9"
  }
 },
 "nbformat": 4,
 "nbformat_minor": 5
}
