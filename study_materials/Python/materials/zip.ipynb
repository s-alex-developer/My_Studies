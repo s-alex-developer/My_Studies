{
 "cells": [
  {
   "cell_type": "markdown",
   "id": "4a352916",
   "metadata": {},
   "source": [
    "*Последние изменения внесены: `26.03.2023`*"
   ]
  },
  {
   "cell_type": "markdown",
   "id": "37f71e42",
   "metadata": {},
   "source": [
    "# Функция  `zip` (объединение)"
   ]
  },
  {
   "cell_type": "markdown",
   "id": "ce715af2",
   "metadata": {},
   "source": [
    "**Функция zip()** \n",
    "* В Python создает итератор, который объединяет элементы из нескольких источников данных. \n",
    "* Эта функция работает со *списками, кортежами, множествами и словарями* для создания *списков или кортежей*, включающих все эти данные.\n",
    "* Функцию `zip()` удобно применять в цикле `for` для создания объекта итератора, содержащего сводную информацию из разных массивов данных.\n",
    "* Объединенные данные объекта `zip` могут быть распракованы по разным массивам данных."
   ]
  },
  {
   "cell_type": "markdown",
   "id": "0e08d3cf",
   "metadata": {},
   "source": [
    "**Расммотрим несколько простых примеров:**"
   ]
  },
  {
   "cell_type": "code",
   "execution_count": 27,
   "id": "96098d31",
   "metadata": {},
   "outputs": [
    {
     "name": "stdout",
     "output_type": "stream",
     "text": [
      "<zip object at 0x000001834944AD00>\n",
      "<class 'zip'>\n",
      "[(1, 1), (2, 2), (3, 3)]\n",
      "(1, 1)\n",
      "<class 'tuple'>\n"
     ]
    }
   ],
   "source": [
    "w = [1, 2, 3, 4]\n",
    "l = [1, 2, 3]\n",
    "\n",
    "wl = zip(w, l)\n",
    "\n",
    "print(wl)\n",
    "print(type(wl))\n",
    "\n",
    "new_wl = list(wl)\n",
    "print(new_wl)\n",
    "print(new_wl[0])\n",
    "print(type(new_wl[0]))"
   ]
  },
  {
   "cell_type": "markdown",
   "id": "c2f0d304",
   "metadata": {},
   "source": [
    "* Как мы видим из примера выше функция `zip()` производит объединение елементов только если для них есть пара.\n",
    "* Элементы без пары просто отбрасываются."
   ]
  },
  {
   "cell_type": "markdown",
   "id": "ddd56992",
   "metadata": {},
   "source": [
    "### Пример комбинации функция `zip()` с функциями `lambda` и `map()` "
   ]
  },
  {
   "cell_type": "code",
   "execution_count": 30,
   "id": "11915515",
   "metadata": {},
   "outputs": [
    {
     "name": "stdout",
     "output_type": "stream",
     "text": [
      "[1, 4, 9]\n"
     ]
    }
   ],
   "source": [
    "w = [1, 2, 3, 4]\n",
    "l = [1, 2, 3]\n",
    "\n",
    "square = list(map(lambda el: el[0] * el[1], zip(w, l)))\n",
    "print(square)"
   ]
  },
  {
   "cell_type": "markdown",
   "id": "23a9bc9b",
   "metadata": {},
   "source": [
    "* В данном пример мы объединяем два массива данных `w` и `l` при помощи функциии `zip()`\n",
    "* Далее при помощи функции `map()` и анонимной функции `lambda` в качестве форматирующей функции мы перемножаем элементы кортежей и объединяем результаты в новый массив данных и получаем список `square` "
   ]
  },
  {
   "cell_type": "markdown",
   "id": "63c018e8",
   "metadata": {},
   "source": [
    "### Функция `zip()` с циклом `for`"
   ]
  },
  {
   "cell_type": "code",
   "execution_count": 31,
   "id": "29675505",
   "metadata": {},
   "outputs": [
    {
     "name": "stdout",
     "output_type": "stream",
     "text": [
      "('Alex', 21)\n",
      "('Jinger', 34)\n",
      "('Sarra', 17)\n"
     ]
    }
   ],
   "source": [
    "name = ['Alex', 'Jinger', 'Sarra']\n",
    "work_id = [21, 34, 17]\n",
    "\n",
    "for el in zip(name, work_id):\n",
    "    print(el)"
   ]
  },
  {
   "cell_type": "markdown",
   "id": "9d3792ec",
   "metadata": {},
   "source": [
    "### Как сделать «unzip»"
   ]
  },
  {
   "cell_type": "code",
   "execution_count": 36,
   "id": "f37c1723",
   "metadata": {},
   "outputs": [
    {
     "name": "stdout",
     "output_type": "stream",
     "text": [
      "(1, 2, 3)\n",
      "(33, 44, 55)\n"
     ]
    }
   ],
   "source": [
    "zip_list = [(1, 33), (2, 44), (3, 55)]\n",
    "\n",
    "w, l = zip(*zip_list)\n",
    "\n",
    "print(w)\n",
    "print(l)"
   ]
  },
  {
   "cell_type": "code",
   "execution_count": null,
   "id": "b15f956b",
   "metadata": {},
   "outputs": [],
   "source": []
  }
 ],
 "metadata": {
  "kernelspec": {
   "display_name": "Python 3 (ipykernel)",
   "language": "python",
   "name": "python3"
  },
  "language_info": {
   "codemirror_mode": {
    "name": "ipython",
    "version": 3
   },
   "file_extension": ".py",
   "mimetype": "text/x-python",
   "name": "python",
   "nbconvert_exporter": "python",
   "pygments_lexer": "ipython3",
   "version": "3.10.9"
  }
 },
 "nbformat": 4,
 "nbformat_minor": 5
}
