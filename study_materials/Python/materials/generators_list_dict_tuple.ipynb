{
 "cells": [
  {
   "cell_type": "markdown",
   "id": "0049118f",
   "metadata": {},
   "source": [
    "*Последние изменения внесены: `26.03.2023`*"
   ]
  },
  {
   "cell_type": "markdown",
   "id": "7982e60f",
   "metadata": {},
   "source": [
    "[<<< Предыдущее меню.](/study_materials/Python/Python_study_materials.md)"
   ]
  },
  {
   "cell_type": "markdown",
   "id": "d4422c5e",
   "metadata": {},
   "source": [
    "# List comprehension (генерация списков)"
   ]
  },
  {
   "cell_type": "markdown",
   "id": "cabf401f",
   "metadata": {},
   "source": [
    "`List comprehension` (_\"Генератор списков\"_) - позволяет в одну строку кода заполнить список простыми или сложными значениями."
   ]
  },
  {
   "cell_type": "markdown",
   "id": "6e32093f",
   "metadata": {},
   "source": [
    "**Все генераторы списка строятся по следующему шаблону:**\n",
    "\n",
    "[ \"Выражение\"  **for**  \"Переменная\"  **in**  \"Коллекция\"  **if**  \"Условие\"  **and / or / not** \"Второе условие\"  ]\n",
    "\n",
    "    "
   ]
  },
  {
   "cell_type": "markdown",
   "id": "f0da362b",
   "metadata": {},
   "source": [
    "**1. Простые примеры:**"
   ]
  },
  {
   "cell_type": "code",
   "execution_count": 6,
   "id": "7d1afc52",
   "metadata": {},
   "outputs": [
    {
     "name": "stdout",
     "output_type": "stream",
     "text": [
      "[2, 2, 2, 2, 2, 2, 2]\n"
     ]
    }
   ],
   "source": [
    "my_list  = [ 2 for i in range(7)]\n",
    "print(my_list)"
   ]
  },
  {
   "cell_type": "code",
   "execution_count": 7,
   "id": "c1cbca94",
   "metadata": {},
   "outputs": [
    {
     "name": "stdout",
     "output_type": "stream",
     "text": [
      "[0, 1, 2, 3, 4, 5, 6]\n"
     ]
    }
   ],
   "source": [
    "my_list  = [ i for i in range(7)]\n",
    "print(my_list)"
   ]
  },
  {
   "cell_type": "code",
   "execution_count": 8,
   "id": "87ea70ad",
   "metadata": {},
   "outputs": [
    {
     "name": "stdout",
     "output_type": "stream",
     "text": [
      "[0, 1, 4, 9, 16, 25, 36]\n"
     ]
    }
   ],
   "source": [
    "my_list  = [ i ** 2 for i in range(7)]\n",
    "print(my_list)"
   ]
  },
  {
   "cell_type": "code",
   "execution_count": 9,
   "id": "b2a639dc",
   "metadata": {},
   "outputs": [
    {
     "name": "stdout",
     "output_type": "stream",
     "text": [
      "['a', 'b', 's']\n"
     ]
    }
   ],
   "source": [
    "my_list  = [ i for i in 'abc']\n",
    "print(my_list)"
   ]
  },
  {
   "cell_type": "code",
   "execution_count": 11,
   "id": "45c14916",
   "metadata": {},
   "outputs": [
    {
     "name": "stdout",
     "output_type": "stream",
     "text": [
      "['aaa', 'bbb', 'ccc']\n"
     ]
    }
   ],
   "source": [
    "my_list  = [ i * 3 for i in 'abc']\n",
    "print(my_list)"
   ]
  },
  {
   "cell_type": "code",
   "execution_count": 13,
   "id": "2b1f7ba2",
   "metadata": {},
   "outputs": [
    {
     "name": "stdout",
     "output_type": "stream",
     "text": [
      "[1, 2, 3, 4, 5]\n"
     ]
    }
   ],
   "source": [
    "my_list  = [ abs(i) for i in [1, 2, -3, -4, -5]]\n",
    "print(my_list)"
   ]
  },
  {
   "cell_type": "code",
   "execution_count": 14,
   "id": "8365eba0",
   "metadata": {},
   "outputs": [
    {
     "name": "stdout",
     "output_type": "stream",
     "text": [
      "[11, 22, 33, 44, 55]\n"
     ]
    }
   ],
   "source": [
    "string = '11 22 33 44 55'\n",
    "work_list = string.split()\n",
    "my_list  = [ int(i) for i in work_list]\n",
    "print(my_list)"
   ]
  },
  {
   "cell_type": "markdown",
   "id": "f2ce7bf8",
   "metadata": {},
   "source": [
    "**2. Примеры с логичесским условием:**"
   ]
  },
  {
   "cell_type": "code",
   "execution_count": 15,
   "id": "eed18344",
   "metadata": {},
   "outputs": [
    {
     "name": "stdout",
     "output_type": "stream",
     "text": [
      "[1, 2]\n"
     ]
    }
   ],
   "source": [
    "my_list  = [ i for i in [1, 2, -3, -4, -5] if i > 0]\n",
    "print(my_list)"
   ]
  },
  {
   "cell_type": "code",
   "execution_count": 30,
   "id": "ce8c2a90",
   "metadata": {},
   "outputs": [
    {
     "name": "stdout",
     "output_type": "stream",
     "text": [
      "[1]\n"
     ]
    }
   ],
   "source": [
    "my_list  = [ i for i in [1, 2, -3, -4, -5] if i > 0 and i < 2]\n",
    "print(my_list)"
   ]
  },
  {
   "cell_type": "code",
   "execution_count": null,
   "id": "1d31ed58",
   "metadata": {},
   "outputs": [],
   "source": []
  },
  {
   "cell_type": "markdown",
   "id": "decf52fc",
   "metadata": {},
   "source": [
    "**3. Пример с построением матрицы элементов:**"
   ]
  },
  {
   "cell_type": "code",
   "execution_count": 26,
   "id": "301f3127",
   "metadata": {},
   "outputs": [
    {
     "name": "stdout",
     "output_type": "stream",
     "text": [
      "[['x', 'x', 'x'], ['x', 'x', 'x'], ['x', 'x', 'x']]\n"
     ]
    }
   ],
   "source": [
    "a = 3\n",
    "b = 3\n",
    "square = [['x'] * a for i in range(b)]\n",
    "print(square)"
   ]
  },
  {
   "cell_type": "code",
   "execution_count": 27,
   "id": "3ad8ed22",
   "metadata": {},
   "outputs": [
    {
     "name": "stdout",
     "output_type": "stream",
     "text": [
      "['x', 'x', 'x']\n",
      "['x', 'x', 'x']\n",
      "['x', 'x', 'x']\n"
     ]
    }
   ],
   "source": [
    "a = 3\n",
    "b = 3\n",
    "square = [['x'] * a for i in range(b)]\n",
    "for line in square:\n",
    "    print(line)"
   ]
  },
  {
   "cell_type": "markdown",
   "id": "ba964df2",
   "metadata": {},
   "source": [
    "Изменение одного элемента:"
   ]
  },
  {
   "cell_type": "code",
   "execution_count": 29,
   "id": "4ac9c86f",
   "metadata": {},
   "outputs": [
    {
     "name": "stdout",
     "output_type": "stream",
     "text": [
      "['x', 'x', 'x']\n",
      "['x', 'O', 'x']\n",
      "['x', 'x', 'x']\n"
     ]
    }
   ],
   "source": [
    "a = 3\n",
    "b = 3\n",
    "square = [['x'] * a for i in range(b)]\n",
    "square[1][1] = 'O'\n",
    "for line in square:\n",
    "    print(line)"
   ]
  },
  {
   "cell_type": "markdown",
   "id": "e8b823f1",
   "metadata": {},
   "source": [
    "**4. Двойные циклы в генераторах списков:**"
   ]
  },
  {
   "cell_type": "code",
   "execution_count": 31,
   "id": "658dca82",
   "metadata": {},
   "outputs": [
    {
     "name": "stdout",
     "output_type": "stream",
     "text": [
      "[('a', 1), ('a', 2), ('a', 3), ('b', 1), ('b', 2), ('b', 3), ('c', 1), ('c', 2), ('c', 3)]\n"
     ]
    }
   ],
   "source": [
    "a = [(i, g) for i in 'abc' for g in [1, 2, 3]]\n",
    "print(a)"
   ]
  },
  {
   "cell_type": "markdown",
   "id": "2cd4a4b0",
   "metadata": {},
   "source": [
    "С логическим условием:"
   ]
  },
  {
   "cell_type": "code",
   "execution_count": 32,
   "id": "79600064",
   "metadata": {},
   "outputs": [
    {
     "name": "stdout",
     "output_type": "stream",
     "text": [
      "[6, 6, 9]\n"
     ]
    }
   ],
   "source": [
    "a = [i * g for i in [1, 2, 3] for g in [1, 2, 3] if i * g > 5]\n",
    "print(a)"
   ]
  },
  {
   "cell_type": "markdown",
   "id": "a191d943",
   "metadata": {},
   "source": [
    "# Dict comprehension (генерация словаря)"
   ]
  },
  {
   "cell_type": "markdown",
   "id": "5455abd4",
   "metadata": {},
   "source": [
    "* `Dict comprehension` - генерация словарей по своей сути ничем не отличается от генерации списка.\n",
    "* При генерации словаря необходимо указывать пару `ключ: значение`.\n",
    "* Выражение обрамляется в `{}` скобки"
   ]
  },
  {
   "cell_type": "code",
   "execution_count": 16,
   "id": "7506521c",
   "metadata": {
    "scrolled": true
   },
   "outputs": [
    {
     "name": "stdout",
     "output_type": "stream",
     "text": [
      "<class 'dict'>\n",
      "{'1': 11, '2': 12, '3': 13, '4': 14, '5': 15, '6': 16}\n"
     ]
    }
   ],
   "source": [
    "l  = [1, 2, 3, 4, 5, 6]\n",
    "\n",
    "new_dict = {str(x): x + 10 for x in l}\n",
    "\n",
    "print(type(new_dict))\n",
    "print(new_dict)"
   ]
  },
  {
   "cell_type": "markdown",
   "id": "8935849c",
   "metadata": {},
   "source": [
    "# Set comprehension (генерация множеств)"
   ]
  },
  {
   "cell_type": "code",
   "execution_count": 15,
   "id": "84b4e74e",
   "metadata": {},
   "outputs": [
    {
     "name": "stdout",
     "output_type": "stream",
     "text": [
      "<class 'set'>\n",
      "{256, 1, 46656, 4, 3125, 27}\n"
     ]
    }
   ],
   "source": [
    "l  = [1, 2, 3, 4, 5, 6]\n",
    "\n",
    "new_set = {x ** x for x in l}\n",
    "\n",
    "print(type(new_set))\n",
    "print(new_set)"
   ]
  },
  {
   "cell_type": "markdown",
   "id": "5a89c651",
   "metadata": {},
   "source": [
    "## _Оптимально использовать генераторы списков, словарей и множеств вместо функций `map()` и `filter` там где это возможно!!!_"
   ]
  },
  {
   "cell_type": "markdown",
   "id": "5de9b570",
   "metadata": {},
   "source": [
    "## ЗАДАЧИ."
   ]
  },
  {
   "cell_type": "markdown",
   "id": "5d9b650f",
   "metadata": {},
   "source": [
    "### Задача 1. МЕДАЛИСТЫ.\n",
    "* В переменной **students** содержится список учеников класса с их средними годовыми оценками.\n",
    "* Поместите в переменную **gold** имена золотых медалистов, а в **silver** — серебряных.\n",
    "* Золото получают ученики, которые имеют среднюю оценку 4.9 или 5.0, а серебро — ученики со средним баллом от 4.5 до 4.8 (включительно).\n",
    "* Используйте ёгенераторы списков.\n",
    "```python\n",
    "students = [\n",
    "    {\"name\": \"Светлана\", \"avg_ball\": 4.7},\n",
    "    {\"name\": \"София\", \"avg_ball\": 5.0},\n",
    "    {\"name\": \"Егор\", \"avg_ball\": 4.4},\n",
    "    {\"name\": \"Марина\", \"avg_ball\": 4.2},\n",
    "    {\"name\": \"Дима\", \"avg_ball\": 3.8},\n",
    "    {\"name\": \"Антон\", \"avg_ball\": 4.0},\n",
    "    {\"name\": \"Милана\", \"avg_ball\": 4.9},\n",
    "    {\"name\": \"Фёдор\", \"avg_ball\": 4.5},\n",
    "    {\"name\": \"Татьяна\", \"avg_ball\": 3.7}\n",
    "]\n",
    "\n",
    "gold = []\n",
    "silver = []\n",
    "```"
   ]
  },
  {
   "cell_type": "code",
   "execution_count": null,
   "id": "8884c3f0",
   "metadata": {},
   "outputs": [],
   "source": []
  },
  {
   "cell_type": "markdown",
   "id": "2441f35a",
   "metadata": {},
   "source": [
    "## РЕШЕНИЯ."
   ]
  },
  {
   "cell_type": "markdown",
   "id": "f3d28b69",
   "metadata": {},
   "source": [
    "### Задача 1. МЕДАЛИСТЫ - решение."
   ]
  },
  {
   "cell_type": "code",
   "execution_count": 1,
   "id": "b62e533f",
   "metadata": {},
   "outputs": [
    {
     "name": "stdout",
     "output_type": "stream",
     "text": [
      "['София', 'Милана']\n",
      "['Светлана', 'Фёдор']\n"
     ]
    }
   ],
   "source": [
    "students = [\n",
    "    {\"name\": \"Светлана\", \"avg_ball\": 4.7},\n",
    "    {\"name\": \"София\", \"avg_ball\": 5.0},\n",
    "    {\"name\": \"Егор\", \"avg_ball\": 4.4},\n",
    "    {\"name\": \"Марина\", \"avg_ball\": 4.2},\n",
    "    {\"name\": \"Дима\", \"avg_ball\": 3.8},\n",
    "    {\"name\": \"Антон\", \"avg_ball\": 4.0},\n",
    "    {\"name\": \"Милана\", \"avg_ball\": 4.9},\n",
    "    {\"name\": \"Фёдор\", \"avg_ball\": 4.5},\n",
    "    {\"name\": \"Татьяна\", \"avg_ball\": 3.7}\n",
    "]\n",
    "\n",
    "gold = [student[\"name\"] for student in students if student[\"avg_ball\"] in [4.9, 5.0]]\n",
    "silver = [student[\"name\"] for student in students if 4.5 <= student[\"avg_ball\"] <= 4.8]\n",
    "\n",
    "print(gold)\n",
    "print(silver)"
   ]
  },
  {
   "cell_type": "markdown",
   "id": "0371ff58",
   "metadata": {},
   "source": [
    "[<<< Предыдущее меню.](/study_materials/Python/Python_study_materials.md)"
   ]
  },
  {
   "cell_type": "code",
   "execution_count": null,
   "id": "4628252b",
   "metadata": {},
   "outputs": [],
   "source": []
  }
 ],
 "metadata": {
  "kernelspec": {
   "display_name": "Python 3 (ipykernel)",
   "language": "python",
   "name": "python3"
  },
  "language_info": {
   "codemirror_mode": {
    "name": "ipython",
    "version": 3
   },
   "file_extension": ".py",
   "mimetype": "text/x-python",
   "name": "python",
   "nbconvert_exporter": "python",
   "pygments_lexer": "ipython3",
   "version": "3.10.9"
  }
 },
 "nbformat": 4,
 "nbformat_minor": 5
}
