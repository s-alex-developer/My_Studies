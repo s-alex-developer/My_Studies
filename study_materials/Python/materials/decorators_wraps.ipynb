{
 "cells": [
  {
   "cell_type": "markdown",
   "id": "985746e4",
   "metadata": {},
   "source": [
    "*Последние изменения внесены: `04.04.2023`*"
   ]
  },
  {
   "cell_type": "markdown",
   "id": "d86c3e10",
   "metadata": {},
   "source": [
    "# Декораторы и декоратор `wraps`."
   ]
  },
  {
   "cell_type": "markdown",
   "id": "04565bdf",
   "metadata": {},
   "source": [
    "**Декораторы** - это \"обертки\" вокруг функций, которые позволяют изменить ее поведение или функционал не вмешиваясь в исходный код функции."
   ]
  },
  {
   "cell_type": "markdown",
   "id": "24b032fa",
   "metadata": {},
   "source": [
    "### \"Замыкание\" (closures).\n",
    "* Ключевой момент в работе функции декоратора лежит понятие `\"замыкание\"`.\n",
    "* `\"Замыкание\"` возникает когда вложенная функция ссылается на значение из локальной области видимости объемлющей функции.\n",
    "* Критерии, которые должны быть выполнены для создания замыкания в Python, изложены в следующих пунктах:\n",
    "    * У нас должна быть вложенная функция (функция внутри функции).\n",
    "    * Вложенная функция должна ссылаться на значение, определенное в объемлющей функции.\n",
    "    * Объемлющая функция должна возвращать вложенную функцию.\n",
    "* Ссылка на переменную объемлющей функции действительна, даже когда объемлющая функция закончила работу, и переменная вышла из области видимости или сама функция удаляется из текущего пространства имен.\n",
    "* `\"Замыкания\"` позволяют избежать использования глобальных (global) значений и обеспечивают некоторую форму сокрытия данных. Для этого также может использоваться объектно-ориентированный подход.\n",
    "* Если в классе необходимо реализовать небольшое количество методов (в большинстве случаев один метод), замыкания могут обеспечить альтернативное и более элегантное решение. Но когда количество атрибутов и методов становится больше, лучше реализовать класс.\n"
   ]
  },
  {
   "cell_type": "markdown",
   "id": "9eac4909",
   "metadata": {},
   "source": [
    "Расмотрим базовую конструкцию функции `декоратора` и принцип ее работы:"
   ]
  },
  {
   "cell_type": "code",
   "execution_count": 22,
   "id": "75c08794",
   "metadata": {},
   "outputs": [
    {
     "name": "stdout",
     "output_type": "stream",
     "text": [
      "Начало работы декоратора.\n",
      "Hello World!\n",
      "Окончание работы декоратора.\n"
     ]
    }
   ],
   "source": [
    "#Decorator - функция декоратор: \n",
    "def decorator(func):\n",
    "    \n",
    "    #Вложенная функция (\"функция-обертка\") inner(пер. \"внутренний\"):\n",
    "    #Общепринятая практика называть функцию-обертку wrapper(пер. \"обертка\").\n",
    "    def inner(): \n",
    "        \n",
    "        print('Начало работы декоратора.')\n",
    "        \n",
    "        #Вызов функции, к которой применен декоратор\n",
    "        func()\n",
    "        \n",
    "        print('Окончание работы декоратора.')\n",
    "        \n",
    "    #return возвращает имя вложенной функции inner вызывая \"замыкание\" работы функции на себя.\n",
    "    return inner\n",
    "\n",
    "@decorator  #декорируем функцию hello\n",
    "def hello ():\n",
    "    print('Hello World!')\n",
    "\n",
    "if __name__ == \"__main__\":\n",
    "    hello()"
   ]
  },
  {
   "cell_type": "markdown",
   "id": "0a06ea74",
   "metadata": {},
   "source": [
    "Порядок выполнения кода:\n",
    "* Строка 21. Точка входа в программу.\n",
    "* Строка 22. Вызываем работу функции `hello`.\n",
    "* Строка 17. Вызывает работу функции-декоратора `decotaror`.\n",
    "* Строка 2. Строка определния функции `decorator`\n",
    "* Строка 15. В результате работы функция `decorator` возвращает имя функции `inner`\n",
    "* Строка 5. Поскольку функция `hello` не содержит обязательных аргументов, то в функции `decorator` и `inner` передается в качестве аргумента ссылка в памяти на функцию `hello` и вызывается ее работа.\n",
    "* Строка 18. Выполняется код внутри функции `func` и мы получаем результат. "
   ]
  },
  {
   "cell_type": "markdown",
   "id": "3c31850c",
   "metadata": {},
   "source": [
    "**Важный момент!**\n",
    "Нужно понимать, что теперь при вызове функции `hello` в памяти сохранится ссылка на функцию-обертку `inner`:"
   ]
  },
  {
   "cell_type": "code",
   "execution_count": 24,
   "id": "d99a6c77",
   "metadata": {
    "scrolled": false
   },
   "outputs": [
    {
     "name": "stdout",
     "output_type": "stream",
     "text": [
      "<function decorator.<locals>.inner at 0x00000271DDEE5120>\n",
      "inner\n"
     ]
    }
   ],
   "source": [
    "print(hello)\n",
    "print(hello.__name__)"
   ]
  },
  {
   "cell_type": "markdown",
   "id": "ad1751cb",
   "metadata": {},
   "source": [
    "**Альтернативная запись декорирования функции:**"
   ]
  },
  {
   "cell_type": "code",
   "execution_count": 12,
   "id": "075a4b1a",
   "metadata": {
    "scrolled": true
   },
   "outputs": [
    {
     "name": "stdout",
     "output_type": "stream",
     "text": [
      "Начало работы декоратора.\n",
      "Hello World!\n",
      "Окончание работы декоратора.\n"
     ]
    }
   ],
   "source": [
    "def hello ():\n",
    "    print('Hello World!')\n",
    "\n",
    "if __name__ == \"__main__\":\n",
    "    \n",
    "    #Строка кода ниже является аналогом записи @decorator перед функцией: \n",
    "    result = decorator(hello)\n",
    "    \n",
    "    result()"
   ]
  },
  {
   "cell_type": "markdown",
   "id": "896dbf73",
   "metadata": {},
   "source": [
    "**Принцип использования нескольких `декораторов`**"
   ]
  },
  {
   "cell_type": "code",
   "execution_count": 30,
   "id": "5137ca78",
   "metadata": {},
   "outputs": [
    {
     "name": "stdout",
     "output_type": "stream",
     "text": [
      "<h1>\n",
      "<table>\n",
      "\tHello Alex\n",
      "</table>\n",
      "</h1>\n"
     ]
    }
   ],
   "source": [
    "def header(func):\n",
    "    def inner(*args, **kwargs):\n",
    "        print('<h1>')\n",
    "        func(*args, **kwargs)\n",
    "        print('</h1>')\n",
    "    return inner\n",
    "\n",
    "def table(func):\n",
    "    def inner(*args, **kwargs):\n",
    "        print('<table>')\n",
    "        func(*args, **kwargs)\n",
    "        print('</table>')\n",
    "    return inner\n",
    "\n",
    "@header\n",
    "@table\n",
    "def hello(name):\n",
    "    return print('\\tHello', name)\n",
    "\n",
    "if __name__ == '__main__':\n",
    "    hello('Alex')"
   ]
  },
  {
   "cell_type": "markdown",
   "id": "95b93205",
   "metadata": {},
   "source": [
    "**Еще один пример использования нескольких декораторов:**"
   ]
  },
  {
   "cell_type": "code",
   "execution_count": 70,
   "id": "b361970f",
   "metadata": {},
   "outputs": [
    {
     "name": "stdout",
     "output_type": "stream",
     "text": [
      "Функция inner через функцию декоратор summ приняла значения агрументов а = 5 и b = 10.\n",
      "Результат сложения а и b равен 15 и сохранен в переменной x для передачи в следующую функцию декоратор square.\n",
      "Результат работы функции suqre равне: 225\n"
     ]
    }
   ],
   "source": [
    "def summ(func):\n",
    "    def inner(*args, **kwargs):\n",
    "        \n",
    "        a, b = func(*args, **kwargs)\n",
    "        print(f'Функция inner через функцию декоратор summ приняла значения агрументов а = {a} и b = {b}.')\n",
    "        \n",
    "        x = a + b\n",
    "        print(f'Результат сложения а и b равен {x} и сохранен в переменной x для передачи в следующую функцию декоратор square.')\n",
    "        return x\n",
    "    return inner\n",
    "\n",
    "def square(func):\n",
    "    def inner(*args, **kwargs):\n",
    "        d = func(*args, **kwargs)\n",
    "        w = d * d\n",
    "        print(f'Результат работы функции suqre равне: {w}')\n",
    "    return inner\n",
    "\n",
    "@square\n",
    "@summ\n",
    "def elem(x, y):\n",
    "    return x, y\n",
    "\n",
    "if __name__ == '__main__':\n",
    "    elem(5, 10)"
   ]
  },
  {
   "cell_type": "markdown",
   "id": "2f558cd8",
   "metadata": {},
   "source": [
    "### Декоратор `wraps`"
   ]
  },
  {
   "cell_type": "markdown",
   "id": "2efa08de",
   "metadata": {},
   "source": [
    "* Декоратор `wraps` позволяет сохранить имя функции и ее документации, после применения к ней других декораторов.\n",
    "\n",
    "**Рассмотрим пример:**\n",
    "\n",
    "Создадим декоратор и функцию, но для начала проверим ее работу и атрибуты без применения декораторы:"
   ]
  },
  {
   "cell_type": "code",
   "execution_count": 12,
   "id": "6fbe2bb8",
   "metadata": {},
   "outputs": [
    {
     "name": "stdout",
     "output_type": "stream",
     "text": [
      "Hello Alex!\n",
      "Имя функции: hello\n",
      "Документация функции: \n",
      "    Функция привествует пользователя по имени!)\n",
      "    \n"
     ]
    }
   ],
   "source": [
    "def decorator(func):\n",
    "    def wrapper(*args, **kwargs):\n",
    "        pass\n",
    "    return wrapper\n",
    "\n",
    "def hello(name):\n",
    "    \"\"\"\n",
    "    Функция привествует пользователя по имени!)\n",
    "    \"\"\"\n",
    "    print('Hello', name, end='!\\n')\n",
    "\n",
    "if __name__ == '__main__':\n",
    "    hello('Alex')\n",
    "    \n",
    "    print('Имя функции:', hello.__name__, end='\\n')\n",
    "    print('Документация функции:', hello.__doc__)\n",
    "    "
   ]
  },
  {
   "cell_type": "markdown",
   "id": "e2977483",
   "metadata": {},
   "source": [
    "* Функция возвращает результат, сохраняя при этом свое имя и документацию.\n",
    "* Для более удобного и читаемого вывода документации лучше использовать функцию `help(имя_функции)`"
   ]
  },
  {
   "cell_type": "code",
   "execution_count": 13,
   "id": "c8270b35",
   "metadata": {
    "scrolled": true
   },
   "outputs": [
    {
     "name": "stdout",
     "output_type": "stream",
     "text": [
      "Help on function hello in module __main__:\n",
      "\n",
      "hello(name)\n",
      "    Функция привествует пользователя по имени!)\n",
      "\n"
     ]
    }
   ],
   "source": [
    "help(hello)"
   ]
  },
  {
   "cell_type": "markdown",
   "id": "1765012c",
   "metadata": {},
   "source": [
    "Задекорируем функцию `hello` И сравним результаты вызовов: "
   ]
  },
  {
   "cell_type": "code",
   "execution_count": 6,
   "id": "a56d2c8e",
   "metadata": {},
   "outputs": [
    {
     "name": "stdout",
     "output_type": "stream",
     "text": [
      "Hello Alex!\n",
      "Имя функции: wrapper\n",
      "Документация функции: None\n"
     ]
    }
   ],
   "source": [
    "def decorator(func):\n",
    "    def wrapper(*args, **kwargs):\n",
    "        func(*args, **kwargs)\n",
    "    return wrapper\n",
    "\n",
    "@decorator\n",
    "def hello(name):\n",
    "    \"\"\"\n",
    "    Функция привествует пользователя по имени!)\n",
    "    \"\"\"\n",
    "    print('Hello', name, end='!\\n')\n",
    "\n",
    "if __name__ == '__main__':\n",
    "\n",
    "    hello('Alex')\n",
    "    \n",
    "    print('Имя функции:', hello.__name__, end='\\n')\n",
    "    print('Документация функции:', hello.__doc__)\n",
    "    "
   ]
  },
  {
   "cell_type": "markdown",
   "id": "f5467562",
   "metadata": {},
   "source": [
    "* В результате мы получаем тот же рузультат работы функции, но мы потеряли оригинальное имя и документацию функции `hello`"
   ]
  },
  {
   "cell_type": "markdown",
   "id": "27297d81",
   "metadata": {},
   "source": [
    "Cохранить исходное имя и документацию функции `hello`, которую мы передаем в функцию-декоратор `decorator`, а затем  внутрь функции-обертки `wrapper` можно двумя способами:"
   ]
  },
  {
   "cell_type": "markdown",
   "id": "4c91e44f",
   "metadata": {},
   "source": [
    "**Способ 1.** \n",
    "\n",
    "Изменить напрямую атрибуты объекта (функции) `wrapper` присвоим им значения атрибутов объекта (функции) `hello`:"
   ]
  },
  {
   "cell_type": "code",
   "execution_count": 14,
   "id": "ec6da5aa",
   "metadata": {},
   "outputs": [
    {
     "name": "stdout",
     "output_type": "stream",
     "text": [
      "Hello Alex!\n",
      "Имя функции: hello\n",
      "Документация функции: \n",
      "    Функция привествует пользователя по имени!)\n",
      "    \n"
     ]
    }
   ],
   "source": [
    "def decorator(func):\n",
    "    def wrapper(*args, **kwargs):\n",
    "        func(*args, **kwargs)\n",
    "    \n",
    "    #Вне тела функции wrapper() меняем значения ее атрибутов:\n",
    "    wrapper.__name__ = func.__name__\n",
    "    wrapper.__doc__ = func.__doc__\n",
    "    \n",
    "    return wrapper\n",
    "\n",
    "@decorator\n",
    "def hello(name):\n",
    "    \"\"\"\n",
    "    Функция привествует пользователя по имени!)\n",
    "    \"\"\"\n",
    "    print('Hello', name, end='!\\n')\n",
    "\n",
    "if __name__ == '__main__':\n",
    "\n",
    "    hello('Alex')\n",
    "    \n",
    "    print('Имя функции:', hello.__name__, end='\\n')\n",
    "    print('Документация функции:', hello.__doc__)"
   ]
  },
  {
   "cell_type": "markdown",
   "id": "6876d4c0",
   "metadata": {},
   "source": [
    "**Способ 2.**\n",
    "\n",
    "Более удобный, воспользуемся декоратором `wraps`"
   ]
  },
  {
   "cell_type": "code",
   "execution_count": 18,
   "id": "6f9fb7fa",
   "metadata": {},
   "outputs": [
    {
     "name": "stdout",
     "output_type": "stream",
     "text": [
      "Hello Alex!\n",
      "Имя функции: hello\n",
      "Документация функции: \n",
      "    Функция привествует пользователя по имени!)\n",
      "    \n"
     ]
    }
   ],
   "source": [
    "from functools import wraps\n",
    "\n",
    "def decorator(func):\n",
    "    \n",
    "    #Используем декоратор и передает в качетве аргумента функцию, в данном примере это будет `hello`\n",
    "    @wraps(func)\n",
    "    def wrapper(*args, **kwargs):\n",
    "        func(*args, **kwargs)\n",
    "        \n",
    "    return wrapper\n",
    "\n",
    "@decorator\n",
    "def hello(name):\n",
    "    \"\"\"\n",
    "    Функция привествует пользователя по имени!)\n",
    "    \"\"\"\n",
    "    print('Hello', name, end='!\\n')\n",
    "\n",
    "if __name__ == '__main__':\n",
    "\n",
    "    hello('Alex')\n",
    "    \n",
    "    print('Имя функции:', hello.__name__, end='\\n')\n",
    "    print('Документация функции:', hello.__doc__)"
   ]
  },
  {
   "cell_type": "code",
   "execution_count": null,
   "id": "01504e23",
   "metadata": {},
   "outputs": [],
   "source": []
  }
 ],
 "metadata": {
  "kernelspec": {
   "display_name": "Python 3 (ipykernel)",
   "language": "python",
   "name": "python3"
  },
  "language_info": {
   "codemirror_mode": {
    "name": "ipython",
    "version": 3
   },
   "file_extension": ".py",
   "mimetype": "text/x-python",
   "name": "python",
   "nbconvert_exporter": "python",
   "pygments_lexer": "ipython3",
   "version": "3.10.9"
  }
 },
 "nbformat": 4,
 "nbformat_minor": 5
}
