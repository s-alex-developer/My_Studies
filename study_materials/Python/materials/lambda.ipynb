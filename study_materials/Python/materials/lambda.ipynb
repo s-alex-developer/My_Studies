{
 "cells": [
  {
   "cell_type": "markdown",
   "id": "21729db9",
   "metadata": {},
   "source": [
    "_Последние изменения внесены: 21.03.2023_"
   ]
  },
  {
   "cell_type": "markdown",
   "id": "fbcac026",
   "metadata": {},
   "source": [
    "[<<< Предыдущее меню.](/study_materials/Python/Python_study_materials.md)"
   ]
  },
  {
   "cell_type": "markdown",
   "id": "53678c8c",
   "metadata": {},
   "source": [
    "# `Lambda` функция Python. (\"lambda выражение\", \"анонимная функция\")"
   ]
  },
  {
   "cell_type": "markdown",
   "id": "87c3a66f",
   "metadata": {},
   "source": [
    "* Ключевое слово `lambda` определяет функцию без имени или **\"анонимную функцию\".**\n",
    "* `lambda` - **оптимально применять** когда нам необходимо написать функцию выполняющую **одно действие в одну строчку.**\n",
    "* `lambda` - может заменить только те функции, которые содержут **return** и не может заменить функции, которые **ничего не возвращают.**\n",
    "* При помощи `lambda` нельзя реализовать функции, в которых **содержаться циклы.**\n",
    "* Внутри `lambda` выражения возможно использовать самую простую конструкцию логичесского условия **if**... **else** ..."
   ]
  },
  {
   "cell_type": "markdown",
   "id": "cdee6d70",
   "metadata": {},
   "source": [
    "### 1. Базовый синтаксис:"
   ]
  },
  {
   "cell_type": "markdown",
   "id": "fe932096",
   "metadata": {},
   "source": [
    "**lambda** _аргумент 1 , аргумент 2 , ..._  **:**  _выражение_"
   ]
  },
  {
   "cell_type": "markdown",
   "id": "3a6ea50d",
   "metadata": {},
   "source": [
    "Рассмотрим пример и сравним классическую конструкцию построения функции и `labmda`-функции:"
   ]
  },
  {
   "cell_type": "code",
   "execution_count": 3,
   "id": "a8b5ad3c",
   "metadata": {},
   "outputs": [
    {
     "name": "stdout",
     "output_type": "stream",
     "text": [
      "4\n"
     ]
    }
   ],
   "source": [
    "# Функция возведения в квадрат:\n",
    "def square(arg):\n",
    "    return arg ** 2\n",
    "\n",
    "print(square(2))"
   ]
  },
  {
   "cell_type": "code",
   "execution_count": 5,
   "id": "7534949d",
   "metadata": {},
   "outputs": [
    {
     "name": "stdout",
     "output_type": "stream",
     "text": [
      "4\n"
     ]
    }
   ],
   "source": [
    "# Та же функция через lambda:\n",
    "x = lambda a: a ** 2\n",
    "print(x(2))"
   ]
  },
  {
   "cell_type": "markdown",
   "id": "1a72d8a2",
   "metadata": {},
   "source": [
    "### 2. Логические выражения в `lambda` функции :"
   ]
  },
  {
   "cell_type": "markdown",
   "id": "7f6653eb",
   "metadata": {},
   "source": [
    "Рассмотрим пример и сравним классическую конструкцию построения функции и `labmda`-функции с применением логических операторов:"
   ]
  },
  {
   "cell_type": "code",
   "execution_count": 9,
   "id": "f6fcb8a2",
   "metadata": {},
   "outputs": [
    {
     "name": "stdout",
     "output_type": "stream",
     "text": [
      "positive\n"
     ]
    }
   ],
   "source": [
    " def temperature(arg):\n",
    "    if arg > 0:\n",
    "        print('positive')\n",
    "    else:\n",
    "        print('negative')\n",
    "\n",
    "temperature(15)"
   ]
  },
  {
   "cell_type": "markdown",
   "id": "35d327b5",
   "metadata": {},
   "source": [
    "Реализуем ту же функцию в виде `lambda` выражения:"
   ]
  },
  {
   "cell_type": "code",
   "execution_count": 10,
   "id": "eba11c28",
   "metadata": {},
   "outputs": [
    {
     "name": "stdout",
     "output_type": "stream",
     "text": [
      "positive\n"
     ]
    }
   ],
   "source": [
    "temp = lambda x: 'positive' if x > 0 else 'neagtive'\n",
    "print(temp(15))"
   ]
  },
  {
   "cell_type": "code",
   "execution_count": 11,
   "id": "bd473370",
   "metadata": {},
   "outputs": [
    {
     "name": "stdout",
     "output_type": "stream",
     "text": [
      "neagtive\n"
     ]
    }
   ],
   "source": [
    "temp = lambda x: 'positive' if x > 0 else 'neagtive'\n",
    "print(temp(-7))"
   ]
  },
  {
   "cell_type": "markdown",
   "id": "f183c437",
   "metadata": {},
   "source": [
    "### 3.`lambda` функции и метод `.sort()`:"
   ]
  },
  {
   "cell_type": "markdown",
   "id": "3fcda3a2",
   "metadata": {},
   "source": [
    "* Метод `.sort(key=function)` - может принимать функцию в качетсве значения именованного аргумента **key**"
   ]
  },
  {
   "cell_type": "markdown",
   "id": "06b47aa3",
   "metadata": {},
   "source": [
    "**Пример сортировки по последней цифре:**"
   ]
  },
  {
   "cell_type": "code",
   "execution_count": 11,
   "id": "a85db22d",
   "metadata": {},
   "outputs": [
    {
     "name": "stdout",
     "output_type": "stream",
     "text": [
      "[10, 4, 25, 2345, 86, 999]\n"
     ]
    }
   ],
   "source": [
    "my_list = [10, 25, 4, 86, 999, 2345]\n",
    "my_list.sort(key=lambda x: x % 10)\n",
    "print(my_list)"
   ]
  },
  {
   "cell_type": "markdown",
   "id": "1d72e641",
   "metadata": {},
   "source": [
    "* В данном примере `lambda` функция возвращает остаток от деления на 10 по каждому числу списка.\n",
    "* Остаток от деления будет являться последней цифрой числа.\n",
    "* Результат работы `lambda` функции по каждому элементу списка поочередно присваивается ключу **key** и по этому значению происходит сортировка нашего списка методом `.sort()`."
   ]
  },
  {
   "cell_type": "markdown",
   "id": "90b64c3e",
   "metadata": {},
   "source": [
    "**Пример сортировки по предпоследней цифре:**"
   ]
  },
  {
   "cell_type": "code",
   "execution_count": 9,
   "id": "d59929a8",
   "metadata": {},
   "outputs": [
    {
     "name": "stdout",
     "output_type": "stream",
     "text": [
      "[4, 10, 25, 2345, 86, 999]\n"
     ]
    }
   ],
   "source": [
    "my_list = [10, 25, 4, 86, 999, 2345]\n",
    "my_list.sort(key=lambda x: x // 10 % 10)\n",
    "print(my_list)"
   ]
  },
  {
   "cell_type": "markdown",
   "id": "6246659e",
   "metadata": {},
   "source": [
    "* В данном примере `lambda` функция сначала отбрасывает последнюю цифру при помощи целочисленного деления на 10.\n",
    "* Затем находит остаток от деления полученного результата, который будет являться второй цифрой каждого числа списка.\n",
    "* Результат работы `lambda` функции по каждому элементу списка поочередно присваивается ключу **key** и по этому значению происходит сортировка нашего списка методом `.sort()`."
   ]
  },
  {
   "cell_type": "markdown",
   "id": "5e84501c",
   "metadata": {},
   "source": [
    "**Пример c функцией возвращающей `lambda` выражение:**"
   ]
  },
  {
   "cell_type": "code",
   "execution_count": 16,
   "id": "bb4ffdbf",
   "metadata": {},
   "outputs": [
    {
     "name": "stdout",
     "output_type": "stream",
     "text": [
      "50\n"
     ]
    }
   ],
   "source": [
    "def func(a, b):\n",
    "    return lambda w: (a + b) * w\n",
    "\n",
    "#Сохранеяем результат работы функции func в переменной result\n",
    "result = func(2, 3) #Теперь переменная result содержит lambda выражение и мы можем передавать туда значения аргумента w\n",
    "\n",
    "#Передадим значение аргумента в result и выведем результат:\n",
    "print(result(10)) "
   ]
  },
  {
   "cell_type": "markdown",
   "id": "06be7d9b",
   "metadata": {},
   "source": [
    "### 4. Сортировка по ключам словаря:"
   ]
  },
  {
   "cell_type": "markdown",
   "id": "d01c565c",
   "metadata": {},
   "source": [
    "[<<< Предыдущее меню.](/study_materials/Python/Python_study_materials.md)"
   ]
  },
  {
   "cell_type": "code",
   "execution_count": null,
   "id": "f9f0ab3c",
   "metadata": {},
   "outputs": [],
   "source": []
  }
 ],
 "metadata": {
  "kernelspec": {
   "display_name": "Python 3 (ipykernel)",
   "language": "python",
   "name": "python3"
  },
  "language_info": {
   "codemirror_mode": {
    "name": "ipython",
    "version": 3
   },
   "file_extension": ".py",
   "mimetype": "text/x-python",
   "name": "python",
   "nbconvert_exporter": "python",
   "pygments_lexer": "ipython3",
   "version": "3.10.9"
  }
 },
 "nbformat": 4,
 "nbformat_minor": 5
}
