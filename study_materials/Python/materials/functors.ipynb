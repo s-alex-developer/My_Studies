{
 "cells": [
  {
   "cell_type": "markdown",
   "id": "0f467d80",
   "metadata": {},
   "source": [
    "*Последние изменения внесены: `04.04.2023`*"
   ]
  },
  {
   "cell_type": "markdown",
   "id": "d749f871",
   "metadata": {},
   "source": [
    "[<<< Предыдущее меню.](/study_materials/Python/Python_study_materials.md)"
   ]
  },
  {
   "cell_type": "markdown",
   "id": "24cf4bee",
   "metadata": {},
   "source": [
    "# Функтор. (Функциональный объект)."
   ]
  },
  {
   "cell_type": "markdown",
   "id": "402f20f8",
   "metadata": {},
   "source": [
    "> **Функтор** - это конструкция, которая позволяет использовать объект класса как функцию.\n",
    "    "
   ]
  },
  {
   "cell_type": "markdown",
   "id": "5546ec33",
   "metadata": {},
   "source": [
    "Рассмотрим пример:"
   ]
  },
  {
   "cell_type": "code",
   "execution_count": 6,
   "id": "33a16f97",
   "metadata": {},
   "outputs": [
    {
     "name": "stdout",
     "output_type": "stream",
     "text": [
      "4\n",
      "125\n"
     ]
    }
   ],
   "source": [
    "class Functors:\n",
    "    \n",
    "    def __init__(self, degree):\n",
    "        self.degree = degree\n",
    "    \n",
    "    def __call__(self, number):\n",
    "        return number ** self.degree\n",
    "\n",
    "if __name__ == '__main__':\n",
    "    \n",
    "    square = Functors(2)\n",
    "    result_1 = square(2)\n",
    "    \n",
    "    cube = Functors(3)\n",
    "    result_2 = cube(5)\n",
    "    \n",
    "    print(result_1)\n",
    "    print(result_2)\n",
    "    \n",
    "    "
   ]
  },
  {
   "cell_type": "markdown",
   "id": "a4cef5d0",
   "metadata": {},
   "source": [
    "* В данном примере мы создаем два объекта класса `Functors`\n",
    "* `square` используем для возведения передаваемого в него числа (аргумента) в квадрат.\n",
    "* `cube` используем для возведения передаваемого в него числа (аргумента) в куб.\n",
    "* Мы создали два объекта класса способные принимать аргументы и вызываться как функции, за эту возможность в нашем классе отвечает метод `__call__`."
   ]
  },
  {
   "cell_type": "markdown",
   "id": "6d43e878",
   "metadata": {},
   "source": [
    "[<<< Предыдущее меню.](/study_materials/Python/Python_study_materials.md)"
   ]
  },
  {
   "cell_type": "code",
   "execution_count": null,
   "id": "06ec9c0c",
   "metadata": {},
   "outputs": [],
   "source": []
  }
 ],
 "metadata": {
  "kernelspec": {
   "display_name": "Python 3 (ipykernel)",
   "language": "python",
   "name": "python3"
  },
  "language_info": {
   "codemirror_mode": {
    "name": "ipython",
    "version": 3
   },
   "file_extension": ".py",
   "mimetype": "text/x-python",
   "name": "python",
   "nbconvert_exporter": "python",
   "pygments_lexer": "ipython3",
   "version": "3.10.9"
  }
 },
 "nbformat": 4,
 "nbformat_minor": 5
}
