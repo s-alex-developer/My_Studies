{
 "cells": [
  {
   "cell_type": "markdown",
   "id": "05ee1599",
   "metadata": {},
   "source": [
    "*Последние изменения внесены: `29.03.2023`*"
   ]
  },
  {
   "cell_type": "markdown",
   "id": "340ed130",
   "metadata": {},
   "source": [
    "# Функция reduce()"
   ]
  },
  {
   "cell_type": "markdown",
   "id": "41a63e59",
   "metadata": {},
   "source": [
    "**Функция reduce()**\n",
    "* Как можно понять из названия, применяет переданную функцию к итерируемому объекту и возвращает одно значение.\n",
    "* Данная функция используется для организации цепочных вычислений.\n",
    "* Начиная с **Python 3** функция `reduce()` перенесена в модуль `functools`, чтобы ей воспользоваться необходимо произвести импорт: \n",
    "```python\n",
    "from functools import reduce\n",
    "```"
   ]
  },
  {
   "cell_type": "markdown",
   "id": "744a7817",
   "metadata": {},
   "source": [
    "**Синтаксис:**\n",
    "```python\n",
    "from functools import reduce\n",
    "\n",
    "reduce(function, iterable[, initializer])\n",
    "```\n",
    "**Параметры:**\n",
    "* `function` - пользовательская функция, принимающая 2 аргумента,\n",
    "* `iterable` - итерируемая последовательность,\n",
    "* `initializer` - начальное значение.\n",
    "\n",
    "**Возвращаемое значение:**\n",
    "* требуемое единственное значение."
   ]
  },
  {
   "cell_type": "markdown",
   "id": "4fe7ccf0",
   "metadata": {},
   "source": [
    "### Пример:\n",
    "Рассмотрим пример использования функции `reduce` для вычисления факториала числа:\n",
    "\n",
    "_**Факториал числа n** — это произведение всех натуральных чисел от 1 до **n** включительно. Обозначается переменной **n!**_"
   ]
  },
  {
   "cell_type": "code",
   "execution_count": 10,
   "id": "64f603b1",
   "metadata": {},
   "outputs": [
    {
     "name": "stdout",
     "output_type": "stream",
     "text": [
      "120\n"
     ]
    }
   ],
   "source": [
    "from functools import reduce\n",
    "\n",
    "# Вычислим факториал 5:\n",
    "l = range(1, 6)\n",
    "\n",
    "def mult(x, y):\n",
    "    return x * y\n",
    "\n",
    "factorial = reduce(mult, l)\n",
    "\n",
    "print(factorial)"
   ]
  },
  {
   "cell_type": "markdown",
   "id": "798e326f",
   "metadata": {},
   "source": [
    "### Пример:\n",
    "Рассмотрим пример совместного использования функции `reduce()` с функцией `map()`:"
   ]
  },
  {
   "cell_type": "code",
   "execution_count": 23,
   "id": "f9b16f01",
   "metadata": {},
   "outputs": [
    {
     "name": "stdout",
     "output_type": "stream",
     "text": [
      "[{'name': 'Hulk', 'hero power': 100}, {'name': 'Spider Man', 'hero power': 135}, {'name': 'Aqua Man', 'hero power': 125}]\n"
     ]
    }
   ],
   "source": [
    "super_heroes = [\n",
    "    {'name': 'Hulk', 'power': 90, 'agility': 10},\n",
    "    {'name': 'Spider Man', 'power': 45, 'agility': 90},\n",
    "    {'name': 'Aqua Man', 'power': 65, 'agility': 60}\n",
    "]\n",
    "\n",
    "# Найдем абсолютную силу каждго героя сложив показатели power и agility используя возможности функции map(): \n",
    "new_heroes = []\n",
    "\n",
    "def sum_power(hero):\n",
    "    return {'name': hero['name'], 'hero power': hero['power'] + hero['agility']} \n",
    "\n",
    "heroes_pow = list(map(sum_power, super_heroes))\n",
    "\n",
    "print(heroes_pow)\n"
   ]
  },
  {
   "cell_type": "markdown",
   "id": "eca60921",
   "metadata": {},
   "source": [
    "К полученному результату применим функцию `reduce()` и определим самого сильного героя:"
   ]
  },
  {
   "cell_type": "code",
   "execution_count": 24,
   "id": "be5e518b",
   "metadata": {},
   "outputs": [
    {
     "name": "stdout",
     "output_type": "stream",
     "text": [
      "{'name': 'Aqua Man', 'hero power': 125}\n"
     ]
    }
   ],
   "source": [
    "def abs_hero(hero1, hero2):\n",
    "    if hero1['hero power'] >  hero1['hero power']:\n",
    "        return hero1\n",
    "    return  hero2\n",
    "\n",
    "top_hero = reduce(abs_hero, heroes_pow)\n",
    "print(top_hero)"
   ]
  },
  {
   "cell_type": "code",
   "execution_count": 27,
   "id": "4cdf4289",
   "metadata": {},
   "outputs": [
    {
     "name": "stdout",
     "output_type": "stream",
     "text": [
      "{'name': 'Aqua Man', 'hero power': 125}\n"
     ]
    }
   ],
   "source": [
    "# Можно записать более компактно:\n",
    "top_hero = reduce(abs_hero, map(sum_power, super_heroes))\n",
    "print(top_hero)"
   ]
  },
  {
   "cell_type": "markdown",
   "id": "db6eddc7",
   "metadata": {},
   "source": [
    "## ЗАДАЧИ."
   ]
  },
  {
   "cell_type": "markdown",
   "id": "884d7bde",
   "metadata": {},
   "source": [
    "### Задача 1. СКЛЕЙКА.\n",
    "* Склейте элементы списка **whoami** в строку с помощью функции `reduce`.\n",
    "\n",
    "```python\n",
    "from functools import reduce\n",
    "\n",
    "whoami = ['Я', ' ', 'п', 'р', 'о', 'г', 'р', 'а', 'м', 'м', 'и', 'с', 'т']\n",
    "\n",
    "whoami = reduce()\n",
    "```"
   ]
  },
  {
   "cell_type": "markdown",
   "id": "6a3277e6",
   "metadata": {},
   "source": [
    "### Задача 2. ПЛОЩАДЬ КВАРТИРЫ.\n",
    "* Используйте `map` и `reduce`, чтобы посчитать площадь квартиры, состоящей из комнат rooms.\n",
    "```pytho\n",
    "from functools import reduce\n",
    "\n",
    "rooms = [\n",
    "    {\"name\": \"кухня\", \"length\": 6, \"width\": 4},\n",
    "    {\"name\": \"комната 1\", \"length\": 5.5, \"width\": 4.5},\n",
    "    {\"name\": \"комната 2\", \"length\": 5, \"width\": 4},\n",
    "    {\"name\": \"комната 3\", \"length\": 7, \"width\": 6.3},\n",
    "]\n",
    "\n",
    "rooms = map()\n",
    "square = reduce()\n",
    "```"
   ]
  },
  {
   "cell_type": "markdown",
   "id": "81d2da35",
   "metadata": {},
   "source": [
    "### Задача 3. ФУНКЦИОНАЛЬНЫЙ ПОИСК МАКСИМУМОВ."
   ]
  },
  {
   "cell_type": "markdown",
   "id": "c8992cbf",
   "metadata": {},
   "source": [
    "* Иногда в систему поступает много данных и нужно фиксировать только те, которые выросли в значении. \n",
    "* Например, если в программу пришли числа 34, 56, 12, 55, 74, 58. То нужно оставить только 34, 56, и 74. То есть мы каждый раз оставляем только максимальное число относительно всех предыдущий значений.\n",
    "* Напишите программу, которая получает из аргументов командной строки произвольное количество чисел, а затем выводит только максимумы. Выводимые числа нужно разделить запятой с пробелом.\n",
    "* Используйте для расчета функцию `reduce`. Учитывайте, что `reduce` в качестве параметров может принимать не только числа или строки, но и списки, кортежи и словари. А также более сложные типы данных.\n",
    "* Для упрощения кода можете использовать третий аргумент reduсe - `initializer`\n",
    "\n",
    "*Пример использования в командной строке:*\n",
    "> python trend.py 34 56 12 55 74 58 59 74 75\n",
    "\n",
    "*Результат:* **34, 56, 74, 75**"
   ]
  },
  {
   "cell_type": "markdown",
   "id": "a7941aeb",
   "metadata": {},
   "source": [
    "## РЕШЕНИЯ."
   ]
  },
  {
   "cell_type": "markdown",
   "id": "baae1939",
   "metadata": {},
   "source": [
    "### Задача 1. СКЛЕЙКА - решение."
   ]
  },
  {
   "cell_type": "code",
   "execution_count": 1,
   "id": "4f78e8f7",
   "metadata": {
    "scrolled": true
   },
   "outputs": [
    {
     "name": "stdout",
     "output_type": "stream",
     "text": [
      "Я программист\n"
     ]
    }
   ],
   "source": [
    "from functools import reduce\n",
    "\n",
    "def concat(x, y):\n",
    "    el = x + y\n",
    "    return el\n",
    "\n",
    "whoami = ['Я', ' ', 'п', 'р', 'о', 'г', 'р', 'а', 'м', 'м', 'и', 'с', 'т']\n",
    "\n",
    "whoami = reduce(concat, whoami)\n",
    "\n",
    "print(whoami)"
   ]
  },
  {
   "cell_type": "markdown",
   "id": "46c5aacc",
   "metadata": {},
   "source": [
    "### Задача 2. ПЛОЩАДЬ КВАРТИРЫ - решение."
   ]
  },
  {
   "cell_type": "code",
   "execution_count": 2,
   "id": "5d9fd44f",
   "metadata": {},
   "outputs": [
    {
     "name": "stdout",
     "output_type": "stream",
     "text": [
      "112.85\n"
     ]
    }
   ],
   "source": [
    "from functools import reduce\n",
    "\n",
    "def square(room):\n",
    "    s = room[\"length\"] * room[\"width\"]\n",
    "    return s\n",
    "\n",
    "def summ(a, b):\n",
    "    s = a + b\n",
    "    return s\n",
    "\n",
    "rooms = [\n",
    "    {\"name\": \"кухня\", \"length\": 6, \"width\": 4},\n",
    "    {\"name\": \"комната 1\", \"length\": 5.5, \"width\": 4.5},\n",
    "    {\"name\": \"комната 2\", \"length\": 5, \"width\": 4},\n",
    "    {\"name\": \"комната 3\", \"length\": 7, \"width\": 6.3},\n",
    "]\n",
    "\n",
    "rooms = map(square, rooms)\n",
    "square = reduce(summ, rooms)\n",
    "\n",
    "print(square)"
   ]
  },
  {
   "cell_type": "markdown",
   "id": "a39843bb",
   "metadata": {},
   "source": [
    "### Задача 3. ФУНКЦИОНАЛЬНЫЙ ПОИСК МАКСИМУМОВ - решение."
   ]
  },
  {
   "cell_type": "code",
   "execution_count": 3,
   "id": "fd6128a3",
   "metadata": {},
   "outputs": [
    {
     "name": "stdout",
     "output_type": "stream",
     "text": [
      "34, 56, 74, 75\n"
     ]
    }
   ],
   "source": [
    "from functools import reduce\n",
    "\n",
    "# import sys\n",
    "# work_list = [int(n) for n in sys.argv[1:]]\n",
    "\n",
    "work_list = '34 56 12 55 74 58 59 74 75'.split()\n",
    "\n",
    "def gt(a, b):\n",
    "    if max(a) < b:\n",
    "        a.add(b)\n",
    "        return a\n",
    "    else:\n",
    "        return a\n",
    "\n",
    "result = sorted(list(reduce(gt, work_list, {work_list[0]})))\n",
    "\n",
    "print(*result, sep=', ')"
   ]
  },
  {
   "cell_type": "code",
   "execution_count": null,
   "id": "b23c4442",
   "metadata": {},
   "outputs": [],
   "source": []
  }
 ],
 "metadata": {
  "kernelspec": {
   "display_name": "Python 3 (ipykernel)",
   "language": "python",
   "name": "python3"
  },
  "language_info": {
   "codemirror_mode": {
    "name": "ipython",
    "version": 3
   },
   "file_extension": ".py",
   "mimetype": "text/x-python",
   "name": "python",
   "nbconvert_exporter": "python",
   "pygments_lexer": "ipython3",
   "version": "3.10.9"
  }
 },
 "nbformat": 4,
 "nbformat_minor": 5
}
