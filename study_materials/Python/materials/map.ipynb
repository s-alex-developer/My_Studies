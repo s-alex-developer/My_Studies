{
 "cells": [
  {
   "cell_type": "markdown",
   "id": "3fab5bbe",
   "metadata": {},
   "source": [
    "*Последние изменения внесены: `25.03.2023`*"
   ]
  },
  {
   "cell_type": "markdown",
   "id": "99fb626e",
   "metadata": {},
   "source": [
    "# Функция `map` (преобразование данных)."
   ]
  },
  {
   "cell_type": "markdown",
   "id": "30cb86e6",
   "metadata": {},
   "source": [
    "**Функция map()**\n",
    "* Это встроенная функция в **Python**, которая позволяет обрабатывать и преобразовывать все элементы в итерируемом объекте без использования явного цикла for, методом, широко известным как сопоставление **(mapping)**.\n",
    "* `map()` полезен, когда вам нужно применить функцию преобразования к каждому элементу в коллекции или в массиве и преобразовать их в новый массив.\n",
    "* `map()` — один из инструментов, поддерживающих стиль функционального программирования в Python."
   ]
  },
  {
   "cell_type": "markdown",
   "id": "ebd58395",
   "metadata": {},
   "source": [
    "Рассмотри преобразование данных списка **work_list** с использованием разных парадигм программирования:"
   ]
  },
  {
   "cell_type": "code",
   "execution_count": 1,
   "id": "1305f393",
   "metadata": {},
   "outputs": [
    {
     "name": "stdout",
     "output_type": "stream",
     "text": [
      "[1, 4, 9, 16, 25]\n"
     ]
    }
   ],
   "source": [
    "# Возведем все числа списка используя структурный подход программирования:\n",
    "work_list = [1, 2, 3, 4, 5]\n",
    "\n",
    "new_list = []\n",
    "\n",
    "for n in work_list:\n",
    "    new_list.append(n ** 2)\n",
    "    \n",
    "print(new_list)"
   ]
  },
  {
   "cell_type": "code",
   "execution_count": 3,
   "id": "da2a6337",
   "metadata": {},
   "outputs": [
    {
     "name": "stdout",
     "output_type": "stream",
     "text": [
      "[1, 4, 9, 16, 25]\n"
     ]
    }
   ],
   "source": [
    "# Возведем все числа списка используя структурный подход программирования и применение функции (подпрограммы):\n",
    "work_list = [1, 2, 3, 4, 5]\n",
    "\n",
    "def square(n):\n",
    "    return n ** 2\n",
    "\n",
    "new_list = []\n",
    "\n",
    "for n in work_list:\n",
    "    new_list.append(square(n))\n",
    "    \n",
    "print(new_list)"
   ]
  },
  {
   "cell_type": "code",
   "execution_count": 5,
   "id": "627fc0cd",
   "metadata": {},
   "outputs": [
    {
     "name": "stdout",
     "output_type": "stream",
     "text": [
      "<map object at 0x000001AFFC3A2B30>\n",
      "[1, 4, 9, 16, 25]\n"
     ]
    }
   ],
   "source": [
    "# Возведем все числа списка используя функциональный подход программирования и применение функции map():\n",
    "work_list = [1, 2, 3, 4, 5]\n",
    "\n",
    "def square(n):\n",
    "    return n ** 2\n",
    "\n",
    "new_list = map(square, work_list)\n",
    "\n",
    "print(new_list)\n",
    "print(list(new_list))"
   ]
  },
  {
   "cell_type": "markdown",
   "id": "8027d0d9",
   "metadata": {},
   "source": [
    "Еще один пример преобразования данных при помощи функции `map()`:"
   ]
  },
  {
   "cell_type": "code",
   "execution_count": 7,
   "id": "c4c958e7",
   "metadata": {},
   "outputs": [
    {
     "name": "stdout",
     "output_type": "stream",
     "text": [
      "['1', '2', '3', '4', '5']\n"
     ]
    }
   ],
   "source": [
    "work_list = [1, 2, 3, 4, 5]\n",
    "\n",
    "# Преобразуем данные списка из типа int в тип str\n",
    "new_list = map(str, work_list)\n",
    "\n",
    "print(list(new_list))"
   ]
  },
  {
   "cell_type": "markdown",
   "id": "32f1d675",
   "metadata": {},
   "source": [
    "## ЗАДАЧИ."
   ]
  },
  {
   "cell_type": "markdown",
   "id": "30112bc0",
   "metadata": {},
   "source": [
    "### Задача 1. ПЛОЩАДЬ КОМНАТ.\n",
    "* Создайте функцию для использования внутри map. \n",
    "* Функция должна добавлять к каждой комнате в списке rooms элемент с именем square содержащий её площадь."
   ]
  },
  {
   "cell_type": "markdown",
   "id": "6ae559ea",
   "metadata": {},
   "source": [
    "```python\n",
    "rooms = [\n",
    "    {\"name\": \"кухня\", \"length\": 6, \"width\": 4},\n",
    "    {\"name\": \"комната 1\", \"length\": 5.5, \"width\": 4.5},\n",
    "    {\"name\": \"комната 2\", \"length\": 5, \"width\": 4},\n",
    "    {\"name\": \"комната 3\", \"length\": 7, \"width\": 6.3},\n",
    "]\n",
    "\n",
    "rooms = map()\n",
    "```"
   ]
  },
  {
   "cell_type": "markdown",
   "id": "7905b0c2",
   "metadata": {},
   "source": [
    "### Задача 2. ТОЛЬКО ЧИСЛА\n",
    "* В списке **digits** содержатся строки с числами. Эти строки содержат ошибки: лишние пробелы, а также неправильные разделители целой и десятичной части.\n",
    "* Создайте функцию, которая сначала исправит ошибки в строках, а затем преобразует каждую строку в вещественное число. \n",
    "* Примените эту функцию ко всем элементам **digits** с помощью `map`.\n",
    "\n",
    "```python\n",
    "digits = [\"12\", \"145\", \"  45\", \"12.4\", \"45,14\", \"15 645\"]\n",
    "\n",
    "right_digits = map()\n",
    "```"
   ]
  },
  {
   "cell_type": "markdown",
   "id": "ef9ae930",
   "metadata": {},
   "source": [
    "## РЕШЕНИЯ."
   ]
  },
  {
   "cell_type": "markdown",
   "id": "a4f66b53",
   "metadata": {},
   "source": [
    "### Задача 1.  ПЛОЩАДЬ КОМНАТ - решение."
   ]
  },
  {
   "cell_type": "code",
   "execution_count": 12,
   "id": "9c144e90",
   "metadata": {
    "scrolled": true
   },
   "outputs": [
    {
     "name": "stdout",
     "output_type": "stream",
     "text": [
      "[{'name': 'кухня', 'length': 6, 'width': 4, 'square': 24}, {'name': 'комната 1', 'length': 5.5, 'width': 4.5, 'square': 24.75}, {'name': 'комната 2', 'length': 5, 'width': 4, 'square': 20}, {'name': 'комната 3', 'length': 7, 'width': 6.3, 'square': 44.1}]\n"
     ]
    }
   ],
   "source": [
    "rooms = [\n",
    "    {\"name\": \"кухня\", \"length\": 6, \"width\": 4},\n",
    "    {\"name\": \"комната 1\", \"length\": 5.5, \"width\": 4.5},\n",
    "    {\"name\": \"комната 2\", \"length\": 5, \"width\": 4},\n",
    "    {\"name\": \"комната 3\", \"length\": 7, \"width\": 6.3},\n",
    "]\n",
    "\n",
    "def square(room):\n",
    "\n",
    "    _square = room['length'] * room['width']\n",
    "    room['square'] = _square\n",
    "    return room\n",
    "\n",
    "\n",
    "rooms = map(square, rooms)\n",
    "\n",
    "print(list(rooms))"
   ]
  },
  {
   "cell_type": "markdown",
   "id": "80d9ebc3",
   "metadata": {},
   "source": [
    "### Задача 2.  ТОЛЬКО ЧИСЛА - решение."
   ]
  },
  {
   "cell_type": "code",
   "execution_count": 11,
   "id": "0519fdff",
   "metadata": {},
   "outputs": [
    {
     "name": "stdout",
     "output_type": "stream",
     "text": [
      "[12.0, 145.0, 45.0, 12.4, 45.14, 15645.0]\n"
     ]
    }
   ],
   "source": [
    "def transformation(digit):\n",
    "    elem = float(digit.strip().replace(' ', '').replace(',', '.'))\n",
    "    return elem\n",
    "\n",
    "digits = [\"12\", \"145\", \"  45\", \"12.4\", \"45,14\", \"15 645\"]\n",
    "\n",
    "right_digits = map(transformation, digits)\n",
    "\n",
    "print(list(right_digits))"
   ]
  },
  {
   "cell_type": "code",
   "execution_count": null,
   "id": "2f32fa47",
   "metadata": {},
   "outputs": [],
   "source": []
  }
 ],
 "metadata": {
  "kernelspec": {
   "display_name": "Python 3 (ipykernel)",
   "language": "python",
   "name": "python3"
  },
  "language_info": {
   "codemirror_mode": {
    "name": "ipython",
    "version": 3
   },
   "file_extension": ".py",
   "mimetype": "text/x-python",
   "name": "python",
   "nbconvert_exporter": "python",
   "pygments_lexer": "ipython3",
   "version": "3.10.9"
  }
 },
 "nbformat": 4,
 "nbformat_minor": 5
}
