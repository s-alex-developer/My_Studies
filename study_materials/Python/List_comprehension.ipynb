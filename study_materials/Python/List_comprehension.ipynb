{
 "cells": [
  {
   "cell_type": "markdown",
   "id": "0049118f",
   "metadata": {},
   "source": [
    "*Последние изменения внесены: 14.03.2023*"
   ]
  },
  {
   "cell_type": "markdown",
   "id": "d4422c5e",
   "metadata": {},
   "source": [
    "# List comprehension"
   ]
  },
  {
   "cell_type": "markdown",
   "id": "cabf401f",
   "metadata": {},
   "source": [
    "`List comprehension` (_\"Генератор списков\"_) - позволяет в одну строку кода заполнить список простыми или сложными значениями."
   ]
  },
  {
   "cell_type": "markdown",
   "id": "6e32093f",
   "metadata": {},
   "source": [
    "**Все генераторы списка строятся по следующему шаблону:**\n",
    "\n",
    "[ \"Выражение\"  **for**  \"Переменная\"  **in**  \"Коллекция\"  **if**  \"Условие\"  **and / or / not** \"Второе условие\"  ]\n",
    "\n",
    "    "
   ]
  },
  {
   "cell_type": "markdown",
   "id": "f0da362b",
   "metadata": {},
   "source": [
    "**1. Простые примеры:**"
   ]
  },
  {
   "cell_type": "code",
   "execution_count": 6,
   "id": "7d1afc52",
   "metadata": {},
   "outputs": [
    {
     "name": "stdout",
     "output_type": "stream",
     "text": [
      "[2, 2, 2, 2, 2, 2, 2]\n"
     ]
    }
   ],
   "source": [
    "my_list  = [ 2 for i in range(7)]\n",
    "print(my_list)"
   ]
  },
  {
   "cell_type": "code",
   "execution_count": 7,
   "id": "c1cbca94",
   "metadata": {},
   "outputs": [
    {
     "name": "stdout",
     "output_type": "stream",
     "text": [
      "[0, 1, 2, 3, 4, 5, 6]\n"
     ]
    }
   ],
   "source": [
    "my_list  = [ i for i in range(7)]\n",
    "print(my_list)"
   ]
  },
  {
   "cell_type": "code",
   "execution_count": 8,
   "id": "87ea70ad",
   "metadata": {},
   "outputs": [
    {
     "name": "stdout",
     "output_type": "stream",
     "text": [
      "[0, 1, 4, 9, 16, 25, 36]\n"
     ]
    }
   ],
   "source": [
    "my_list  = [ i ** 2 for i in range(7)]\n",
    "print(my_list)"
   ]
  },
  {
   "cell_type": "code",
   "execution_count": 9,
   "id": "b2a639dc",
   "metadata": {},
   "outputs": [
    {
     "name": "stdout",
     "output_type": "stream",
     "text": [
      "['a', 'b', 's']\n"
     ]
    }
   ],
   "source": [
    "my_list  = [ i for i in 'abc']\n",
    "print(my_list)"
   ]
  },
  {
   "cell_type": "code",
   "execution_count": 11,
   "id": "45c14916",
   "metadata": {},
   "outputs": [
    {
     "name": "stdout",
     "output_type": "stream",
     "text": [
      "['aaa', 'bbb', 'ccc']\n"
     ]
    }
   ],
   "source": [
    "my_list  = [ i * 3 for i in 'abc']\n",
    "print(my_list)"
   ]
  },
  {
   "cell_type": "code",
   "execution_count": 13,
   "id": "2b1f7ba2",
   "metadata": {},
   "outputs": [
    {
     "name": "stdout",
     "output_type": "stream",
     "text": [
      "[1, 2, 3, 4, 5]\n"
     ]
    }
   ],
   "source": [
    "my_list  = [ abs(i) for i in [1, 2, -3, -4, -5]]\n",
    "print(my_list)"
   ]
  },
  {
   "cell_type": "code",
   "execution_count": 14,
   "id": "8365eba0",
   "metadata": {},
   "outputs": [
    {
     "name": "stdout",
     "output_type": "stream",
     "text": [
      "[11, 22, 33, 44, 55]\n"
     ]
    }
   ],
   "source": [
    "string = '11 22 33 44 55'\n",
    "work_list = string.split()\n",
    "my_list  = [ int(i) for i in work_list]\n",
    "print(my_list)"
   ]
  },
  {
   "cell_type": "markdown",
   "id": "f2ce7bf8",
   "metadata": {},
   "source": [
    "**2. Примеры с логичесским условием:**"
   ]
  },
  {
   "cell_type": "code",
   "execution_count": 15,
   "id": "eed18344",
   "metadata": {},
   "outputs": [
    {
     "name": "stdout",
     "output_type": "stream",
     "text": [
      "[1, 2]\n"
     ]
    }
   ],
   "source": [
    "my_list  = [ i for i in [1, 2, -3, -4, -5] if i > 0]\n",
    "print(my_list)"
   ]
  },
  {
   "cell_type": "code",
   "execution_count": 30,
   "id": "ce8c2a90",
   "metadata": {},
   "outputs": [
    {
     "name": "stdout",
     "output_type": "stream",
     "text": [
      "[1]\n"
     ]
    }
   ],
   "source": [
    "my_list  = [ i for i in [1, 2, -3, -4, -5] if i > 0 and i < 2]\n",
    "print(my_list)"
   ]
  },
  {
   "cell_type": "code",
   "execution_count": null,
   "id": "1d31ed58",
   "metadata": {},
   "outputs": [],
   "source": []
  },
  {
   "cell_type": "markdown",
   "id": "decf52fc",
   "metadata": {},
   "source": [
    "**3. Пример с построением матрицы элементов:**"
   ]
  },
  {
   "cell_type": "code",
   "execution_count": 26,
   "id": "301f3127",
   "metadata": {},
   "outputs": [
    {
     "name": "stdout",
     "output_type": "stream",
     "text": [
      "[['x', 'x', 'x'], ['x', 'x', 'x'], ['x', 'x', 'x']]\n"
     ]
    }
   ],
   "source": [
    "a = 3\n",
    "b = 3\n",
    "square = [['x'] * a for i in range(b)]\n",
    "print(square)"
   ]
  },
  {
   "cell_type": "code",
   "execution_count": 27,
   "id": "3ad8ed22",
   "metadata": {},
   "outputs": [
    {
     "name": "stdout",
     "output_type": "stream",
     "text": [
      "['x', 'x', 'x']\n",
      "['x', 'x', 'x']\n",
      "['x', 'x', 'x']\n"
     ]
    }
   ],
   "source": [
    "a = 3\n",
    "b = 3\n",
    "square = [['x'] * a for i in range(b)]\n",
    "for line in square:\n",
    "    print(line)"
   ]
  },
  {
   "cell_type": "markdown",
   "id": "ba964df2",
   "metadata": {},
   "source": [
    "Изменение одного элемента:"
   ]
  },
  {
   "cell_type": "code",
   "execution_count": 29,
   "id": "4ac9c86f",
   "metadata": {},
   "outputs": [
    {
     "name": "stdout",
     "output_type": "stream",
     "text": [
      "['x', 'x', 'x']\n",
      "['x', 'O', 'x']\n",
      "['x', 'x', 'x']\n"
     ]
    }
   ],
   "source": [
    "a = 3\n",
    "b = 3\n",
    "square = [['x'] * a for i in range(b)]\n",
    "square[1][1] = 'O'\n",
    "for line in square:\n",
    "    print(line)"
   ]
  },
  {
   "cell_type": "markdown",
   "id": "e8b823f1",
   "metadata": {},
   "source": [
    "**4. Двойные циклы в генераторах списков:**"
   ]
  },
  {
   "cell_type": "code",
   "execution_count": 31,
   "id": "658dca82",
   "metadata": {},
   "outputs": [
    {
     "name": "stdout",
     "output_type": "stream",
     "text": [
      "[('a', 1), ('a', 2), ('a', 3), ('b', 1), ('b', 2), ('b', 3), ('c', 1), ('c', 2), ('c', 3)]\n"
     ]
    }
   ],
   "source": [
    "a = [(i, g) for i in 'abc' for g in [1, 2, 3]]\n",
    "print(a)"
   ]
  },
  {
   "cell_type": "markdown",
   "id": "2cd4a4b0",
   "metadata": {},
   "source": [
    "С логическим условием:"
   ]
  },
  {
   "cell_type": "code",
   "execution_count": 32,
   "id": "79600064",
   "metadata": {},
   "outputs": [
    {
     "name": "stdout",
     "output_type": "stream",
     "text": [
      "[6, 6, 9]\n"
     ]
    }
   ],
   "source": [
    "a = [i * g for i in [1, 2, 3] for g in [1, 2, 3] if i * g > 5]\n",
    "print(a)"
   ]
  },
  {
   "cell_type": "code",
   "execution_count": null,
   "id": "6a86cdac",
   "metadata": {},
   "outputs": [],
   "source": []
  }
 ],
 "metadata": {
  "kernelspec": {
   "display_name": "Python 3 (ipykernel)",
   "language": "python",
   "name": "python3"
  },
  "language_info": {
   "codemirror_mode": {
    "name": "ipython",
    "version": 3
   },
   "file_extension": ".py",
   "mimetype": "text/x-python",
   "name": "python",
   "nbconvert_exporter": "python",
   "pygments_lexer": "ipython3",
   "version": "3.9.13"
  }
 },
 "nbformat": 4,
 "nbformat_minor": 5
}
